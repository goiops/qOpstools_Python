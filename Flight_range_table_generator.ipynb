{
 "cells": [
  {
   "cell_type": "markdown",
   "metadata": {},
   "source": [
    "This tool is used for creating the flight range table for the Charters App to reference in Qlik\n"
   ]
  },
  {
   "cell_type": "markdown",
   "metadata": {},
   "source": [
    "#00 Functions "
   ]
  },
  {
   "cell_type": "code",
   "execution_count": 1,
   "metadata": {},
   "outputs": [],
   "source": [
    "import pandas as pd\n",
    "import numpy as np"
   ]
  },
  {
   "cell_type": "markdown",
   "metadata": {},
   "source": [
    "#01 Ingestion  "
   ]
  },
  {
   "cell_type": "code",
   "execution_count": 2,
   "metadata": {},
   "outputs": [
    {
     "name": "stdout",
     "output_type": "stream",
     "text": [
      "['Flight ranges', 'Flight_ranges(2)', 'Routes', 'Routes(2)']\n"
     ]
    }
   ],
   "source": [
    "file= r'Charters_data.xlsx'\n",
    "xls=pd.ExcelFile(file)\n",
    "print(xls.sheet_names)\n",
    "\n",
    "#client_data = xls.parse(\"Flight_ranges(2)\")\n",
    "#routes = xls.parse(\"Routes(2)\",header=0)\n",
    "\n",
    "df1 = xls.parse(\"Flight ranges\",header=0)\n",
    "df2 = xls.parse(\"Routes\",header=0)"
   ]
  },
  {
   "cell_type": "markdown",
   "metadata": {},
   "source": [
    "#02 Investigation & Transformation  "
   ]
  },
  {
   "cell_type": "code",
   "execution_count": 3,
   "metadata": {},
   "outputs": [
    {
     "data": {
      "text/plain": [
       "Index(['Adhoc', 1300, 1339, 'Adhoc.1', 'Unnamed: 4', 1, 0], dtype='object')"
      ]
     },
     "execution_count": 3,
     "metadata": {},
     "output_type": "execute_result"
    }
   ],
   "source": [
    "df1.columns"
   ]
  },
  {
   "cell_type": "code",
   "execution_count": 4,
   "metadata": {},
   "outputs": [
    {
     "data": {
      "text/html": [
       "<div>\n",
       "<style scoped>\n",
       "    .dataframe tbody tr th:only-of-type {\n",
       "        vertical-align: middle;\n",
       "    }\n",
       "\n",
       "    .dataframe tbody tr th {\n",
       "        vertical-align: top;\n",
       "    }\n",
       "\n",
       "    .dataframe thead th {\n",
       "        text-align: right;\n",
       "    }\n",
       "</style>\n",
       "<table border=\"1\" class=\"dataframe\">\n",
       "  <thead>\n",
       "    <tr style=\"text-align: right;\">\n",
       "      <th></th>\n",
       "      <th>Adhoc</th>\n",
       "      <th>1300</th>\n",
       "      <th>1339</th>\n",
       "      <th>Adhoc.1</th>\n",
       "      <th>Unnamed: 4</th>\n",
       "      <th>1</th>\n",
       "      <th>0</th>\n",
       "    </tr>\n",
       "  </thead>\n",
       "  <tbody>\n",
       "    <tr>\n",
       "      <td>0</td>\n",
       "      <td>Adhoc</td>\n",
       "      <td>1340</td>\n",
       "      <td>1349</td>\n",
       "      <td>Adhoc</td>\n",
       "      <td>NaN</td>\n",
       "      <td>1.0</td>\n",
       "      <td>0.0</td>\n",
       "    </tr>\n",
       "    <tr>\n",
       "      <td>1</td>\n",
       "      <td>Roy Hill</td>\n",
       "      <td>1350</td>\n",
       "      <td>1359</td>\n",
       "      <td>Roy Hill</td>\n",
       "      <td>NaN</td>\n",
       "      <td>1.0</td>\n",
       "      <td>0.0</td>\n",
       "    </tr>\n",
       "    <tr>\n",
       "      <td>2</td>\n",
       "      <td>Rio Tinto</td>\n",
       "      <td>1360</td>\n",
       "      <td>1379</td>\n",
       "      <td>Rio Tinto</td>\n",
       "      <td>NaN</td>\n",
       "      <td>1.0</td>\n",
       "      <td>0.0</td>\n",
       "    </tr>\n",
       "    <tr>\n",
       "      <td>3</td>\n",
       "      <td>Fortescue</td>\n",
       "      <td>1380</td>\n",
       "      <td>1391</td>\n",
       "      <td>Fortescue</td>\n",
       "      <td>NaN</td>\n",
       "      <td>1.0</td>\n",
       "      <td>0.0</td>\n",
       "    </tr>\n",
       "    <tr>\n",
       "      <td>4</td>\n",
       "      <td>Fortescue</td>\n",
       "      <td>1392</td>\n",
       "      <td>1399</td>\n",
       "      <td>Fortescue</td>\n",
       "      <td>NaN</td>\n",
       "      <td>227.0</td>\n",
       "      <td>226.0</td>\n",
       "    </tr>\n",
       "  </tbody>\n",
       "</table>\n",
       "</div>"
      ],
      "text/plain": [
       "       Adhoc  1300  1339    Adhoc.1  Unnamed: 4      1      0\n",
       "0      Adhoc  1340  1349      Adhoc         NaN    1.0    0.0\n",
       "1   Roy Hill  1350  1359   Roy Hill         NaN    1.0    0.0\n",
       "2  Rio Tinto  1360  1379  Rio Tinto         NaN    1.0    0.0\n",
       "3  Fortescue  1380  1391  Fortescue         NaN    1.0    0.0\n",
       "4  Fortescue  1392  1399  Fortescue         NaN  227.0  226.0"
      ]
     },
     "execution_count": 4,
     "metadata": {},
     "output_type": "execute_result"
    }
   ],
   "source": [
    "df1.head()"
   ]
  },
  {
   "cell_type": "code",
   "execution_count": 5,
   "metadata": {},
   "outputs": [
    {
     "data": {
      "text/plain": [
       "Index(['Departure Port', 'Arrival Port', 'Route'], dtype='object')"
      ]
     },
     "execution_count": 5,
     "metadata": {},
     "output_type": "execute_result"
    }
   ],
   "source": [
    "#convert to pandas DataFrame\n",
    "#df2= pd.DataFrame(client_data)\n",
    "df2.shape\n",
    "df2.columns"
   ]
  },
  {
   "cell_type": "code",
   "execution_count": 6,
   "metadata": {},
   "outputs": [
    {
     "name": "stdout",
     "output_type": "stream",
     "text": [
      "[['Adhoc', 1340, 1349], ['Roy Hill', 1350, 1359], ['Rio Tinto', 1360, 1379], ['Fortescue', 1380, 1391], ['Fortescue', 1392, 1399], ['BHP', 1626, 1629], ['Fortescue', 1630, 1639], ['Roy Hill ', 1660, 1669], ['Fortescue', 1670, 1699], ['Adhoc', 1722, 1748], ['Rio Tinto', 1856, 1885], ['Rio Tinto', 1950, 1955], ['Roy Hill ', 1956, 1959], ['Fortescue', 1960, 1969], ['Fortescue', 1970, 1979], ['Fortescue', 1980, 1985], ['Roy Hill ', 1986, 1989], ['BMA', 2581, 2599], ['Adhoc', 2606, 2611], ['Adhoc', 2612, 2617], ['Saracen', 2618, 2623], ['Adhoc', 2624, 2629], ['Origin', 2720, 2729], ['Adhoc', 2738, 2753], ['BMA', 2754, 2769], ['BHP', 2770, 2779], ['Adhoc', 2780, 2785], ['Adhoc', 2786, 2789], ['Adhoc', 2790, 2793], ['BHP', 2794, 2799], ['Rio Tinto', 2840, 2845], ['BHP', 2846, 2849], ['Adhoc', 2850, 2855], ['Rio Tinto', 2856, 2879], ['Adhoc', 2880, 2889], ['Adhoc', 2890, 2893], ['Adhoc', 2894, 2899], ['Rio Tinto', 2910, 2919], ['Fortescue', 2920, 2931], ['Roy Hill ', 2932, 2937], ['Roy Hill ', 2938, 2943], ['Roy Hill ', 2944, 2949], ['Fortescue', 2950, 2957], ['Fortescue', 2958, 2963], ['Fortescue', 2964, 2969]]\n"
     ]
    }
   ],
   "source": [
    "#Converts dataframe to list\n",
    "flight_range = df1.iloc[:,0:3].values.tolist()\n",
    "print(flight_range)"
   ]
  },
  {
   "cell_type": "code",
   "execution_count": 7,
   "metadata": {},
   "outputs": [],
   "source": [
    "#creates new rows of data\n",
    "def parse_data(input):\n",
    "    client = input[0]\n",
    "    from_ = int(input[1])\n",
    "    to_ = int(input[2])+1\n",
    "    dict = {}\n",
    "    for i in range(from_,to_):\n",
    "        dict[i] = client\n",
    "    return dict\n",
    "\n",
    "#iterates through and runs parse_data on each row from the source data\n",
    "def process_series(list):\n",
    "    output = {}\n",
    "    for x in list:\n",
    "        y = parse_data(x)\n",
    "        output.update(y)\n",
    "    return output"
   ]
  },
  {
   "cell_type": "code",
   "execution_count": 8,
   "metadata": {},
   "outputs": [
    {
     "name": "stdout",
     "output_type": "stream",
     "text": [
      "{1340: 'Adhoc', 1341: 'Adhoc', 1342: 'Adhoc', 1343: 'Adhoc', 1344: 'Adhoc', 1345: 'Adhoc', 1346: 'Adhoc', 1347: 'Adhoc', 1348: 'Adhoc', 1349: 'Adhoc', 1350: 'Roy Hill', 1351: 'Roy Hill', 1352: 'Roy Hill', 1353: 'Roy Hill', 1354: 'Roy Hill', 1355: 'Roy Hill', 1356: 'Roy Hill', 1357: 'Roy Hill', 1358: 'Roy Hill', 1359: 'Roy Hill', 1360: 'Rio Tinto', 1361: 'Rio Tinto', 1362: 'Rio Tinto', 1363: 'Rio Tinto', 1364: 'Rio Tinto', 1365: 'Rio Tinto', 1366: 'Rio Tinto', 1367: 'Rio Tinto', 1368: 'Rio Tinto', 1369: 'Rio Tinto', 1370: 'Rio Tinto', 1371: 'Rio Tinto', 1372: 'Rio Tinto', 1373: 'Rio Tinto', 1374: 'Rio Tinto', 1375: 'Rio Tinto', 1376: 'Rio Tinto', 1377: 'Rio Tinto', 1378: 'Rio Tinto', 1379: 'Rio Tinto', 1380: 'Fortescue', 1381: 'Fortescue', 1382: 'Fortescue', 1383: 'Fortescue', 1384: 'Fortescue', 1385: 'Fortescue', 1386: 'Fortescue', 1387: 'Fortescue', 1388: 'Fortescue', 1389: 'Fortescue', 1390: 'Fortescue', 1391: 'Fortescue', 1392: 'Fortescue', 1393: 'Fortescue', 1394: 'Fortescue', 1395: 'Fortescue', 1396: 'Fortescue', 1397: 'Fortescue', 1398: 'Fortescue', 1399: 'Fortescue', 1626: 'BHP', 1627: 'BHP', 1628: 'BHP', 1629: 'BHP', 1630: 'Fortescue', 1631: 'Fortescue', 1632: 'Fortescue', 1633: 'Fortescue', 1634: 'Fortescue', 1635: 'Fortescue', 1636: 'Fortescue', 1637: 'Fortescue', 1638: 'Fortescue', 1639: 'Fortescue', 1660: 'Roy Hill ', 1661: 'Roy Hill ', 1662: 'Roy Hill ', 1663: 'Roy Hill ', 1664: 'Roy Hill ', 1665: 'Roy Hill ', 1666: 'Roy Hill ', 1667: 'Roy Hill ', 1668: 'Roy Hill ', 1669: 'Roy Hill ', 1670: 'Fortescue', 1671: 'Fortescue', 1672: 'Fortescue', 1673: 'Fortescue', 1674: 'Fortescue', 1675: 'Fortescue', 1676: 'Fortescue', 1677: 'Fortescue', 1678: 'Fortescue', 1679: 'Fortescue', 1680: 'Fortescue', 1681: 'Fortescue', 1682: 'Fortescue', 1683: 'Fortescue', 1684: 'Fortescue', 1685: 'Fortescue', 1686: 'Fortescue', 1687: 'Fortescue', 1688: 'Fortescue', 1689: 'Fortescue', 1690: 'Fortescue', 1691: 'Fortescue', 1692: 'Fortescue', 1693: 'Fortescue', 1694: 'Fortescue', 1695: 'Fortescue', 1696: 'Fortescue', 1697: 'Fortescue', 1698: 'Fortescue', 1699: 'Fortescue', 1722: 'Adhoc', 1723: 'Adhoc', 1724: 'Adhoc', 1725: 'Adhoc', 1726: 'Adhoc', 1727: 'Adhoc', 1728: 'Adhoc', 1729: 'Adhoc', 1730: 'Adhoc', 1731: 'Adhoc', 1732: 'Adhoc', 1733: 'Adhoc', 1734: 'Adhoc', 1735: 'Adhoc', 1736: 'Adhoc', 1737: 'Adhoc', 1738: 'Adhoc', 1739: 'Adhoc', 1740: 'Adhoc', 1741: 'Adhoc', 1742: 'Adhoc', 1743: 'Adhoc', 1744: 'Adhoc', 1745: 'Adhoc', 1746: 'Adhoc', 1747: 'Adhoc', 1748: 'Adhoc', 1856: 'Rio Tinto', 1857: 'Rio Tinto', 1858: 'Rio Tinto', 1859: 'Rio Tinto', 1860: 'Rio Tinto', 1861: 'Rio Tinto', 1862: 'Rio Tinto', 1863: 'Rio Tinto', 1864: 'Rio Tinto', 1865: 'Rio Tinto', 1866: 'Rio Tinto', 1867: 'Rio Tinto', 1868: 'Rio Tinto', 1869: 'Rio Tinto', 1870: 'Rio Tinto', 1871: 'Rio Tinto', 1872: 'Rio Tinto', 1873: 'Rio Tinto', 1874: 'Rio Tinto', 1875: 'Rio Tinto', 1876: 'Rio Tinto', 1877: 'Rio Tinto', 1878: 'Rio Tinto', 1879: 'Rio Tinto', 1880: 'Rio Tinto', 1881: 'Rio Tinto', 1882: 'Rio Tinto', 1883: 'Rio Tinto', 1884: 'Rio Tinto', 1885: 'Rio Tinto', 1950: 'Rio Tinto', 1951: 'Rio Tinto', 1952: 'Rio Tinto', 1953: 'Rio Tinto', 1954: 'Rio Tinto', 1955: 'Rio Tinto', 1956: 'Roy Hill ', 1957: 'Roy Hill ', 1958: 'Roy Hill ', 1959: 'Roy Hill ', 1960: 'Fortescue', 1961: 'Fortescue', 1962: 'Fortescue', 1963: 'Fortescue', 1964: 'Fortescue', 1965: 'Fortescue', 1966: 'Fortescue', 1967: 'Fortescue', 1968: 'Fortescue', 1969: 'Fortescue', 1970: 'Fortescue', 1971: 'Fortescue', 1972: 'Fortescue', 1973: 'Fortescue', 1974: 'Fortescue', 1975: 'Fortescue', 1976: 'Fortescue', 1977: 'Fortescue', 1978: 'Fortescue', 1979: 'Fortescue', 1980: 'Fortescue', 1981: 'Fortescue', 1982: 'Fortescue', 1983: 'Fortescue', 1984: 'Fortescue', 1985: 'Fortescue', 1986: 'Roy Hill ', 1987: 'Roy Hill ', 1988: 'Roy Hill ', 1989: 'Roy Hill ', 2581: 'BMA', 2582: 'BMA', 2583: 'BMA', 2584: 'BMA', 2585: 'BMA', 2586: 'BMA', 2587: 'BMA', 2588: 'BMA', 2589: 'BMA', 2590: 'BMA', 2591: 'BMA', 2592: 'BMA', 2593: 'BMA', 2594: 'BMA', 2595: 'BMA', 2596: 'BMA', 2597: 'BMA', 2598: 'BMA', 2599: 'BMA', 2606: 'Adhoc', 2607: 'Adhoc', 2608: 'Adhoc', 2609: 'Adhoc', 2610: 'Adhoc', 2611: 'Adhoc', 2612: 'Adhoc', 2613: 'Adhoc', 2614: 'Adhoc', 2615: 'Adhoc', 2616: 'Adhoc', 2617: 'Adhoc', 2618: 'Saracen', 2619: 'Saracen', 2620: 'Saracen', 2621: 'Saracen', 2622: 'Saracen', 2623: 'Saracen', 2624: 'Adhoc', 2625: 'Adhoc', 2626: 'Adhoc', 2627: 'Adhoc', 2628: 'Adhoc', 2629: 'Adhoc', 2720: 'Origin', 2721: 'Origin', 2722: 'Origin', 2723: 'Origin', 2724: 'Origin', 2725: 'Origin', 2726: 'Origin', 2727: 'Origin', 2728: 'Origin', 2729: 'Origin', 2738: 'Adhoc', 2739: 'Adhoc', 2740: 'Adhoc', 2741: 'Adhoc', 2742: 'Adhoc', 2743: 'Adhoc', 2744: 'Adhoc', 2745: 'Adhoc', 2746: 'Adhoc', 2747: 'Adhoc', 2748: 'Adhoc', 2749: 'Adhoc', 2750: 'Adhoc', 2751: 'Adhoc', 2752: 'Adhoc', 2753: 'Adhoc', 2754: 'BMA', 2755: 'BMA', 2756: 'BMA', 2757: 'BMA', 2758: 'BMA', 2759: 'BMA', 2760: 'BMA', 2761: 'BMA', 2762: 'BMA', 2763: 'BMA', 2764: 'BMA', 2765: 'BMA', 2766: 'BMA', 2767: 'BMA', 2768: 'BMA', 2769: 'BMA', 2770: 'BHP', 2771: 'BHP', 2772: 'BHP', 2773: 'BHP', 2774: 'BHP', 2775: 'BHP', 2776: 'BHP', 2777: 'BHP', 2778: 'BHP', 2779: 'BHP', 2780: 'Adhoc', 2781: 'Adhoc', 2782: 'Adhoc', 2783: 'Adhoc', 2784: 'Adhoc', 2785: 'Adhoc', 2786: 'Adhoc', 2787: 'Adhoc', 2788: 'Adhoc', 2789: 'Adhoc', 2790: 'Adhoc', 2791: 'Adhoc', 2792: 'Adhoc', 2793: 'Adhoc', 2794: 'BHP', 2795: 'BHP', 2796: 'BHP', 2797: 'BHP', 2798: 'BHP', 2799: 'BHP', 2840: 'Rio Tinto', 2841: 'Rio Tinto', 2842: 'Rio Tinto', 2843: 'Rio Tinto', 2844: 'Rio Tinto', 2845: 'Rio Tinto', 2846: 'BHP', 2847: 'BHP', 2848: 'BHP', 2849: 'BHP', 2850: 'Adhoc', 2851: 'Adhoc', 2852: 'Adhoc', 2853: 'Adhoc', 2854: 'Adhoc', 2855: 'Adhoc', 2856: 'Rio Tinto', 2857: 'Rio Tinto', 2858: 'Rio Tinto', 2859: 'Rio Tinto', 2860: 'Rio Tinto', 2861: 'Rio Tinto', 2862: 'Rio Tinto', 2863: 'Rio Tinto', 2864: 'Rio Tinto', 2865: 'Rio Tinto', 2866: 'Rio Tinto', 2867: 'Rio Tinto', 2868: 'Rio Tinto', 2869: 'Rio Tinto', 2870: 'Rio Tinto', 2871: 'Rio Tinto', 2872: 'Rio Tinto', 2873: 'Rio Tinto', 2874: 'Rio Tinto', 2875: 'Rio Tinto', 2876: 'Rio Tinto', 2877: 'Rio Tinto', 2878: 'Rio Tinto', 2879: 'Rio Tinto', 2880: 'Adhoc', 2881: 'Adhoc', 2882: 'Adhoc', 2883: 'Adhoc', 2884: 'Adhoc', 2885: 'Adhoc', 2886: 'Adhoc', 2887: 'Adhoc', 2888: 'Adhoc', 2889: 'Adhoc', 2890: 'Adhoc', 2891: 'Adhoc', 2892: 'Adhoc', 2893: 'Adhoc', 2894: 'Adhoc', 2895: 'Adhoc', 2896: 'Adhoc', 2897: 'Adhoc', 2898: 'Adhoc', 2899: 'Adhoc', 2910: 'Rio Tinto', 2911: 'Rio Tinto', 2912: 'Rio Tinto', 2913: 'Rio Tinto', 2914: 'Rio Tinto', 2915: 'Rio Tinto', 2916: 'Rio Tinto', 2917: 'Rio Tinto', 2918: 'Rio Tinto', 2919: 'Rio Tinto', 2920: 'Fortescue', 2921: 'Fortescue', 2922: 'Fortescue', 2923: 'Fortescue', 2924: 'Fortescue', 2925: 'Fortescue', 2926: 'Fortescue', 2927: 'Fortescue', 2928: 'Fortescue', 2929: 'Fortescue', 2930: 'Fortescue', 2931: 'Fortescue', 2932: 'Roy Hill ', 2933: 'Roy Hill ', 2934: 'Roy Hill ', 2935: 'Roy Hill ', 2936: 'Roy Hill ', 2937: 'Roy Hill ', 2938: 'Roy Hill ', 2939: 'Roy Hill ', 2940: 'Roy Hill ', 2941: 'Roy Hill ', 2942: 'Roy Hill ', 2943: 'Roy Hill ', 2944: 'Roy Hill ', 2945: 'Roy Hill ', 2946: 'Roy Hill ', 2947: 'Roy Hill ', 2948: 'Roy Hill ', 2949: 'Roy Hill ', 2950: 'Fortescue', 2951: 'Fortescue', 2952: 'Fortescue', 2953: 'Fortescue', 2954: 'Fortescue', 2955: 'Fortescue', 2956: 'Fortescue', 2957: 'Fortescue', 2958: 'Fortescue', 2959: 'Fortescue', 2960: 'Fortescue', 2961: 'Fortescue', 2962: 'Fortescue', 2963: 'Fortescue', 2964: 'Fortescue', 2965: 'Fortescue', 2966: 'Fortescue', 2967: 'Fortescue', 2968: 'Fortescue', 2969: 'Fortescue'}\n"
     ]
    }
   ],
   "source": [
    "flight_range_dict = process_series(flight_range)\n",
    "print(flight_range_dict)"
   ]
  },
  {
   "cell_type": "code",
   "execution_count": 9,
   "metadata": {},
   "outputs": [
    {
     "name": "stdout",
     "output_type": "stream",
     "text": [
      "      Flight Number Charter Clients\n",
      "1340           1340           Adhoc\n",
      "1341           1341           Adhoc\n",
      "1342           1342           Adhoc\n",
      "1343           1343           Adhoc\n",
      "1344           1344           Adhoc\n",
      "...             ...             ...\n",
      "2965           2965       Fortescue\n",
      "2966           2966       Fortescue\n",
      "2967           2967       Fortescue\n",
      "2968           2968       Fortescue\n",
      "2969           2969       Fortescue\n",
      "\n",
      "[446 rows x 2 columns]\n"
     ]
    },
    {
     "data": {
      "text/plain": [
       "pandas.core.frame.DataFrame"
      ]
     },
     "execution_count": 9,
     "metadata": {},
     "output_type": "execute_result"
    }
   ],
   "source": [
    "#converts dictionary to dataFrame\n",
    "output_file = pd.DataFrame.from_dict(flight_range_dict, orient = 'index')\n",
    "output_file.columns = ['Charter Clients']\n",
    "output_file['Flight Number'] = output_file.index\n",
    "output_file= output_file[['Flight Number','Charter Clients']]\n",
    "print(output_file)\n",
    "type(output_file)"
   ]
  },
  {
   "cell_type": "markdown",
   "metadata": {},
   "source": [
    "#03 EDA\n",
    "not required in this instance"
   ]
  },
  {
   "cell_type": "markdown",
   "metadata": {},
   "source": [
    "#04 Modelling  "
   ]
  },
  {
   "cell_type": "code",
   "execution_count": 10,
   "metadata": {},
   "outputs": [
    {
     "name": "stdout",
     "output_type": "stream",
     "text": [
      "   Flight_Num  dow dep_port\n",
      "0        1340  Mon      ABM\n",
      "1        1340  Mon      ABX\n",
      "2        1340  Mon      ADL\n",
      "3        1340  Mon      AKL\n",
      "4        1340  Mon      ALH\n",
      "        Flight_Num  dow dep_port\n",
      "380879        2969  Sun      WTB\n",
      "380880        2969  Sun      WWI\n",
      "380881        2969  Sun      WYA\n",
      "380882        2969  Sun      XTG\n",
      "380883        2969  Sun      ZNE\n"
     ]
    },
    {
     "data": {
      "text/plain": [
       "pandas.core.frame.DataFrame"
      ]
     },
     "execution_count": 10,
     "metadata": {},
     "output_type": "execute_result"
    }
   ],
   "source": [
    "#iterate over tables to create flight range table\n",
    "dow = ['Mon','Tue','Wed','Thu','Fri','Sat','Sun']\n",
    "routes_list = df2['Departure Port'].unique()\n",
    "\n",
    "output = []\n",
    "\n",
    "for row in output_file['Flight Number']:\n",
    "     for day in dow:\n",
    "        for dep in routes_list:\n",
    "            output.append([row,day,dep])\n",
    "        \n",
    "df3= pd.DataFrame(output)\n",
    "df3.columns = ['Flight_Num','dow', 'dep_port']\n",
    "\n",
    "#print(df3.shape)\n",
    "print(df3.head())\n",
    "print(df3.tail())\n",
    "#print(df3.columns)\n",
    "type(df3)"
   ]
  },
  {
   "cell_type": "code",
   "execution_count": 11,
   "metadata": {},
   "outputs": [
    {
     "name": "stdout",
     "output_type": "stream",
     "text": [
      "   Flight Number Charter Clients WeekDay Departure Port IATA\n",
      "0           1340           Adhoc     Mon                 ABM\n",
      "1           1340           Adhoc     Mon                 ABX\n",
      "2           1340           Adhoc     Mon                 ADL\n",
      "3           1340           Adhoc     Mon                 AKL\n",
      "4           1340           Adhoc     Mon                 ALH\n",
      "        Flight Number Charter Clients WeekDay Departure Port IATA\n",
      "380879           2969       Fortescue     Sun                 WTB\n",
      "380880           2969       Fortescue     Sun                 WWI\n",
      "380881           2969       Fortescue     Sun                 WYA\n",
      "380882           2969       Fortescue     Sun                 XTG\n",
      "380883           2969       Fortescue     Sun                 ZNE\n"
     ]
    }
   ],
   "source": [
    "#merge dataframes - client data with routes\n",
    "#output_file is the client reference table containing the 'Flight Number', and 'Charter Clients'\n",
    "#df3 is the flight range table containing the 'Flight_Num ','dow' and 'dep_port'\n",
    "\n",
    "result2 = output_file.merge(df3,how='outer',left_on=['Flight Number'],right_on=['Flight_Num']).drop(['Flight_Num'], axis= 1)\n",
    "\n",
    "#change column names\n",
    "#result2.columns = ['Flight Number','WeekDay','Departure Port IATA','Charter Clients']\n",
    "result2.columns = ['Flight Number','Charter Clients','WeekDay','Departure Port IATA']\n",
    "\n",
    "# rearrange order of columns\n",
    "#result2= result2[['Flight Number','Charter Clients','WeekDay','Departure Port IATA']]\n",
    "\n",
    "#print(result2.shape)\n",
    "print(result2.head())\n",
    "#print(result2.columns)\n",
    "print(result2.tail())"
   ]
  },
  {
   "cell_type": "code",
   "execution_count": 12,
   "metadata": {},
   "outputs": [
    {
     "name": "stdout",
     "output_type": "stream",
     "text": [
      "0    1340-Mon\n",
      "1    1340-Mon\n",
      "2    1340-Mon\n",
      "3    1340-Mon\n",
      "4    1340-Mon\n",
      "Name: Flight_No-DOW, dtype: object\n",
      "0    1340ABMMon\n",
      "1    1340ABXMon\n",
      "2    1340ADLMon\n",
      "3    1340AKLMon\n",
      "4    1340ALHMon\n",
      "Name: %MKey_FLT_DEP_CLIENTS%, dtype: object\n"
     ]
    }
   ],
   "source": [
    "#create calculated fields\n",
    "\n",
    "result2['Flight_No-DOW'] = result2['Flight Number'].astype(str)+\"-\"+result2['WeekDay']\n",
    "print(result2['Flight_No-DOW'].head())\n",
    "\n",
    "result2['%MKey_FLT_DEP_CLIENTS%'] = result2['Flight Number'].astype(str)+result2['Departure Port IATA']+result2['WeekDay']\n",
    "print(result2['%MKey_FLT_DEP_CLIENTS%'].head())"
   ]
  },
  {
   "cell_type": "markdown",
   "metadata": {},
   "source": [
    "#05 Output\n"
   ]
  },
  {
   "cell_type": "code",
   "execution_count": 13,
   "metadata": {},
   "outputs": [],
   "source": [
    "#export data to csv\n",
    "#remember to update the file name\n",
    "\n",
    "file_name_loc = r'Charters_data_out(test).csv'\n",
    "\n",
    "result2.to_csv(file_name_loc, index = False, header=True)"
   ]
  }
 ],
 "metadata": {
  "kernelspec": {
   "display_name": "Python 3",
   "language": "python",
   "name": "python3"
  },
  "language_info": {
   "codemirror_mode": {
    "name": "ipython",
    "version": 3
   },
   "file_extension": ".py",
   "mimetype": "text/x-python",
   "name": "python",
   "nbconvert_exporter": "python",
   "pygments_lexer": "ipython3",
   "version": "3.7.4"
  }
 },
 "nbformat": 4,
 "nbformat_minor": 2
}
