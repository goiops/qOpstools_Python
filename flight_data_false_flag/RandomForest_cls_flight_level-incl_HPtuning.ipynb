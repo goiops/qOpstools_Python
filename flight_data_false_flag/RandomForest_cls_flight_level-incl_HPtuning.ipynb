{
 "cells": [
  {
   "cell_type": "code",
   "execution_count": 1,
   "metadata": {},
   "outputs": [],
   "source": [
    "#pip install imblearn"
   ]
  },
  {
   "cell_type": "markdown",
   "metadata": {},
   "source": [
    "## Import packages\n"
   ]
  },
  {
   "cell_type": "code",
   "execution_count": 2,
   "metadata": {},
   "outputs": [],
   "source": [
    "import pandas as pd\n",
    "import seaborn as sns\n",
    "import numpy as np\n",
    "import matplotlib.pyplot as plt"
   ]
  },
  {
   "cell_type": "markdown",
   "metadata": {},
   "source": [
    "## Import data"
   ]
  },
  {
   "cell_type": "code",
   "execution_count": 3,
   "metadata": {},
   "outputs": [
    {
     "data": {
      "text/html": [
       "<div>\n",
       "<style scoped>\n",
       "    .dataframe tbody tr th:only-of-type {\n",
       "        vertical-align: middle;\n",
       "    }\n",
       "\n",
       "    .dataframe tbody tr th {\n",
       "        vertical-align: top;\n",
       "    }\n",
       "\n",
       "    .dataframe thead th {\n",
       "        text-align: right;\n",
       "    }\n",
       "</style>\n",
       "<table border=\"1\" class=\"dataframe\">\n",
       "  <thead>\n",
       "    <tr style=\"text-align: right;\">\n",
       "      <th></th>\n",
       "      <th>flight_date_exact</th>\n",
       "      <th>tail_number</th>\n",
       "      <th>takeoff_airport_code</th>\n",
       "      <th>landing_airport_code</th>\n",
       "      <th>p14_event_record</th>\n",
       "      <th>p14_event_type</th>\n",
       "      <th>p14_severity</th>\n",
       "      <th>p14_false_positive</th>\n",
       "      <th>p14_start_of_event_10_seconds_seconds_from_start_of_file</th>\n",
       "      <th>p14_end_of_event_10_seconds_seconds_from_start_of_file</th>\n",
       "      <th>p14_data_dropouts_seconds</th>\n",
       "      <th>p14_error_b_w_gmt_and_recorded_time_around_event_percent</th>\n",
       "      <th>p14_estimated_nav_error_at_start_of_event_nm</th>\n",
       "      <th>p14_standard_deviation_of_sample_rate_of_gmt_event_interval_30_seconds_hz</th>\n",
       "      <th>p14_flap_handle_position_at_start_of_event</th>\n",
       "      <th>p14_speed_brake_handle_position_at_start_of_event_deg</th>\n",
       "      <th>p14_flap_position_at_start_of_event_deg_ted</th>\n",
       "      <th>target</th>\n",
       "    </tr>\n",
       "    <tr>\n",
       "      <th>flight_record</th>\n",
       "      <th></th>\n",
       "      <th></th>\n",
       "      <th></th>\n",
       "      <th></th>\n",
       "      <th></th>\n",
       "      <th></th>\n",
       "      <th></th>\n",
       "      <th></th>\n",
       "      <th></th>\n",
       "      <th></th>\n",
       "      <th></th>\n",
       "      <th></th>\n",
       "      <th></th>\n",
       "      <th></th>\n",
       "      <th></th>\n",
       "      <th></th>\n",
       "      <th></th>\n",
       "      <th></th>\n",
       "    </tr>\n",
       "  </thead>\n",
       "  <tbody>\n",
       "    <tr>\n",
       "      <td>2869387</td>\n",
       "      <td>25/02/2020 6:13</td>\n",
       "      <td>VH-VXD</td>\n",
       "      <td>YPPH</td>\n",
       "      <td>YPAD</td>\n",
       "      <td>40509975</td>\n",
       "      <td>Airborne Speed High</td>\n",
       "      <td>Level 2</td>\n",
       "      <td>Not a False Positive</td>\n",
       "      <td>609.00</td>\n",
       "      <td>629.00</td>\n",
       "      <td>0.0</td>\n",
       "      <td>-0.000095</td>\n",
       "      <td>0.024290</td>\n",
       "      <td>0</td>\n",
       "      <td>5.0</td>\n",
       "      <td>0.641989</td>\n",
       "      <td>5.203770</td>\n",
       "      <td>0</td>\n",
       "    </tr>\n",
       "    <tr>\n",
       "      <td>2869366</td>\n",
       "      <td>25/02/2020 7:03</td>\n",
       "      <td>VH-VYF</td>\n",
       "      <td>YMML</td>\n",
       "      <td>YSSY</td>\n",
       "      <td>40509984</td>\n",
       "      <td>High Vertical Acceleration at landing</td>\n",
       "      <td>Level 2</td>\n",
       "      <td>Not a False Positive</td>\n",
       "      <td>5611.25</td>\n",
       "      <td>5637.25</td>\n",
       "      <td>2.0</td>\n",
       "      <td>-0.000436</td>\n",
       "      <td>0.038936</td>\n",
       "      <td>0</td>\n",
       "      <td>30.0</td>\n",
       "      <td>4.200743</td>\n",
       "      <td>30.009817</td>\n",
       "      <td>0</td>\n",
       "    </tr>\n",
       "    <tr>\n",
       "      <td>2869228</td>\n",
       "      <td>25/02/2020 3:32</td>\n",
       "      <td>VH-XZN</td>\n",
       "      <td>YNWN</td>\n",
       "      <td>YPPH</td>\n",
       "      <td>40510130</td>\n",
       "      <td>Airborne Speed High</td>\n",
       "      <td>Level 2</td>\n",
       "      <td>Not a False Positive</td>\n",
       "      <td>688.00</td>\n",
       "      <td>708.00</td>\n",
       "      <td>0.0</td>\n",
       "      <td>-0.000095</td>\n",
       "      <td>0.009928</td>\n",
       "      <td>0</td>\n",
       "      <td>10.0</td>\n",
       "      <td>-1.286268</td>\n",
       "      <td>10.302753</td>\n",
       "      <td>0</td>\n",
       "    </tr>\n",
       "    <tr>\n",
       "      <td>2869620</td>\n",
       "      <td>25/02/2020 17:05</td>\n",
       "      <td>VH-VZK</td>\n",
       "      <td>NZAA</td>\n",
       "      <td>YMML</td>\n",
       "      <td>40510312</td>\n",
       "      <td>Pitch Attitude High During Rotation (Gears Ext...</td>\n",
       "      <td>Level 2</td>\n",
       "      <td>Not a False Positive</td>\n",
       "      <td>662.00</td>\n",
       "      <td>682.00</td>\n",
       "      <td>0.0</td>\n",
       "      <td>-0.001526</td>\n",
       "      <td>0.032998</td>\n",
       "      <td>0</td>\n",
       "      <td>1.0</td>\n",
       "      <td>-1.194254</td>\n",
       "      <td>1.030449</td>\n",
       "      <td>0</td>\n",
       "    </tr>\n",
       "    <tr>\n",
       "      <td>2868605</td>\n",
       "      <td>24/02/2020 17:17</td>\n",
       "      <td>VH-XZG</td>\n",
       "      <td>NZCH</td>\n",
       "      <td>YSSY</td>\n",
       "      <td>40511060</td>\n",
       "      <td>TCAS Resolution Advisory</td>\n",
       "      <td>Level 2</td>\n",
       "      <td>Not a False Positive</td>\n",
       "      <td>10624.00</td>\n",
       "      <td>10663.00</td>\n",
       "      <td>2.0</td>\n",
       "      <td>-0.001691</td>\n",
       "      <td>0.008319</td>\n",
       "      <td>0</td>\n",
       "      <td>5.0</td>\n",
       "      <td>-1.654518</td>\n",
       "      <td>5.180016</td>\n",
       "      <td>0</td>\n",
       "    </tr>\n",
       "  </tbody>\n",
       "</table>\n",
       "</div>"
      ],
      "text/plain": [
       "              flight_date_exact tail_number takeoff_airport_code  \\\n",
       "flight_record                                                      \n",
       "2869387         25/02/2020 6:13      VH-VXD                 YPPH   \n",
       "2869366         25/02/2020 7:03      VH-VYF                 YMML   \n",
       "2869228         25/02/2020 3:32      VH-XZN                 YNWN   \n",
       "2869620        25/02/2020 17:05      VH-VZK                 NZAA   \n",
       "2868605        24/02/2020 17:17      VH-XZG                 NZCH   \n",
       "\n",
       "              landing_airport_code  p14_event_record  \\\n",
       "flight_record                                          \n",
       "2869387                       YPAD          40509975   \n",
       "2869366                       YSSY          40509984   \n",
       "2869228                       YPPH          40510130   \n",
       "2869620                       YMML          40510312   \n",
       "2868605                       YSSY          40511060   \n",
       "\n",
       "                                                  p14_event_type p14_severity  \\\n",
       "flight_record                                                                   \n",
       "2869387                                      Airborne Speed High      Level 2   \n",
       "2869366                    High Vertical Acceleration at landing      Level 2   \n",
       "2869228                                      Airborne Speed High      Level 2   \n",
       "2869620        Pitch Attitude High During Rotation (Gears Ext...      Level 2   \n",
       "2868605                                 TCAS Resolution Advisory      Level 2   \n",
       "\n",
       "                 p14_false_positive  \\\n",
       "flight_record                         \n",
       "2869387        Not a False Positive   \n",
       "2869366        Not a False Positive   \n",
       "2869228        Not a False Positive   \n",
       "2869620        Not a False Positive   \n",
       "2868605        Not a False Positive   \n",
       "\n",
       "               p14_start_of_event_10_seconds_seconds_from_start_of_file  \\\n",
       "flight_record                                                             \n",
       "2869387                                                   609.00          \n",
       "2869366                                                  5611.25          \n",
       "2869228                                                   688.00          \n",
       "2869620                                                   662.00          \n",
       "2868605                                                 10624.00          \n",
       "\n",
       "               p14_end_of_event_10_seconds_seconds_from_start_of_file  \\\n",
       "flight_record                                                           \n",
       "2869387                                                   629.00        \n",
       "2869366                                                  5637.25        \n",
       "2869228                                                   708.00        \n",
       "2869620                                                   682.00        \n",
       "2868605                                                 10663.00        \n",
       "\n",
       "               p14_data_dropouts_seconds  \\\n",
       "flight_record                              \n",
       "2869387                              0.0   \n",
       "2869366                              2.0   \n",
       "2869228                              0.0   \n",
       "2869620                              0.0   \n",
       "2868605                              2.0   \n",
       "\n",
       "               p14_error_b_w_gmt_and_recorded_time_around_event_percent  \\\n",
       "flight_record                                                             \n",
       "2869387                                                -0.000095          \n",
       "2869366                                                -0.000436          \n",
       "2869228                                                -0.000095          \n",
       "2869620                                                -0.001526          \n",
       "2868605                                                -0.001691          \n",
       "\n",
       "               p14_estimated_nav_error_at_start_of_event_nm  \\\n",
       "flight_record                                                 \n",
       "2869387                                            0.024290   \n",
       "2869366                                            0.038936   \n",
       "2869228                                            0.009928   \n",
       "2869620                                            0.032998   \n",
       "2868605                                            0.008319   \n",
       "\n",
       "               p14_standard_deviation_of_sample_rate_of_gmt_event_interval_30_seconds_hz  \\\n",
       "flight_record                                                                              \n",
       "2869387                                                        0                           \n",
       "2869366                                                        0                           \n",
       "2869228                                                        0                           \n",
       "2869620                                                        0                           \n",
       "2868605                                                        0                           \n",
       "\n",
       "               p14_flap_handle_position_at_start_of_event  \\\n",
       "flight_record                                               \n",
       "2869387                                               5.0   \n",
       "2869366                                              30.0   \n",
       "2869228                                              10.0   \n",
       "2869620                                               1.0   \n",
       "2868605                                               5.0   \n",
       "\n",
       "               p14_speed_brake_handle_position_at_start_of_event_deg  \\\n",
       "flight_record                                                          \n",
       "2869387                                                 0.641989       \n",
       "2869366                                                 4.200743       \n",
       "2869228                                                -1.286268       \n",
       "2869620                                                -1.194254       \n",
       "2868605                                                -1.654518       \n",
       "\n",
       "               p14_flap_position_at_start_of_event_deg_ted  target  \n",
       "flight_record                                                       \n",
       "2869387                                           5.203770       0  \n",
       "2869366                                          30.009817       0  \n",
       "2869228                                          10.302753       0  \n",
       "2869620                                           1.030449       0  \n",
       "2868605                                           5.180016       0  "
      ]
     },
     "execution_count": 3,
     "metadata": {},
     "output_type": "execute_result"
    }
   ],
   "source": [
    "file1 = 'Flight-Level-False-Pos-Data_160920.csv'\n",
    "\n",
    "df1 = pd.read_csv(file1)\n",
    "df1 = df1.set_index('flight_record')\n",
    "df1 = df1.drop(columns = ['airframe', 'fleet'])\n",
    "df1.head()"
   ]
  },
  {
   "cell_type": "code",
   "execution_count": 4,
   "metadata": {},
   "outputs": [
    {
     "name": "stdout",
     "output_type": "stream",
     "text": [
      "<class 'pandas.core.frame.DataFrame'>\n",
      "Int64Index: 2396 entries, 2869387 to 2953028\n",
      "Data columns (total 18 columns):\n",
      "flight_date_exact                                                            2396 non-null object\n",
      "tail_number                                                                  2396 non-null object\n",
      "takeoff_airport_code                                                         2396 non-null object\n",
      "landing_airport_code                                                         2396 non-null object\n",
      "p14_event_record                                                             2396 non-null int64\n",
      "p14_event_type                                                               2396 non-null object\n",
      "p14_severity                                                                 2396 non-null object\n",
      "p14_false_positive                                                           2396 non-null object\n",
      "p14_start_of_event_10_seconds_seconds_from_start_of_file                     2395 non-null float64\n",
      "p14_end_of_event_10_seconds_seconds_from_start_of_file                       2395 non-null float64\n",
      "p14_data_dropouts_seconds                                                    2392 non-null float64\n",
      "p14_error_b_w_gmt_and_recorded_time_around_event_percent                     2395 non-null float64\n",
      "p14_estimated_nav_error_at_start_of_event_nm                                 2395 non-null float64\n",
      "p14_standard_deviation_of_sample_rate_of_gmt_event_interval_30_seconds_hz    2396 non-null int64\n",
      "p14_flap_handle_position_at_start_of_event                                   2395 non-null float64\n",
      "p14_speed_brake_handle_position_at_start_of_event_deg                        2395 non-null float64\n",
      "p14_flap_position_at_start_of_event_deg_ted                                  2395 non-null float64\n",
      "target                                                                       2396 non-null int64\n",
      "dtypes: float64(8), int64(3), object(7)\n",
      "memory usage: 355.7+ KB\n"
     ]
    }
   ],
   "source": [
    "df1.info()"
   ]
  },
  {
   "cell_type": "code",
   "execution_count": 5,
   "metadata": {},
   "outputs": [
    {
     "data": {
      "text/html": [
       "<div>\n",
       "<style scoped>\n",
       "    .dataframe tbody tr th:only-of-type {\n",
       "        vertical-align: middle;\n",
       "    }\n",
       "\n",
       "    .dataframe tbody tr th {\n",
       "        vertical-align: top;\n",
       "    }\n",
       "\n",
       "    .dataframe thead th {\n",
       "        text-align: right;\n",
       "    }\n",
       "</style>\n",
       "<table border=\"1\" class=\"dataframe\">\n",
       "  <thead>\n",
       "    <tr style=\"text-align: right;\">\n",
       "      <th></th>\n",
       "      <th>p14_event_record</th>\n",
       "      <th>p14_start_of_event_10_seconds_seconds_from_start_of_file</th>\n",
       "      <th>p14_end_of_event_10_seconds_seconds_from_start_of_file</th>\n",
       "      <th>p14_data_dropouts_seconds</th>\n",
       "      <th>p14_error_b_w_gmt_and_recorded_time_around_event_percent</th>\n",
       "      <th>p14_estimated_nav_error_at_start_of_event_nm</th>\n",
       "      <th>p14_standard_deviation_of_sample_rate_of_gmt_event_interval_30_seconds_hz</th>\n",
       "      <th>p14_flap_handle_position_at_start_of_event</th>\n",
       "      <th>p14_speed_brake_handle_position_at_start_of_event_deg</th>\n",
       "      <th>p14_flap_position_at_start_of_event_deg_ted</th>\n",
       "      <th>target</th>\n",
       "    </tr>\n",
       "  </thead>\n",
       "  <tbody>\n",
       "    <tr>\n",
       "      <td>count</td>\n",
       "      <td>2.396000e+03</td>\n",
       "      <td>2395.000000</td>\n",
       "      <td>2395.000000</td>\n",
       "      <td>2392.000000</td>\n",
       "      <td>2395.000000</td>\n",
       "      <td>2395.000000</td>\n",
       "      <td>2396.0</td>\n",
       "      <td>2395.000000</td>\n",
       "      <td>2395.000000</td>\n",
       "      <td>2395.000000</td>\n",
       "      <td>2396.000000</td>\n",
       "    </tr>\n",
       "    <tr>\n",
       "      <td>mean</td>\n",
       "      <td>4.069713e+07</td>\n",
       "      <td>2922.989457</td>\n",
       "      <td>3163.754906</td>\n",
       "      <td>2.179870</td>\n",
       "      <td>1.234591</td>\n",
       "      <td>0.037107</td>\n",
       "      <td>0.0</td>\n",
       "      <td>9.941127</td>\n",
       "      <td>0.773515</td>\n",
       "      <td>9.685493</td>\n",
       "      <td>0.113523</td>\n",
       "    </tr>\n",
       "    <tr>\n",
       "      <td>std</td>\n",
       "      <td>1.102973e+05</td>\n",
       "      <td>3774.963355</td>\n",
       "      <td>4027.053917</td>\n",
       "      <td>3.618313</td>\n",
       "      <td>18.158764</td>\n",
       "      <td>0.079871</td>\n",
       "      <td>0.0</td>\n",
       "      <td>11.711527</td>\n",
       "      <td>4.995767</td>\n",
       "      <td>11.296350</td>\n",
       "      <td>0.317297</td>\n",
       "    </tr>\n",
       "    <tr>\n",
       "      <td>min</td>\n",
       "      <td>4.050998e+07</td>\n",
       "      <td>64.000000</td>\n",
       "      <td>88.000000</td>\n",
       "      <td>0.000000</td>\n",
       "      <td>-3.333366</td>\n",
       "      <td>0.000362</td>\n",
       "      <td>0.0</td>\n",
       "      <td>0.000000</td>\n",
       "      <td>-2.115266</td>\n",
       "      <td>0.000000</td>\n",
       "      <td>0.000000</td>\n",
       "    </tr>\n",
       "    <tr>\n",
       "      <td>25%</td>\n",
       "      <td>4.059701e+07</td>\n",
       "      <td>545.500000</td>\n",
       "      <td>570.000000</td>\n",
       "      <td>0.000000</td>\n",
       "      <td>-0.000213</td>\n",
       "      <td>0.011710</td>\n",
       "      <td>0.0</td>\n",
       "      <td>1.000000</td>\n",
       "      <td>-1.286268</td>\n",
       "      <td>1.016928</td>\n",
       "      <td>0.000000</td>\n",
       "    </tr>\n",
       "    <tr>\n",
       "      <td>50%</td>\n",
       "      <td>4.069857e+07</td>\n",
       "      <td>857.000000</td>\n",
       "      <td>891.000000</td>\n",
       "      <td>2.000000</td>\n",
       "      <td>-0.000095</td>\n",
       "      <td>0.025609</td>\n",
       "      <td>0.0</td>\n",
       "      <td>5.000000</td>\n",
       "      <td>-0.826390</td>\n",
       "      <td>5.090937</td>\n",
       "      <td>0.000000</td>\n",
       "    </tr>\n",
       "    <tr>\n",
       "      <td>75%</td>\n",
       "      <td>4.079162e+07</td>\n",
       "      <td>4571.500000</td>\n",
       "      <td>4876.250000</td>\n",
       "      <td>2.000000</td>\n",
       "      <td>0.000354</td>\n",
       "      <td>0.040438</td>\n",
       "      <td>0.0</td>\n",
       "      <td>10.000000</td>\n",
       "      <td>0.458710</td>\n",
       "      <td>10.302753</td>\n",
       "      <td>0.000000</td>\n",
       "    </tr>\n",
       "    <tr>\n",
       "      <td>max</td>\n",
       "      <td>4.100004e+07</td>\n",
       "      <td>22080.000000</td>\n",
       "      <td>22100.000000</td>\n",
       "      <td>43.000000</td>\n",
       "      <td>339.999580</td>\n",
       "      <td>1.481835</td>\n",
       "      <td>0.0</td>\n",
       "      <td>40.000000</td>\n",
       "      <td>45.260445</td>\n",
       "      <td>40.000000</td>\n",
       "      <td>1.000000</td>\n",
       "    </tr>\n",
       "  </tbody>\n",
       "</table>\n",
       "</div>"
      ],
      "text/plain": [
       "       p14_event_record  \\\n",
       "count      2.396000e+03   \n",
       "mean       4.069713e+07   \n",
       "std        1.102973e+05   \n",
       "min        4.050998e+07   \n",
       "25%        4.059701e+07   \n",
       "50%        4.069857e+07   \n",
       "75%        4.079162e+07   \n",
       "max        4.100004e+07   \n",
       "\n",
       "       p14_start_of_event_10_seconds_seconds_from_start_of_file  \\\n",
       "count                                        2395.000000          \n",
       "mean                                         2922.989457          \n",
       "std                                          3774.963355          \n",
       "min                                            64.000000          \n",
       "25%                                           545.500000          \n",
       "50%                                           857.000000          \n",
       "75%                                          4571.500000          \n",
       "max                                         22080.000000          \n",
       "\n",
       "       p14_end_of_event_10_seconds_seconds_from_start_of_file  \\\n",
       "count                                        2395.000000        \n",
       "mean                                         3163.754906        \n",
       "std                                          4027.053917        \n",
       "min                                            88.000000        \n",
       "25%                                           570.000000        \n",
       "50%                                           891.000000        \n",
       "75%                                          4876.250000        \n",
       "max                                         22100.000000        \n",
       "\n",
       "       p14_data_dropouts_seconds  \\\n",
       "count                2392.000000   \n",
       "mean                    2.179870   \n",
       "std                     3.618313   \n",
       "min                     0.000000   \n",
       "25%                     0.000000   \n",
       "50%                     2.000000   \n",
       "75%                     2.000000   \n",
       "max                    43.000000   \n",
       "\n",
       "       p14_error_b_w_gmt_and_recorded_time_around_event_percent  \\\n",
       "count                                        2395.000000          \n",
       "mean                                            1.234591          \n",
       "std                                            18.158764          \n",
       "min                                            -3.333366          \n",
       "25%                                            -0.000213          \n",
       "50%                                            -0.000095          \n",
       "75%                                             0.000354          \n",
       "max                                           339.999580          \n",
       "\n",
       "       p14_estimated_nav_error_at_start_of_event_nm  \\\n",
       "count                                   2395.000000   \n",
       "mean                                       0.037107   \n",
       "std                                        0.079871   \n",
       "min                                        0.000362   \n",
       "25%                                        0.011710   \n",
       "50%                                        0.025609   \n",
       "75%                                        0.040438   \n",
       "max                                        1.481835   \n",
       "\n",
       "       p14_standard_deviation_of_sample_rate_of_gmt_event_interval_30_seconds_hz  \\\n",
       "count                                             2396.0                           \n",
       "mean                                                 0.0                           \n",
       "std                                                  0.0                           \n",
       "min                                                  0.0                           \n",
       "25%                                                  0.0                           \n",
       "50%                                                  0.0                           \n",
       "75%                                                  0.0                           \n",
       "max                                                  0.0                           \n",
       "\n",
       "       p14_flap_handle_position_at_start_of_event  \\\n",
       "count                                 2395.000000   \n",
       "mean                                     9.941127   \n",
       "std                                     11.711527   \n",
       "min                                      0.000000   \n",
       "25%                                      1.000000   \n",
       "50%                                      5.000000   \n",
       "75%                                     10.000000   \n",
       "max                                     40.000000   \n",
       "\n",
       "       p14_speed_brake_handle_position_at_start_of_event_deg  \\\n",
       "count                                        2395.000000       \n",
       "mean                                            0.773515       \n",
       "std                                             4.995767       \n",
       "min                                            -2.115266       \n",
       "25%                                            -1.286268       \n",
       "50%                                            -0.826390       \n",
       "75%                                             0.458710       \n",
       "max                                            45.260445       \n",
       "\n",
       "       p14_flap_position_at_start_of_event_deg_ted       target  \n",
       "count                                  2395.000000  2396.000000  \n",
       "mean                                      9.685493     0.113523  \n",
       "std                                      11.296350     0.317297  \n",
       "min                                       0.000000     0.000000  \n",
       "25%                                       1.016928     0.000000  \n",
       "50%                                       5.090937     0.000000  \n",
       "75%                                      10.302753     0.000000  \n",
       "max                                      40.000000     1.000000  "
      ]
     },
     "execution_count": 5,
     "metadata": {},
     "output_type": "execute_result"
    }
   ],
   "source": [
    "df1.describe()"
   ]
  },
  {
   "cell_type": "code",
   "execution_count": 6,
   "metadata": {},
   "outputs": [
    {
     "data": {
      "text/plain": [
       "<matplotlib.axes._subplots.AxesSubplot at 0x9f8d308>"
      ]
     },
     "execution_count": 6,
     "metadata": {},
     "output_type": "execute_result"
    },
    {
     "data": {
      "image/png": "[encoded data removed]",
      "text/plain": [
       "<Figure size 432x288 with 1 Axes>"
      ]
     },
     "metadata": {
      "needs_background": "light"
     },
     "output_type": "display_data"
    }
   ],
   "source": [
    "df1[\"target\"].value_counts().plot.bar()"
   ]
  },
  {
   "cell_type": "code",
   "execution_count": 7,
   "metadata": {},
   "outputs": [
    {
     "data": {
      "text/html": [
       "<div>\n",
       "<style scoped>\n",
       "    .dataframe tbody tr th:only-of-type {\n",
       "        vertical-align: middle;\n",
       "    }\n",
       "\n",
       "    .dataframe tbody tr th {\n",
       "        vertical-align: top;\n",
       "    }\n",
       "\n",
       "    .dataframe thead th {\n",
       "        text-align: right;\n",
       "    }\n",
       "</style>\n",
       "<table border=\"1\" class=\"dataframe\">\n",
       "  <thead>\n",
       "    <tr style=\"text-align: right;\">\n",
       "      <th></th>\n",
       "      <th>flight_date_exact</th>\n",
       "      <th>tail_number</th>\n",
       "      <th>takeoff_airport_code</th>\n",
       "      <th>landing_airport_code</th>\n",
       "      <th>p14_event_record</th>\n",
       "      <th>p14_event_type</th>\n",
       "      <th>p14_severity</th>\n",
       "      <th>p14_false_positive</th>\n",
       "      <th>p14_start_of_event_10_seconds_seconds_from_start_of_file</th>\n",
       "      <th>p14_end_of_event_10_seconds_seconds_from_start_of_file</th>\n",
       "      <th>p14_data_dropouts_seconds</th>\n",
       "      <th>p14_error_b_w_gmt_and_recorded_time_around_event_percent</th>\n",
       "      <th>p14_estimated_nav_error_at_start_of_event_nm</th>\n",
       "      <th>p14_standard_deviation_of_sample_rate_of_gmt_event_interval_30_seconds_hz</th>\n",
       "      <th>p14_flap_handle_position_at_start_of_event</th>\n",
       "      <th>p14_speed_brake_handle_position_at_start_of_event_deg</th>\n",
       "      <th>p14_flap_position_at_start_of_event_deg_ted</th>\n",
       "      <th>target</th>\n",
       "    </tr>\n",
       "    <tr>\n",
       "      <th>flight_record</th>\n",
       "      <th></th>\n",
       "      <th></th>\n",
       "      <th></th>\n",
       "      <th></th>\n",
       "      <th></th>\n",
       "      <th></th>\n",
       "      <th></th>\n",
       "      <th></th>\n",
       "      <th></th>\n",
       "      <th></th>\n",
       "      <th></th>\n",
       "      <th></th>\n",
       "      <th></th>\n",
       "      <th></th>\n",
       "      <th></th>\n",
       "      <th></th>\n",
       "      <th></th>\n",
       "      <th></th>\n",
       "    </tr>\n",
       "  </thead>\n",
       "  <tbody>\n",
       "    <tr>\n",
       "      <td>2822809</td>\n",
       "      <td>7/01/2020 6:37</td>\n",
       "      <td>VH-VYG</td>\n",
       "      <td>YPPH</td>\n",
       "      <td>YPAD</td>\n",
       "      <td>40550353</td>\n",
       "      <td>Pitch Attitude High During Landing (Gears Comp...</td>\n",
       "      <td>Level 2</td>\n",
       "      <td>Bad Parameter: Bad Sensor on Airplane</td>\n",
       "      <td>NaN</td>\n",
       "      <td>NaN</td>\n",
       "      <td>0.0</td>\n",
       "      <td>-0.040611</td>\n",
       "      <td>NaN</td>\n",
       "      <td>0</td>\n",
       "      <td>NaN</td>\n",
       "      <td>NaN</td>\n",
       "      <td>NaN</td>\n",
       "      <td>1</td>\n",
       "    </tr>\n",
       "    <tr>\n",
       "      <td>2712553</td>\n",
       "      <td>16/09/2019 1:20</td>\n",
       "      <td>VH-XZL</td>\n",
       "      <td>YPAD</td>\n",
       "      <td>UNKNOWN</td>\n",
       "      <td>40645728</td>\n",
       "      <td>High Speed Rejected Takeoff</td>\n",
       "      <td>Level 2</td>\n",
       "      <td>Not a False Positive</td>\n",
       "      <td>394.00</td>\n",
       "      <td>433.75</td>\n",
       "      <td>NaN</td>\n",
       "      <td>-0.000185</td>\n",
       "      <td>0.015276</td>\n",
       "      <td>0</td>\n",
       "      <td>1.0</td>\n",
       "      <td>-1.194254</td>\n",
       "      <td>1.007913</td>\n",
       "      <td>0</td>\n",
       "    </tr>\n",
       "    <tr>\n",
       "      <td>2676998</td>\n",
       "      <td>6/08/2019 5:54</td>\n",
       "      <td>VH-XZN</td>\n",
       "      <td>YMML</td>\n",
       "      <td>UNKNOWN</td>\n",
       "      <td>40674511</td>\n",
       "      <td>High Speed Rejected Takeoff</td>\n",
       "      <td>Level 2</td>\n",
       "      <td>Not a False Positive</td>\n",
       "      <td>913.00</td>\n",
       "      <td>976.00</td>\n",
       "      <td>NaN</td>\n",
       "      <td>-0.000403</td>\n",
       "      <td>0.037157</td>\n",
       "      <td>0</td>\n",
       "      <td>5.0</td>\n",
       "      <td>-1.470355</td>\n",
       "      <td>5.156261</td>\n",
       "      <td>0</td>\n",
       "    </tr>\n",
       "    <tr>\n",
       "      <td>2540399</td>\n",
       "      <td>7/03/2019 7:13</td>\n",
       "      <td>VH-VXR</td>\n",
       "      <td>YBBN</td>\n",
       "      <td>UNKNOWN</td>\n",
       "      <td>40763435</td>\n",
       "      <td>High Speed Rejected Takeoff</td>\n",
       "      <td>Level 2</td>\n",
       "      <td>Not a False Positive</td>\n",
       "      <td>465.00</td>\n",
       "      <td>511.00</td>\n",
       "      <td>NaN</td>\n",
       "      <td>-0.000193</td>\n",
       "      <td>0.020267</td>\n",
       "      <td>0</td>\n",
       "      <td>5.0</td>\n",
       "      <td>-1.286268</td>\n",
       "      <td>4.979736</td>\n",
       "      <td>0</td>\n",
       "    </tr>\n",
       "    <tr>\n",
       "      <td>2540434</td>\n",
       "      <td>7/03/2019 7:37</td>\n",
       "      <td>VH-VXA</td>\n",
       "      <td>YPAD</td>\n",
       "      <td>UNKNOWN</td>\n",
       "      <td>40763467</td>\n",
       "      <td>High Speed Rejected Takeoff</td>\n",
       "      <td>Level 2</td>\n",
       "      <td>Not a False Positive</td>\n",
       "      <td>402.00</td>\n",
       "      <td>445.00</td>\n",
       "      <td>NaN</td>\n",
       "      <td>0.000555</td>\n",
       "      <td>0.022926</td>\n",
       "      <td>0</td>\n",
       "      <td>1.0</td>\n",
       "      <td>-0.458835</td>\n",
       "      <td>1.021435</td>\n",
       "      <td>0</td>\n",
       "    </tr>\n",
       "    <tr>\n",
       "      <td>2452026</td>\n",
       "      <td>24/11/2018 20:35</td>\n",
       "      <td>VH-VYZ</td>\n",
       "      <td>YPAD</td>\n",
       "      <td>YBBN</td>\n",
       "      <td>40809511</td>\n",
       "      <td>Pitch Attitude High During Rotation (Gears Ext...</td>\n",
       "      <td>Level 2</td>\n",
       "      <td>Not a False Positive</td>\n",
       "      <td>478.75</td>\n",
       "      <td>498.75</td>\n",
       "      <td>0.0</td>\n",
       "      <td>NaN</td>\n",
       "      <td>0.035187</td>\n",
       "      <td>0</td>\n",
       "      <td>1.0</td>\n",
       "      <td>-0.734472</td>\n",
       "      <td>1.034957</td>\n",
       "      <td>0</td>\n",
       "    </tr>\n",
       "  </tbody>\n",
       "</table>\n",
       "</div>"
      ],
      "text/plain": [
       "              flight_date_exact tail_number takeoff_airport_code  \\\n",
       "flight_record                                                      \n",
       "2822809          7/01/2020 6:37      VH-VYG                 YPPH   \n",
       "2712553         16/09/2019 1:20      VH-XZL                 YPAD   \n",
       "2676998          6/08/2019 5:54      VH-XZN                 YMML   \n",
       "2540399          7/03/2019 7:13      VH-VXR                 YBBN   \n",
       "2540434          7/03/2019 7:37      VH-VXA                 YPAD   \n",
       "2452026        24/11/2018 20:35      VH-VYZ                 YPAD   \n",
       "\n",
       "              landing_airport_code  p14_event_record  \\\n",
       "flight_record                                          \n",
       "2822809                       YPAD          40550353   \n",
       "2712553                    UNKNOWN          40645728   \n",
       "2676998                    UNKNOWN          40674511   \n",
       "2540399                    UNKNOWN          40763435   \n",
       "2540434                    UNKNOWN          40763467   \n",
       "2452026                       YBBN          40809511   \n",
       "\n",
       "                                                  p14_event_type p14_severity  \\\n",
       "flight_record                                                                   \n",
       "2822809        Pitch Attitude High During Landing (Gears Comp...      Level 2   \n",
       "2712553                              High Speed Rejected Takeoff      Level 2   \n",
       "2676998                              High Speed Rejected Takeoff      Level 2   \n",
       "2540399                              High Speed Rejected Takeoff      Level 2   \n",
       "2540434                              High Speed Rejected Takeoff      Level 2   \n",
       "2452026        Pitch Attitude High During Rotation (Gears Ext...      Level 2   \n",
       "\n",
       "                                  p14_false_positive  \\\n",
       "flight_record                                          \n",
       "2822809        Bad Parameter: Bad Sensor on Airplane   \n",
       "2712553                         Not a False Positive   \n",
       "2676998                         Not a False Positive   \n",
       "2540399                         Not a False Positive   \n",
       "2540434                         Not a False Positive   \n",
       "2452026                         Not a False Positive   \n",
       "\n",
       "               p14_start_of_event_10_seconds_seconds_from_start_of_file  \\\n",
       "flight_record                                                             \n",
       "2822809                                                      NaN          \n",
       "2712553                                                   394.00          \n",
       "2676998                                                   913.00          \n",
       "2540399                                                   465.00          \n",
       "2540434                                                   402.00          \n",
       "2452026                                                   478.75          \n",
       "\n",
       "               p14_end_of_event_10_seconds_seconds_from_start_of_file  \\\n",
       "flight_record                                                           \n",
       "2822809                                                      NaN        \n",
       "2712553                                                   433.75        \n",
       "2676998                                                   976.00        \n",
       "2540399                                                   511.00        \n",
       "2540434                                                   445.00        \n",
       "2452026                                                   498.75        \n",
       "\n",
       "               p14_data_dropouts_seconds  \\\n",
       "flight_record                              \n",
       "2822809                              0.0   \n",
       "2712553                              NaN   \n",
       "2676998                              NaN   \n",
       "2540399                              NaN   \n",
       "2540434                              NaN   \n",
       "2452026                              0.0   \n",
       "\n",
       "               p14_error_b_w_gmt_and_recorded_time_around_event_percent  \\\n",
       "flight_record                                                             \n",
       "2822809                                                -0.040611          \n",
       "2712553                                                -0.000185          \n",
       "2676998                                                -0.000403          \n",
       "2540399                                                -0.000193          \n",
       "2540434                                                 0.000555          \n",
       "2452026                                                      NaN          \n",
       "\n",
       "               p14_estimated_nav_error_at_start_of_event_nm  \\\n",
       "flight_record                                                 \n",
       "2822809                                                 NaN   \n",
       "2712553                                            0.015276   \n",
       "2676998                                            0.037157   \n",
       "2540399                                            0.020267   \n",
       "2540434                                            0.022926   \n",
       "2452026                                            0.035187   \n",
       "\n",
       "               p14_standard_deviation_of_sample_rate_of_gmt_event_interval_30_seconds_hz  \\\n",
       "flight_record                                                                              \n",
       "2822809                                                        0                           \n",
       "2712553                                                        0                           \n",
       "2676998                                                        0                           \n",
       "2540399                                                        0                           \n",
       "2540434                                                        0                           \n",
       "2452026                                                        0                           \n",
       "\n",
       "               p14_flap_handle_position_at_start_of_event  \\\n",
       "flight_record                                               \n",
       "2822809                                               NaN   \n",
       "2712553                                               1.0   \n",
       "2676998                                               5.0   \n",
       "2540399                                               5.0   \n",
       "2540434                                               1.0   \n",
       "2452026                                               1.0   \n",
       "\n",
       "               p14_speed_brake_handle_position_at_start_of_event_deg  \\\n",
       "flight_record                                                          \n",
       "2822809                                                      NaN       \n",
       "2712553                                                -1.194254       \n",
       "2676998                                                -1.470355       \n",
       "2540399                                                -1.286268       \n",
       "2540434                                                -0.458835       \n",
       "2452026                                                -0.734472       \n",
       "\n",
       "               p14_flap_position_at_start_of_event_deg_ted  target  \n",
       "flight_record                                                       \n",
       "2822809                                                NaN       1  \n",
       "2712553                                           1.007913       0  \n",
       "2676998                                           5.156261       0  \n",
       "2540399                                           4.979736       0  \n",
       "2540434                                           1.021435       0  \n",
       "2452026                                           1.034957       0  "
      ]
     },
     "execution_count": 7,
     "metadata": {},
     "output_type": "execute_result"
    }
   ],
   "source": [
    "df1[pd.isnull(df1).any(axis=1)]"
   ]
  },
  {
   "cell_type": "code",
   "execution_count": 8,
   "metadata": {},
   "outputs": [
    {
     "data": {
      "text/plain": [
       "flight_date_exact                                                            0\n",
       "tail_number                                                                  0\n",
       "takeoff_airport_code                                                         0\n",
       "landing_airport_code                                                         0\n",
       "p14_event_record                                                             0\n",
       "p14_event_type                                                               0\n",
       "p14_severity                                                                 0\n",
       "p14_false_positive                                                           0\n",
       "p14_start_of_event_10_seconds_seconds_from_start_of_file                     1\n",
       "p14_end_of_event_10_seconds_seconds_from_start_of_file                       1\n",
       "p14_data_dropouts_seconds                                                    4\n",
       "p14_error_b_w_gmt_and_recorded_time_around_event_percent                     1\n",
       "p14_estimated_nav_error_at_start_of_event_nm                                 1\n",
       "p14_standard_deviation_of_sample_rate_of_gmt_event_interval_30_seconds_hz    0\n",
       "p14_flap_handle_position_at_start_of_event                                   1\n",
       "p14_speed_brake_handle_position_at_start_of_event_deg                        1\n",
       "p14_flap_position_at_start_of_event_deg_ted                                  1\n",
       "target                                                                       0\n",
       "dtype: int64"
      ]
     },
     "execution_count": 8,
     "metadata": {},
     "output_type": "execute_result"
    }
   ],
   "source": [
    "df1.isnull().sum()"
   ]
  },
  {
   "cell_type": "markdown",
   "metadata": {},
   "source": [
    "import missingno as msno\n",
    "msno.matrix(df1)"
   ]
  },
  {
   "cell_type": "markdown",
   "metadata": {},
   "source": [
    "## label encoding"
   ]
  },
  {
   "cell_type": "code",
   "execution_count": 9,
   "metadata": {},
   "outputs": [
    {
     "data": {
      "text/plain": [
       "array(['Level 2', 'Level 3'], dtype=object)"
      ]
     },
     "execution_count": 9,
     "metadata": {},
     "output_type": "execute_result"
    }
   ],
   "source": [
    "df1['p14_severity'].unique()\n"
   ]
  },
  {
   "cell_type": "code",
   "execution_count": 10,
   "metadata": {},
   "outputs": [],
   "source": [
    "from sklearn import preprocessing\n",
    "le = preprocessing.LabelEncoder()\n",
    "le.fit(['Level 2','Level 3'])\n",
    "df1['p14_severity'] = le.transform(df1['p14_severity'])"
   ]
  },
  {
   "cell_type": "code",
   "execution_count": 11,
   "metadata": {},
   "outputs": [
    {
     "data": {
      "text/plain": [
       "<matplotlib.axes._subplots.AxesSubplot at 0xb827cc8>"
      ]
     },
     "execution_count": 11,
     "metadata": {},
     "output_type": "execute_result"
    },
    {
     "data": {
      "image/png": "[encoded data removed]",
      "text/plain": [
       "<Figure size 432x288 with 1 Axes>"
      ]
     },
     "metadata": {
      "needs_background": "light"
     },
     "output_type": "display_data"
    }
   ],
   "source": [
    "df1['p14_severity'].value_counts().plot.bar()"
   ]
  },
  {
   "cell_type": "code",
   "execution_count": 12,
   "metadata": {},
   "outputs": [],
   "source": [
    "from sklearn import preprocessing\n",
    "le = preprocessing.LabelEncoder()\n",
    "le.fit(['Airborne Speed High', 'High Vertical Acceleration at landing',\n",
    "       'Pitch Attitude High During Rotation (Gears Extended)',\n",
    "       'TCAS Resolution Advisory', 'Rotation Speed High',\n",
    "       'Climb Speed Low', 'GPWS: Windshear Warning', 'Deep Touchdown',\n",
    "       'High Speed Below 5000 ft AAL', 'Pitch Rate Low during Rotation',\n",
    "       'Approach Speed High Below 50 ft AGL (Vref)', 'GPWS: Sink Rate',\n",
    "       'Late Land Flap Selection', 'MMO Exceedance',\n",
    "       'Thrust reversers delayed during landing',\n",
    "       'Speed Brakes Used During Final Approach', 'Climb Speed High',\n",
    "       'VFE (Flap Airspeed Limit) Exceedance',\n",
    "       'Below Minimum Maneuver Speed', 'Rotation Speed Low',\n",
    "       'High Bank Angle Descent Below 200 feet', 'Idle Thrust Approach',\n",
    "       'Deviation Above GlideSlope 500 to 200 ft AGL',\n",
    "       'Early Flap Retraction', 'Airspeed Low Relative to Stall Speed',\n",
    "       'High Bank Angle Climb below 200 feet', 'Short touchdown',\n",
    "       'Stick shaker', 'GPWS: Pull Up', 'Short Runway Distance Remaining',\n",
    "       'Pitch Attitude High During Landing (Gears Compressed)',\n",
    "       'FLCH  mode below 1000 ft HAT', \"GPWS: Don't Sink\",\n",
    "       'High Speed Below 3000 ft AAL',\n",
    "       'High Rate of Descent 1000 ft HAT -> 500 HAT',\n",
    "       'GPWS: Too Low Terrain', 'GPWS: Too Low Flap',\n",
    "       'High Bank Angle on Flare', 'GPWS: Glideslope',\n",
    "       'Altitude Excursion', 'GPWS: Terrain', 'GPWS: Terrain Pull Up',\n",
    "       'GPWS: Too Low Gear',\n",
    "       'Deviation Below GlideSlope 500 to 200 ft AGL',\n",
    "       'High Speed Rejected Takeoff',\n",
    "       'High Bank Angle Climb 200ft to 1000 ft', 'VMO Exceedance',\n",
    "       'Landing with incorrect flap', 'GPWS: Look Ahead Caution'])\n",
    "df1['p14_event_type'] = le.transform(df1['p14_event_type'])"
   ]
  },
  {
   "cell_type": "code",
   "execution_count": 13,
   "metadata": {},
   "outputs": [
    {
     "data": {
      "text/plain": [
       "['flight_date_exact',\n",
       " 'tail_number',\n",
       " 'takeoff_airport_code',\n",
       " 'landing_airport_code',\n",
       " 'p14_event_record',\n",
       " 'p14_event_type',\n",
       " 'p14_severity',\n",
       " 'p14_false_positive',\n",
       " 'p14_start_of_event_10_seconds_seconds_from_start_of_file',\n",
       " 'p14_end_of_event_10_seconds_seconds_from_start_of_file',\n",
       " 'p14_data_dropouts_seconds',\n",
       " 'p14_error_b_w_gmt_and_recorded_time_around_event_percent',\n",
       " 'p14_estimated_nav_error_at_start_of_event_nm',\n",
       " 'p14_standard_deviation_of_sample_rate_of_gmt_event_interval_30_seconds_hz',\n",
       " 'p14_flap_handle_position_at_start_of_event',\n",
       " 'p14_speed_brake_handle_position_at_start_of_event_deg',\n",
       " 'p14_flap_position_at_start_of_event_deg_ted',\n",
       " 'target']"
      ]
     },
     "execution_count": 13,
     "metadata": {},
     "output_type": "execute_result"
    }
   ],
   "source": [
    "df1.columns.tolist()"
   ]
  },
  {
   "cell_type": "code",
   "execution_count": 14,
   "metadata": {},
   "outputs": [],
   "source": [
    "features = [\n",
    " #'flight_date_exact',\n",
    " #'tail_number',\n",
    " #'takeoff_airport_code',\n",
    " #'landing_airport_code',\n",
    " #'p14_event_record',\n",
    " 'p14_event_type',\n",
    " 'p14_severity',\n",
    " #'p14_false_positive',\n",
    " 'p14_start_of_event_10_seconds_seconds_from_start_of_file',\n",
    " 'p14_end_of_event_10_seconds_seconds_from_start_of_file',\n",
    " 'p14_data_dropouts_seconds',\n",
    " 'p14_error_b_w_gmt_and_recorded_time_around_event_percent',\n",
    " 'p14_estimated_nav_error_at_start_of_event_nm',\n",
    " 'p14_standard_deviation_of_sample_rate_of_gmt_event_interval_30_seconds_hz',\n",
    " 'p14_flap_handle_position_at_start_of_event',\n",
    " 'p14_speed_brake_handle_position_at_start_of_event_deg',\n",
    " 'p14_flap_position_at_start_of_event_deg_ted'\n",
    "]\n",
    "\n",
    "X = df1[features]\n",
    "y = df1['target']"
   ]
  },
  {
   "cell_type": "markdown",
   "metadata": {},
   "source": [
    "## imputing null values"
   ]
  },
  {
   "cell_type": "code",
   "execution_count": 15,
   "metadata": {},
   "outputs": [],
   "source": [
    "from sklearn.preprocessing import StandardScaler\n",
    "from sklearn.impute import SimpleImputer\n",
    "\n",
    "X = StandardScaler().fit(X).transform(X)\n",
    "X = SimpleImputer(missing_values=np.nan, strategy='most_frequent').fit(X).transform(X)"
   ]
  },
  {
   "cell_type": "markdown",
   "metadata": {},
   "source": [
    "## train test split"
   ]
  },
  {
   "cell_type": "code",
   "execution_count": 16,
   "metadata": {},
   "outputs": [],
   "source": [
    "from sklearn.model_selection import train_test_split\n",
    "\n",
    "X_train, X_test, y_train, y_test = train_test_split(X, y, test_size=0.3, random_state=3)"
   ]
  },
  {
   "cell_type": "code",
   "execution_count": 17,
   "metadata": {},
   "outputs": [
    {
     "data": {
      "text/plain": [
       "(1677,)"
      ]
     },
     "execution_count": 17,
     "metadata": {},
     "output_type": "execute_result"
    }
   ],
   "source": [
    "y_train.shape\n"
   ]
  },
  {
   "cell_type": "code",
   "execution_count": 18,
   "metadata": {},
   "outputs": [
    {
     "data": {
      "text/plain": [
       "(719,)"
      ]
     },
     "execution_count": 18,
     "metadata": {},
     "output_type": "execute_result"
    }
   ],
   "source": [
    "y_test.shape"
   ]
  },
  {
   "cell_type": "markdown",
   "metadata": {},
   "source": [
    "## Resampling"
   ]
  },
  {
   "cell_type": "markdown",
   "metadata": {},
   "source": [
    "**Python imbalanced-learn module**"
   ]
  },
  {
   "cell_type": "markdown",
   "metadata": {},
   "source": [
    "#import imblearn\n",
    "from imblearn.over_sampling import RandomOverSampler\n",
    "\n",
    "ros = RandomOverSampler()\n",
    "X_ros, y_ros = ros.fit_sample(X_train, y_train)\n",
    "\n",
    "print(X_ros.shape[0] - X.shape[0], 'new random picked points')"
   ]
  },
  {
   "cell_type": "code",
   "execution_count": 19,
   "metadata": {},
   "outputs": [],
   "source": [
    "from imblearn.over_sampling import SMOTE\n",
    "\n",
    "smote = SMOTE()\n",
    "X_sm, y_sm = smote.fit_sample(X_train, y_train)"
   ]
  },
  {
   "cell_type": "code",
   "execution_count": 20,
   "metadata": {},
   "outputs": [
    {
     "data": {
      "text/plain": [
       "<matplotlib.axes._subplots.AxesSubplot at 0xb933188>"
      ]
     },
     "execution_count": 20,
     "metadata": {},
     "output_type": "execute_result"
    },
    {
     "data": {
      "image/png": "[encoded data removed]",
      "text/plain": [
       "<Figure size 432x288 with 1 Axes>"
      ]
     },
     "metadata": {
      "needs_background": "light"
     },
     "output_type": "display_data"
    }
   ],
   "source": [
    "y_sm.value_counts().plot.bar()"
   ]
  },
  {
   "cell_type": "markdown",
   "metadata": {},
   "source": [
    "## modelling"
   ]
  },
  {
   "cell_type": "code",
   "execution_count": 21,
   "metadata": {},
   "outputs": [],
   "source": [
    "from sklearn.ensemble import RandomForestClassifier\n",
    "clf = RandomForestClassifier()\n",
    "\n"
   ]
  },
  {
   "cell_type": "markdown",
   "metadata": {},
   "source": [
    "## Hyperparameter tuning"
   ]
  },
  {
   "cell_type": "code",
   "execution_count": 22,
   "metadata": {
    "scrolled": true
   },
   "outputs": [
    {
     "name": "stdout",
     "output_type": "stream",
     "text": [
      "Parameters currently in use:\n",
      "\n",
      "{'bootstrap': True,\n",
      " 'ccp_alpha': 0.0,\n",
      " 'class_weight': None,\n",
      " 'criterion': 'gini',\n",
      " 'max_depth': None,\n",
      " 'max_features': 'auto',\n",
      " 'max_leaf_nodes': None,\n",
      " 'max_samples': None,\n",
      " 'min_impurity_decrease': 0.0,\n",
      " 'min_impurity_split': None,\n",
      " 'min_samples_leaf': 1,\n",
      " 'min_samples_split': 2,\n",
      " 'min_weight_fraction_leaf': 0.0,\n",
      " 'n_estimators': 100,\n",
      " 'n_jobs': None,\n",
      " 'oob_score': False,\n",
      " 'random_state': None,\n",
      " 'verbose': 0,\n",
      " 'warm_start': False}\n"
     ]
    }
   ],
   "source": [
    "from pprint import pprint\n",
    "# Look at parameters used by our current forest\n",
    "print('Parameters currently in use:\\n')\n",
    "pprint(clf.get_params())"
   ]
  },
  {
   "cell_type": "code",
   "execution_count": 23,
   "metadata": {},
   "outputs": [
    {
     "name": "stdout",
     "output_type": "stream",
     "text": [
      "{'max_depth': [10, 20, 30, 40, 50, 60, 70, 80, 90, 100, 110, None],\n",
      " 'max_features': ['auto', 'sqrt'],\n",
      " 'min_samples_leaf': [1, 2, 4],\n",
      " 'min_samples_split': [2, 5, 10]}\n"
     ]
    }
   ],
   "source": [
    "from sklearn.model_selection import RandomizedSearchCV\n",
    "\n",
    "# Number of features to consider at every split\n",
    "max_features = ['auto', 'sqrt']\n",
    "# Maximum number of levels in tree\n",
    "max_depth = [int(x) for x in np.linspace(10, 110, num = 11)]\n",
    "max_depth.append(None)\n",
    "# Minimum number of samples required to split a node\n",
    "min_samples_split = [2, 5, 10]\n",
    "# Minimum number of samples required at each leaf node\n",
    "min_samples_leaf = [1, 2, 4]\n",
    "\n",
    "# Create the random grid\n",
    "random_grid = {\n",
    "               'max_features': max_features,\n",
    "               'max_depth': max_depth,\n",
    "               'min_samples_split': min_samples_split,\n",
    "               'min_samples_leaf': min_samples_leaf\n",
    "               }\n",
    "pprint(random_grid)"
   ]
  },
  {
   "cell_type": "markdown",
   "metadata": {},
   "source": [
    "## training"
   ]
  },
  {
   "cell_type": "code",
   "execution_count": 24,
   "metadata": {},
   "outputs": [
    {
     "name": "stdout",
     "output_type": "stream",
     "text": [
      "Fitting 3 folds for each of 100 candidates, totalling 300 fits\n"
     ]
    },
    {
     "name": "stderr",
     "output_type": "stream",
     "text": [
      "[Parallel(n_jobs=-1)]: Using backend LokyBackend with 4 concurrent workers.\n",
      "[Parallel(n_jobs=-1)]: Done  33 tasks      | elapsed:   11.1s\n",
      "[Parallel(n_jobs=-1)]: Done 154 tasks      | elapsed:   30.5s\n",
      "[Parallel(n_jobs=-1)]: Done 300 out of 300 | elapsed:   52.1s finished\n"
     ]
    },
    {
     "data": {
      "text/plain": [
       "RandomizedSearchCV(cv=3, estimator=RandomForestClassifier(), n_iter=100,\n",
       "                   n_jobs=-1,\n",
       "                   param_distributions={'max_depth': [10, 20, 30, 40, 50, 60,\n",
       "                                                      70, 80, 90, 100, 110,\n",
       "                                                      None],\n",
       "                                        'max_features': ['auto', 'sqrt'],\n",
       "                                        'min_samples_leaf': [1, 2, 4],\n",
       "                                        'min_samples_split': [2, 5, 10]},\n",
       "                   random_state=42, verbose=2)"
      ]
     },
     "execution_count": 24,
     "metadata": {},
     "output_type": "execute_result"
    }
   ],
   "source": [
    "# Use the random grid to search for best hyperparameters\n",
    "\n",
    "# Random search of parameters, using 3 fold cross validation, \n",
    "# search across 100 different combinations, and use all available cores\n",
    "rf_random = RandomizedSearchCV(estimator = clf, param_distributions = random_grid, n_iter = 100, cv = 3, verbose=2, random_state=42, n_jobs = -1)\n",
    "# Fit the random search model\n",
    "rf_random.fit(X_sm, y_sm)"
   ]
  },
  {
   "cell_type": "markdown",
   "metadata": {},
   "source": [
    "#clf.fit(X_ros,y_ros)\n",
    "clf.fit(X_sm, y_sm )"
   ]
  },
  {
   "cell_type": "code",
   "execution_count": 25,
   "metadata": {},
   "outputs": [
    {
     "data": {
      "text/plain": [
       "{'min_samples_split': 2,\n",
       " 'min_samples_leaf': 1,\n",
       " 'max_features': 'auto',\n",
       " 'max_depth': 30}"
      ]
     },
     "execution_count": 25,
     "metadata": {},
     "output_type": "execute_result"
    }
   ],
   "source": [
    "rf_random.best_params_"
   ]
  },
  {
   "cell_type": "code",
   "execution_count": 26,
   "metadata": {},
   "outputs": [
    {
     "data": {
      "text/plain": [
       "RandomForestClassifier(max_depth=30)"
      ]
     },
     "execution_count": 26,
     "metadata": {},
     "output_type": "execute_result"
    }
   ],
   "source": [
    "best_random = rf_random.best_estimator_\n",
    "best_random"
   ]
  },
  {
   "cell_type": "markdown",
   "metadata": {},
   "source": [
    "## Evaluation"
   ]
  },
  {
   "cell_type": "code",
   "execution_count": 27,
   "metadata": {},
   "outputs": [
    {
     "name": "stdout",
     "output_type": "stream",
     "text": [
      "0.9777468706536857\n"
     ]
    },
    {
     "data": {
      "text/html": [
       "<div>\n",
       "<style scoped>\n",
       "    .dataframe tbody tr th:only-of-type {\n",
       "        vertical-align: middle;\n",
       "    }\n",
       "\n",
       "    .dataframe tbody tr th {\n",
       "        vertical-align: top;\n",
       "    }\n",
       "\n",
       "    .dataframe thead th {\n",
       "        text-align: right;\n",
       "    }\n",
       "</style>\n",
       "<table border=\"1\" class=\"dataframe\">\n",
       "  <thead>\n",
       "    <tr style=\"text-align: right;\">\n",
       "      <th></th>\n",
       "      <th>actual</th>\n",
       "      <th>prob_1</th>\n",
       "      <th>predictions</th>\n",
       "    </tr>\n",
       "    <tr>\n",
       "      <th>flight_record</th>\n",
       "      <th></th>\n",
       "      <th></th>\n",
       "      <th></th>\n",
       "    </tr>\n",
       "  </thead>\n",
       "  <tbody>\n",
       "    <tr>\n",
       "      <td>2705562</td>\n",
       "      <td>0</td>\n",
       "      <td>0.00</td>\n",
       "      <td>0</td>\n",
       "    </tr>\n",
       "    <tr>\n",
       "      <td>2784781</td>\n",
       "      <td>0</td>\n",
       "      <td>0.21</td>\n",
       "      <td>0</td>\n",
       "    </tr>\n",
       "    <tr>\n",
       "      <td>2660587</td>\n",
       "      <td>0</td>\n",
       "      <td>0.00</td>\n",
       "      <td>0</td>\n",
       "    </tr>\n",
       "    <tr>\n",
       "      <td>2830398</td>\n",
       "      <td>0</td>\n",
       "      <td>0.17</td>\n",
       "      <td>0</td>\n",
       "    </tr>\n",
       "    <tr>\n",
       "      <td>2518136</td>\n",
       "      <td>0</td>\n",
       "      <td>0.00</td>\n",
       "      <td>0</td>\n",
       "    </tr>\n",
       "    <tr>\n",
       "      <td>...</td>\n",
       "      <td>...</td>\n",
       "      <td>...</td>\n",
       "      <td>...</td>\n",
       "    </tr>\n",
       "    <tr>\n",
       "      <td>2449851</td>\n",
       "      <td>0</td>\n",
       "      <td>0.01</td>\n",
       "      <td>0</td>\n",
       "    </tr>\n",
       "    <tr>\n",
       "      <td>2680600</td>\n",
       "      <td>0</td>\n",
       "      <td>0.00</td>\n",
       "      <td>0</td>\n",
       "    </tr>\n",
       "    <tr>\n",
       "      <td>2453316</td>\n",
       "      <td>0</td>\n",
       "      <td>0.09</td>\n",
       "      <td>0</td>\n",
       "    </tr>\n",
       "    <tr>\n",
       "      <td>2438833</td>\n",
       "      <td>1</td>\n",
       "      <td>1.00</td>\n",
       "      <td>1</td>\n",
       "    </tr>\n",
       "    <tr>\n",
       "      <td>2785767</td>\n",
       "      <td>0</td>\n",
       "      <td>0.06</td>\n",
       "      <td>0</td>\n",
       "    </tr>\n",
       "  </tbody>\n",
       "</table>\n",
       "<p>719 rows × 3 columns</p>\n",
       "</div>"
      ],
      "text/plain": [
       "               actual  prob_1  predictions\n",
       "flight_record                             \n",
       "2705562             0    0.00            0\n",
       "2784781             0    0.21            0\n",
       "2660587             0    0.00            0\n",
       "2830398             0    0.17            0\n",
       "2518136             0    0.00            0\n",
       "...               ...     ...          ...\n",
       "2449851             0    0.01            0\n",
       "2680600             0    0.00            0\n",
       "2453316             0    0.09            0\n",
       "2438833             1    1.00            1\n",
       "2785767             0    0.06            0\n",
       "\n",
       "[719 rows x 3 columns]"
      ]
     },
     "execution_count": 27,
     "metadata": {},
     "output_type": "execute_result"
    }
   ],
   "source": [
    "actual = y_test\n",
    "\n",
    "prob_1 = best_random.predict_proba(X_test)[:,1]\n",
    "\n",
    "evaluate = pd.DataFrame({\"actual\": actual\n",
    "                        , \"prob_1\": prob_1\n",
    "                        })\n",
    "threshold = 0.5\n",
    "\n",
    "evaluate[\"predictions\"] = (evaluate[\"prob_1\"] > threshold) *1\n",
    "\n",
    "print((evaluate[\"actual\"]==evaluate[\"predictions\"]).mean())\n",
    "evaluate"
   ]
  },
  {
   "cell_type": "markdown",
   "metadata": {},
   "source": [
    "## probability/distribution plot"
   ]
  },
  {
   "cell_type": "code",
   "execution_count": 28,
   "metadata": {},
   "outputs": [
    {
     "data": {
      "text/plain": [
       "[]"
      ]
     },
     "execution_count": 28,
     "metadata": {},
     "output_type": "execute_result"
    },
    {
     "data": {
      "image/png": "[encoded data removed]",
      "text/plain": [
       "<Figure size 432x288 with 1 Axes>"
      ]
     },
     "metadata": {
      "needs_background": "light"
     },
     "output_type": "display_data"
    }
   ],
   "source": [
    "import seaborn as sns\n",
    "import matplotlib.pyplot as plt\n",
    "\n",
    "x = evaluate[evaluate['actual']==1].prob_1\n",
    "y = evaluate[evaluate['actual']==0].prob_1\n",
    "\n",
    "bins = np.linspace(0,1,40)\n",
    "\n",
    "sns.distplot(x, bins=bins, label='1')\n",
    "sns.distplot(y, bins=bins, label='0')\n",
    "plt.xlim(0,1)\n",
    "plt.xlabel('probability')\n",
    "plt.ylabel('distribution')\n",
    "plt.legend()\n",
    "plt.plot()"
   ]
  },
  {
   "cell_type": "markdown",
   "metadata": {},
   "source": [
    "## Classification report"
   ]
  },
  {
   "cell_type": "code",
   "execution_count": 29,
   "metadata": {},
   "outputs": [
    {
     "name": "stdout",
     "output_type": "stream",
     "text": [
      "              precision    recall  f1-score   support\n",
      "\n",
      "           0       0.99      0.99      0.99       641\n",
      "           1       0.90      0.90      0.90        78\n",
      "\n",
      "    accuracy                           0.98       719\n",
      "   macro avg       0.94      0.94      0.94       719\n",
      "weighted avg       0.98      0.98      0.98       719\n",
      "\n"
     ]
    }
   ],
   "source": [
    "from sklearn.metrics import classification_report\n",
    "\n",
    "# Predict the labels of the test set\n",
    "y_pred = best_random.predict(X_test)\n",
    "\n",
    "# Compute metrics\n",
    "print(classification_report(y_test, y_pred))\n",
    "#print(\"Accuracy: {}\".format(cv.score(X_test, y_test)))"
   ]
  },
  {
   "cell_type": "markdown",
   "metadata": {},
   "source": [
    "**interpretaion**\n",
    "- Recall – What percent of the positive cases did you catch? \n",
    "- Precision – What percent of your predictions were correct?\n",
    "- F1 score – What percent of positive predictions were correct? \n",
    "    - the harmonic mean between precision & recall\n",
    "- The support is the number of occurence of the given class in your dataset"
   ]
  },
  {
   "cell_type": "markdown",
   "metadata": {},
   "source": [
    "## Confusion matrix"
   ]
  },
  {
   "cell_type": "code",
   "execution_count": 30,
   "metadata": {},
   "outputs": [
    {
     "data": {
      "image/png": "[encoded data removed]",
      "text/plain": [
       "<Figure size 432x288 with 2 Axes>"
      ]
     },
     "metadata": {
      "needs_background": "light"
     },
     "output_type": "display_data"
    }
   ],
   "source": [
    "from sklearn.metrics import plot_confusion_matrix\n",
    "\n",
    "disp = plot_confusion_matrix(best_random, X_test,y_test, cmap=plt.cm.Blues,display_labels=dict(Not_a_False_Positive=0,false_positive=1))\n",
    "disp.ax_.set_title(\"false flag - confusion matrix\")\n",
    "plt.show()"
   ]
  },
  {
   "cell_type": "markdown",
   "metadata": {},
   "source": [
    "## ROC Curve"
   ]
  },
  {
   "cell_type": "code",
   "execution_count": 31,
   "metadata": {},
   "outputs": [
    {
     "data": {
      "image/png": "[encoded data removed]",
      "text/plain": [
       "<Figure size 432x288 with 1 Axes>"
      ]
     },
     "metadata": {
      "needs_background": "light"
     },
     "output_type": "display_data"
    }
   ],
   "source": [
    "# Import necessary modules\n",
    "from sklearn.metrics import roc_curve\n",
    "\n",
    "# Compute predicted probabilities: y_pred_prob\n",
    "y_pred_prob = best_random.predict_proba(X_test)[:,1]\n",
    "\n",
    "# Generate ROC curve values: fpr, tpr, thresholds\n",
    "fpr, tpr, thresholds = roc_curve(y_test, y_pred_prob)\n",
    "\n",
    "# Plot ROC curve\n",
    "plt.plot([0, 1], [0, 1], 'k--')\n",
    "plt.plot(fpr, tpr)\n",
    "plt.xlabel('False Positive Rate')\n",
    "plt.ylabel('True Positive Rate')\n",
    "plt.title('ROC Curve')\n",
    "plt.show()"
   ]
  },
  {
   "cell_type": "markdown",
   "metadata": {},
   "source": [
    "## feature importance"
   ]
  },
  {
   "cell_type": "code",
   "execution_count": 32,
   "metadata": {},
   "outputs": [
    {
     "data": {
      "image/png": "[encoded data removed]",
      "text/plain": [
       "<Figure size 720x720 with 1 Axes>"
      ]
     },
     "metadata": {
      "needs_background": "light"
     },
     "output_type": "display_data"
    },
    {
     "data": {
      "text/html": [
       "<div>\n",
       "<style scoped>\n",
       "    .dataframe tbody tr th:only-of-type {\n",
       "        vertical-align: middle;\n",
       "    }\n",
       "\n",
       "    .dataframe tbody tr th {\n",
       "        vertical-align: top;\n",
       "    }\n",
       "\n",
       "    .dataframe thead th {\n",
       "        text-align: right;\n",
       "    }\n",
       "</style>\n",
       "<table border=\"1\" class=\"dataframe\">\n",
       "  <thead>\n",
       "    <tr style=\"text-align: right;\">\n",
       "      <th></th>\n",
       "      <th>feature</th>\n",
       "      <th>importance</th>\n",
       "      <th>cum_sum</th>\n",
       "    </tr>\n",
       "  </thead>\n",
       "  <tbody>\n",
       "    <tr>\n",
       "      <td>0</td>\n",
       "      <td>p14_event_type</td>\n",
       "      <td>0.221567</td>\n",
       "      <td>0.221567</td>\n",
       "    </tr>\n",
       "    <tr>\n",
       "      <td>1</td>\n",
       "      <td>p14_flap_position_at_start_of_event_deg_ted</td>\n",
       "      <td>0.179594</td>\n",
       "      <td>0.401161</td>\n",
       "    </tr>\n",
       "    <tr>\n",
       "      <td>2</td>\n",
       "      <td>p14_end_of_event_10_seconds_seconds_from_start...</td>\n",
       "      <td>0.176998</td>\n",
       "      <td>0.578158</td>\n",
       "    </tr>\n",
       "    <tr>\n",
       "      <td>3</td>\n",
       "      <td>p14_start_of_event_10_seconds_seconds_from_sta...</td>\n",
       "      <td>0.115287</td>\n",
       "      <td>0.693445</td>\n",
       "    </tr>\n",
       "    <tr>\n",
       "      <td>4</td>\n",
       "      <td>p14_flap_handle_position_at_start_of_event</td>\n",
       "      <td>0.081109</td>\n",
       "      <td>0.774555</td>\n",
       "    </tr>\n",
       "    <tr>\n",
       "      <td>5</td>\n",
       "      <td>p14_estimated_nav_error_at_start_of_event_nm</td>\n",
       "      <td>0.062684</td>\n",
       "      <td>0.837239</td>\n",
       "    </tr>\n",
       "    <tr>\n",
       "      <td>6</td>\n",
       "      <td>p14_error_b_w_gmt_and_recorded_time_around_eve...</td>\n",
       "      <td>0.062202</td>\n",
       "      <td>0.899441</td>\n",
       "    </tr>\n",
       "    <tr>\n",
       "      <td>7</td>\n",
       "      <td>p14_speed_brake_handle_position_at_start_of_ev...</td>\n",
       "      <td>0.059664</td>\n",
       "      <td>0.959105</td>\n",
       "    </tr>\n",
       "    <tr>\n",
       "      <td>8</td>\n",
       "      <td>p14_data_dropouts_seconds</td>\n",
       "      <td>0.020720</td>\n",
       "      <td>0.979825</td>\n",
       "    </tr>\n",
       "    <tr>\n",
       "      <td>9</td>\n",
       "      <td>p14_severity</td>\n",
       "      <td>0.020175</td>\n",
       "      <td>1.000000</td>\n",
       "    </tr>\n",
       "    <tr>\n",
       "      <td>10</td>\n",
       "      <td>p14_standard_deviation_of_sample_rate_of_gmt_e...</td>\n",
       "      <td>0.000000</td>\n",
       "      <td>1.000000</td>\n",
       "    </tr>\n",
       "  </tbody>\n",
       "</table>\n",
       "</div>"
      ],
      "text/plain": [
       "                                              feature  importance   cum_sum\n",
       "0                                      p14_event_type    0.221567  0.221567\n",
       "1         p14_flap_position_at_start_of_event_deg_ted    0.179594  0.401161\n",
       "2   p14_end_of_event_10_seconds_seconds_from_start...    0.176998  0.578158\n",
       "3   p14_start_of_event_10_seconds_seconds_from_sta...    0.115287  0.693445\n",
       "4          p14_flap_handle_position_at_start_of_event    0.081109  0.774555\n",
       "5        p14_estimated_nav_error_at_start_of_event_nm    0.062684  0.837239\n",
       "6   p14_error_b_w_gmt_and_recorded_time_around_eve...    0.062202  0.899441\n",
       "7   p14_speed_brake_handle_position_at_start_of_ev...    0.059664  0.959105\n",
       "8                           p14_data_dropouts_seconds    0.020720  0.979825\n",
       "9                                        p14_severity    0.020175  1.000000\n",
       "10  p14_standard_deviation_of_sample_rate_of_gmt_e...    0.000000  1.000000"
      ]
     },
     "metadata": {},
     "output_type": "display_data"
    },
    {
     "name": "stdout",
     "output_type": "stream",
     "text": [
      "Original number of columns: 11\n"
     ]
    }
   ],
   "source": [
    "n_records = 15\n",
    "\n",
    "importances = pd.DataFrame({\n",
    "    \"feature\": features,\n",
    "    \"importance\": best_random.feature_importances_\n",
    "})\n",
    "importances = importances.sort_values(\"importance\", ascending=False).reset_index(drop=True)\n",
    "importances[\"cum_sum\"] = np.cumsum(importances.importance)\n",
    "\n",
    "fig, ax = plt.subplots(figsize=(10, 10))\n",
    "\n",
    "sns.barplot(importances[:n_records].importance, importances[:n_records].feature, color='#E74C3C')\n",
    "\n",
    "plt.show()\n",
    "\n",
    "display(importances[:n_records])\n",
    "print(f\"Original number of columns: {len(features)}\")"
   ]
  },
  {
   "cell_type": "markdown",
   "metadata": {},
   "source": [
    "## Create the explainer"
   ]
  },
  {
   "cell_type": "code",
   "execution_count": 33,
   "metadata": {},
   "outputs": [],
   "source": [
    "from __future__ import print_function\n",
    "\n",
    "import lime\n",
    "import lime.lime_tabular"
   ]
  },
  {
   "cell_type": "code",
   "execution_count": 34,
   "metadata": {},
   "outputs": [
    {
     "ename": "NameError",
     "evalue": "name 'target' is not defined",
     "output_type": "error",
     "traceback": [
      "\u001b[1;31m---------------------------------------------------------------------------\u001b[0m",
      "\u001b[1;31mNameError\u001b[0m                                 Traceback (most recent call last)",
      "\u001b[1;32m<ipython-input-34-cd105694f519>\u001b[0m in \u001b[0;36m<module>\u001b[1;34m\u001b[0m\n\u001b[0;32m      1\u001b[0m explainer = lime.lime_tabular.LimeTabularExplainer(X_train\n\u001b[0;32m      2\u001b[0m                                                    \u001b[1;33m,\u001b[0m \u001b[0mfeature_names\u001b[0m\u001b[1;33m=\u001b[0m \u001b[0mfeatures\u001b[0m\u001b[1;33m\u001b[0m\u001b[1;33m\u001b[0m\u001b[0m\n\u001b[1;32m----> 3\u001b[1;33m                                                    \u001b[1;33m,\u001b[0m \u001b[0mclass_names\u001b[0m\u001b[1;33m=\u001b[0m \u001b[0mtarget\u001b[0m\u001b[1;33m\u001b[0m\u001b[1;33m\u001b[0m\u001b[0m\n\u001b[0m\u001b[0;32m      4\u001b[0m                                                    \u001b[1;33m,\u001b[0m \u001b[0mdiscretize_continuous\u001b[0m\u001b[1;33m=\u001b[0m\u001b[1;32mTrue\u001b[0m\u001b[1;33m\u001b[0m\u001b[1;33m\u001b[0m\u001b[0m\n\u001b[0;32m      5\u001b[0m                                                    )\n",
      "\u001b[1;31mNameError\u001b[0m: name 'target' is not defined"
     ]
    }
   ],
   "source": [
    "explainer = lime.lime_tabular.LimeTabularExplainer(X_train\n",
    "                                                   , feature_names= features\n",
    "                                                   , class_names= target\n",
    "                                                   , discretize_continuous=True\n",
    "                                                   )"
   ]
  },
  {
   "cell_type": "code",
   "execution_count": null,
   "metadata": {},
   "outputs": [],
   "source": [
    "np.random.seed(1)\n",
    "i = np.random.randint(0, X_test.shape[0])\n",
    "\n",
    "exp = explainer.explain_instance(X_test[i], clf.predict_proba, num_features=2, top_labels=1)\n",
    "exp.show_in_notebook(show_table=True, show_all=True)"
   ]
  }
 ],
 "metadata": {
  "kernelspec": {
   "display_name": "Python 3",
   "language": "python",
   "name": "python3"
  },
  "language_info": {
   "codemirror_mode": {
    "name": "ipython",
    "version": 3
   },
   "file_extension": ".py",
   "mimetype": "text/x-python",
   "name": "python",
   "nbconvert_exporter": "python",
   "pygments_lexer": "ipython3",
   "version": "3.7.4"
  }
 },
 "nbformat": 4,
 "nbformat_minor": 2
}
