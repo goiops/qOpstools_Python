{
 "cells": [
  {
   "cell_type": "code",
   "execution_count": 2,
   "metadata": {},
   "outputs": [],
   "source": [
    "import numpy as np\n",
    "import pandas as pd\n",
    "import seaborn as sns\n",
    "import matplotlib.pyplot as plt\n",
    "from sklearn.preprocessing import StandardScaler\n",
    "from sklearn.impute import SimpleImputer"
   ]
  },
  {
   "cell_type": "code",
   "execution_count": 3,
   "metadata": {},
   "outputs": [],
   "source": [
    "from __future__ import print_function"
   ]
  },
  {
   "cell_type": "markdown",
   "metadata": {},
   "source": [
    "## Loading data, training a model"
   ]
  },
  {
   "cell_type": "code",
   "execution_count": 4,
   "metadata": {},
   "outputs": [],
   "source": [
    "file1 = 'Flight-Level-False-Pos-Data_160920.csv'\n",
    "\n",
    "df1 = pd.read_csv(file1)\n",
    "df1 = df1.set_index('p14_event_record')\n",
    "\n",
    "#df1.head()"
   ]
  },
  {
   "cell_type": "markdown",
   "metadata": {},
   "source": [
    "## setting features and targets"
   ]
  },
  {
   "cell_type": "code",
   "execution_count": 5,
   "metadata": {},
   "outputs": [],
   "source": [
    "#df1.columns.tolist()"
   ]
  },
  {
   "cell_type": "code",
   "execution_count": 6,
   "metadata": {},
   "outputs": [],
   "source": [
    "features = [#'flight_record',\n",
    " #'flight_date_exact',\n",
    " #'tail_number',\n",
    " #'airframe',\n",
    " #'fleet',\n",
    " #'takeoff_airport_code',\n",
    " #'landing_airport_code',\n",
    " 'p14_event_type',\n",
    " 'p14_severity',\n",
    " #'p14_false_positive',\n",
    " 'p14_start_of_event_10_seconds_seconds_from_start_of_file',\n",
    " 'p14_end_of_event_10_seconds_seconds_from_start_of_file',\n",
    " 'p14_data_dropouts_seconds',\n",
    " 'p14_error_b_w_gmt_and_recorded_time_around_event_percent',\n",
    " 'p14_estimated_nav_error_at_start_of_event_nm',\n",
    " 'p14_standard_deviation_of_sample_rate_of_gmt_event_interval_30_seconds_hz',\n",
    " 'p14_flap_handle_position_at_start_of_event',\n",
    " 'p14_speed_brake_handle_position_at_start_of_event_deg',\n",
    " 'p14_flap_position_at_start_of_event_deg_ted'\n",
    "           ]\n",
    "\n",
    "target = 'target'"
   ]
  },
  {
   "cell_type": "code",
   "execution_count": 7,
   "metadata": {},
   "outputs": [],
   "source": [
    "X = df1[features]\n",
    "y = df1[target]"
   ]
  },
  {
   "cell_type": "markdown",
   "metadata": {},
   "source": [
    "X = process_event_type(X)"
   ]
  },
  {
   "cell_type": "markdown",
   "metadata": {},
   "source": [
    "## train test split"
   ]
  },
  {
   "cell_type": "code",
   "execution_count": 8,
   "metadata": {},
   "outputs": [],
   "source": [
    "from sklearn.model_selection import train_test_split\n",
    "\n",
    "X_train, X_test, y_train, y_test = train_test_split(X, y, test_size=0.3, random_state=42)"
   ]
  },
  {
   "cell_type": "code",
   "execution_count": 9,
   "metadata": {},
   "outputs": [
    {
     "data": {
      "text/plain": [
       "(1677, 11)"
      ]
     },
     "execution_count": 9,
     "metadata": {},
     "output_type": "execute_result"
    }
   ],
   "source": [
    "X_train.shape"
   ]
  },
  {
   "cell_type": "code",
   "execution_count": 10,
   "metadata": {},
   "outputs": [
    {
     "data": {
      "text/plain": [
       "(719, 11)"
      ]
     },
     "execution_count": 10,
     "metadata": {},
     "output_type": "execute_result"
    }
   ],
   "source": [
    "X_test.shape"
   ]
  },
  {
   "cell_type": "markdown",
   "metadata": {},
   "source": [
    "## functions for processing data"
   ]
  },
  {
   "cell_type": "code",
   "execution_count": 11,
   "metadata": {},
   "outputs": [],
   "source": [
    "def process_severity(df):\n",
    "    \"\"\"convert severity level Column into integers \n",
    "\n",
    "    Usage\n",
    "    ------\n",
    "\n",
    "    train = process_severity(train)\n",
    "    \"\"\"    \n",
    "    df['p14_severity'] = df['p14_severity'].map({'Level 2': 0,\n",
    "                              'Level 3': 1})\n",
    "    return df\n",
    "\n",
    "def process_event_type(df):\n",
    "    \"\"\"Create Dummy Columns (One Hot Encoding) from p14_event_type Column \n",
    "\n",
    "    Usage\n",
    "    ------\n",
    "\n",
    "    train = process_event_type(train)\n",
    "    \"\"\"\n",
    "    df = pd.get_dummies(df, columns=['p14_event_type'], prefix='event_type')\n",
    "    return df\n",
    "\n",
    "def scale_data(df):\n",
    "    \"\"\"scales the data from the data set \n",
    "\n",
    "    Usage\n",
    "    ------\n",
    "\n",
    "    train = scale_data(train)\n",
    "    \"\"\"      \n",
    "    X_Scaler = StandardScaler().fit(df)\n",
    "    df = X_Scaler.transform(df)\n",
    "    return df\n",
    "    \n",
    "def impute_null_vales(df):\n",
    "    \"\"\"Handle missing values from the data set\n",
    "\n",
    "    Usage\n",
    "    ------\n",
    "\n",
    "    holdout = process_missing(holdout)\n",
    "    \"\"\"\n",
    "    X_Imputer = SimpleImputer(missing_values=np.nan, strategy='most_frequent').fit(df)\n",
    "    df = X_Imputer.transform(df)\n",
    "    return df"
   ]
  },
  {
   "cell_type": "markdown",
   "metadata": {},
   "source": [
    "## Transform training data"
   ]
  },
  {
   "cell_type": "code",
   "execution_count": 12,
   "metadata": {},
   "outputs": [
    {
     "name": "stderr",
     "output_type": "stream",
     "text": [
      "D:\\Users\\207634\\AppData\\Local\\Continuum\\anaconda3\\lib\\site-packages\\ipykernel_launcher.py:10: SettingWithCopyWarning: \n",
      "A value is trying to be set on a copy of a slice from a DataFrame.\n",
      "Try using .loc[row_indexer,col_indexer] = value instead\n",
      "\n",
      "See the caveats in the documentation: http://pandas.pydata.org/pandas-docs/stable/user_guide/indexing.html#returning-a-view-versus-a-copy\n",
      "  # Remove the CWD from sys.path while we load stuff.\n"
     ]
    }
   ],
   "source": [
    "X_train = process_severity(X_train)"
   ]
  },
  {
   "cell_type": "code",
   "execution_count": 13,
   "metadata": {},
   "outputs": [],
   "source": [
    "X_train = process_event_type(X_train)"
   ]
  },
  {
   "cell_type": "code",
   "execution_count": 14,
   "metadata": {},
   "outputs": [],
   "source": [
    "X_train_scaled = scale_data(X_train)"
   ]
  },
  {
   "cell_type": "code",
   "execution_count": 15,
   "metadata": {},
   "outputs": [],
   "source": [
    "X_train_imputed = impute_null_vales(X_train_scaled)"
   ]
  },
  {
   "cell_type": "code",
   "execution_count": 16,
   "metadata": {},
   "outputs": [],
   "source": [
    "X_train = pd.DataFrame(X_train_imputed, columns = X_train.columns)"
   ]
  },
  {
   "cell_type": "code",
   "execution_count": 17,
   "metadata": {},
   "outputs": [
    {
     "data": {
      "text/plain": [
       "(1677, 56)"
      ]
     },
     "execution_count": 17,
     "metadata": {},
     "output_type": "execute_result"
    }
   ],
   "source": [
    "X_train.shape"
   ]
  },
  {
   "cell_type": "markdown",
   "metadata": {},
   "source": [
    "## Transform test data"
   ]
  },
  {
   "cell_type": "code",
   "execution_count": 18,
   "metadata": {},
   "outputs": [
    {
     "name": "stderr",
     "output_type": "stream",
     "text": [
      "D:\\Users\\207634\\AppData\\Local\\Continuum\\anaconda3\\lib\\site-packages\\ipykernel_launcher.py:10: SettingWithCopyWarning: \n",
      "A value is trying to be set on a copy of a slice from a DataFrame.\n",
      "Try using .loc[row_indexer,col_indexer] = value instead\n",
      "\n",
      "See the caveats in the documentation: http://pandas.pydata.org/pandas-docs/stable/user_guide/indexing.html#returning-a-view-versus-a-copy\n",
      "  # Remove the CWD from sys.path while we load stuff.\n"
     ]
    }
   ],
   "source": [
    "X_test = process_severity(X_test)"
   ]
  },
  {
   "cell_type": "code",
   "execution_count": 19,
   "metadata": {},
   "outputs": [],
   "source": [
    "X_test = process_event_type(X_test)"
   ]
  },
  {
   "cell_type": "code",
   "execution_count": 20,
   "metadata": {},
   "outputs": [],
   "source": [
    "X_test_scaled = scale_data(X_test)"
   ]
  },
  {
   "cell_type": "code",
   "execution_count": 21,
   "metadata": {},
   "outputs": [],
   "source": [
    "X_test_imputed = impute_null_vales(X_test_scaled)"
   ]
  },
  {
   "cell_type": "code",
   "execution_count": 22,
   "metadata": {},
   "outputs": [],
   "source": [
    "X_test = pd.DataFrame(X_test_imputed, columns = X_test.columns)"
   ]
  },
  {
   "cell_type": "code",
   "execution_count": 23,
   "metadata": {},
   "outputs": [
    {
     "data": {
      "text/plain": [
       "(719, 51)"
      ]
     },
     "execution_count": 23,
     "metadata": {},
     "output_type": "execute_result"
    }
   ],
   "source": [
    "X_test.shape"
   ]
  },
  {
   "cell_type": "markdown",
   "metadata": {},
   "source": [
    "## Align the number of features in test set based on train dataset"
   ]
  },
  {
   "cell_type": "code",
   "execution_count": 24,
   "metadata": {},
   "outputs": [],
   "source": [
    "# Align the number of features across validation and test sets based on train dataset\n",
    "\n",
    "X_train, X_test = X_train.align(X_test, join='left',fill_value=0, axis=1)"
   ]
  },
  {
   "cell_type": "code",
   "execution_count": 25,
   "metadata": {},
   "outputs": [
    {
     "data": {
      "text/plain": [
       "(719, 56)"
      ]
     },
     "execution_count": 25,
     "metadata": {},
     "output_type": "execute_result"
    }
   ],
   "source": [
    "X_test.shape"
   ]
  },
  {
   "cell_type": "code",
   "execution_count": 26,
   "metadata": {},
   "outputs": [],
   "source": [
    "#X_test.columns.tolist()"
   ]
  },
  {
   "cell_type": "code",
   "execution_count": 27,
   "metadata": {},
   "outputs": [
    {
     "data": {
      "text/plain": [
       "(1677, 56)"
      ]
     },
     "execution_count": 27,
     "metadata": {},
     "output_type": "execute_result"
    }
   ],
   "source": [
    "X_train.shape"
   ]
  },
  {
   "cell_type": "code",
   "execution_count": 28,
   "metadata": {},
   "outputs": [],
   "source": [
    "#X_train.columns.tolist()"
   ]
  },
  {
   "cell_type": "markdown",
   "metadata": {},
   "source": [
    "## Resampling"
   ]
  },
  {
   "cell_type": "code",
   "execution_count": 29,
   "metadata": {},
   "outputs": [],
   "source": [
    "from imblearn.over_sampling import SMOTE\n",
    "\n",
    "smote = SMOTE()\n",
    "X_sm, y_sm = smote.fit_sample(X_train, y_train)"
   ]
  },
  {
   "cell_type": "code",
   "execution_count": 30,
   "metadata": {},
   "outputs": [
    {
     "data": {
      "text/plain": [
       "(2966, 56)"
      ]
     },
     "execution_count": 30,
     "metadata": {},
     "output_type": "execute_result"
    }
   ],
   "source": [
    "X_sm.shape"
   ]
  },
  {
   "cell_type": "code",
   "execution_count": 31,
   "metadata": {},
   "outputs": [
    {
     "data": {
      "text/plain": [
       "(2966,)"
      ]
     },
     "execution_count": 31,
     "metadata": {},
     "output_type": "execute_result"
    }
   ],
   "source": [
    "y_sm.shape"
   ]
  },
  {
   "cell_type": "code",
   "execution_count": 32,
   "metadata": {},
   "outputs": [
    {
     "data": {
      "text/plain": [
       "<matplotlib.axes._subplots.AxesSubplot at 0xc1eea08>"
      ]
     },
     "execution_count": 32,
     "metadata": {},
     "output_type": "execute_result"
    },
    {
     "data": {
      "image/png": "[encoded data removed]",
      "text/plain": [
       "<Figure size 432x288 with 1 Axes>"
      ]
     },
     "metadata": {
      "needs_background": "light"
     },
     "output_type": "display_data"
    }
   ],
   "source": [
    "y_sm.value_counts().plot.bar()"
   ]
  },
  {
   "cell_type": "markdown",
   "metadata": {},
   "source": [
    "## modelling"
   ]
  },
  {
   "cell_type": "code",
   "execution_count": 33,
   "metadata": {},
   "outputs": [],
   "source": [
    "from sklearn.ensemble import RandomForestClassifier\n",
    "clf = RandomForestClassifier(n_estimators=800\n",
    "                             , min_samples_split=3\n",
    "                             , min_samples_leaf=1\n",
    "                             , max_features='sqrt'\n",
    "                             , max_depth=90\n",
    "                             , bootstrap='False')"
   ]
  },
  {
   "cell_type": "code",
   "execution_count": 34,
   "metadata": {},
   "outputs": [
    {
     "data": {
      "text/plain": [
       "RandomForestClassifier(bootstrap='False', max_depth=90, max_features='sqrt',\n",
       "                       min_samples_split=3, n_estimators=800)"
      ]
     },
     "execution_count": 34,
     "metadata": {},
     "output_type": "execute_result"
    }
   ],
   "source": [
    "clf.fit(X_sm, y_sm)"
   ]
  },
  {
   "cell_type": "code",
   "execution_count": 35,
   "metadata": {},
   "outputs": [
    {
     "name": "stdout",
     "output_type": "stream",
     "text": [
      "Parameters currently in use:\n",
      "\n",
      "{'bootstrap': 'False',\n",
      " 'ccp_alpha': 0.0,\n",
      " 'class_weight': None,\n",
      " 'criterion': 'gini',\n",
      " 'max_depth': 90,\n",
      " 'max_features': 'sqrt',\n",
      " 'max_leaf_nodes': None,\n",
      " 'max_samples': None,\n",
      " 'min_impurity_decrease': 0.0,\n",
      " 'min_impurity_split': None,\n",
      " 'min_samples_leaf': 1,\n",
      " 'min_samples_split': 3,\n",
      " 'min_weight_fraction_leaf': 0.0,\n",
      " 'n_estimators': 800,\n",
      " 'n_jobs': None,\n",
      " 'oob_score': False,\n",
      " 'random_state': None,\n",
      " 'verbose': 0,\n",
      " 'warm_start': False}\n"
     ]
    }
   ],
   "source": [
    "from pprint import pprint\n",
    "# Look at parameters used by our current forest\n",
    "print('Parameters currently in use:\\n')\n",
    "pprint(clf.get_params())"
   ]
  },
  {
   "cell_type": "markdown",
   "metadata": {},
   "source": [
    "## Evaluation"
   ]
  },
  {
   "cell_type": "code",
   "execution_count": 36,
   "metadata": {},
   "outputs": [],
   "source": [
    "#from sklearn.metrics import accuracy_score\n",
    "#accuracy_score(y_test, clf.predict(X_test))"
   ]
  },
  {
   "cell_type": "code",
   "execution_count": 37,
   "metadata": {},
   "outputs": [
    {
     "name": "stdout",
     "output_type": "stream",
     "text": [
      "0.972183588317107\n"
     ]
    }
   ],
   "source": [
    "actual = y_test\n",
    "\n",
    "prob_1 = clf.predict_proba(X_test)[:,1]\n",
    "\n",
    "evaluate = pd.DataFrame({\"actual\": actual\n",
    "                        , \"prob_1\": prob_1\n",
    "                        })\n",
    "threshold = 0.5\n",
    "\n",
    "evaluate[\"predictions\"] = (evaluate[\"prob_1\"] > threshold) *1\n",
    "\n",
    "print((evaluate[\"actual\"]==evaluate[\"predictions\"]).mean())\n",
    "#evaluate"
   ]
  },
  {
   "cell_type": "code",
   "execution_count": 38,
   "metadata": {},
   "outputs": [
    {
     "data": {
      "text/html": [
       "<div>\n",
       "<style scoped>\n",
       "    .dataframe tbody tr th:only-of-type {\n",
       "        vertical-align: middle;\n",
       "    }\n",
       "\n",
       "    .dataframe tbody tr th {\n",
       "        vertical-align: top;\n",
       "    }\n",
       "\n",
       "    .dataframe thead th {\n",
       "        text-align: right;\n",
       "    }\n",
       "</style>\n",
       "<table border=\"1\" class=\"dataframe\">\n",
       "  <thead>\n",
       "    <tr style=\"text-align: right;\">\n",
       "      <th></th>\n",
       "      <th>actual</th>\n",
       "      <th>prob_1</th>\n",
       "      <th>predictions</th>\n",
       "    </tr>\n",
       "    <tr>\n",
       "      <th>p14_event_record</th>\n",
       "      <th></th>\n",
       "      <th></th>\n",
       "      <th></th>\n",
       "    </tr>\n",
       "  </thead>\n",
       "  <tbody>\n",
       "    <tr>\n",
       "      <td>40599479</td>\n",
       "      <td>0</td>\n",
       "      <td>0.791292</td>\n",
       "      <td>1</td>\n",
       "    </tr>\n",
       "    <tr>\n",
       "      <td>40812001</td>\n",
       "      <td>1</td>\n",
       "      <td>0.396542</td>\n",
       "      <td>0</td>\n",
       "    </tr>\n",
       "    <tr>\n",
       "      <td>40546981</td>\n",
       "      <td>1</td>\n",
       "      <td>0.103896</td>\n",
       "      <td>0</td>\n",
       "    </tr>\n",
       "    <tr>\n",
       "      <td>40621658</td>\n",
       "      <td>0</td>\n",
       "      <td>0.890610</td>\n",
       "      <td>1</td>\n",
       "    </tr>\n",
       "    <tr>\n",
       "      <td>40601120</td>\n",
       "      <td>0</td>\n",
       "      <td>0.536771</td>\n",
       "      <td>1</td>\n",
       "    </tr>\n",
       "    <tr>\n",
       "      <td>40530944</td>\n",
       "      <td>0</td>\n",
       "      <td>0.567229</td>\n",
       "      <td>1</td>\n",
       "    </tr>\n",
       "    <tr>\n",
       "      <td>40787013</td>\n",
       "      <td>0</td>\n",
       "      <td>0.556875</td>\n",
       "      <td>1</td>\n",
       "    </tr>\n",
       "    <tr>\n",
       "      <td>40541586</td>\n",
       "      <td>0</td>\n",
       "      <td>0.557125</td>\n",
       "      <td>1</td>\n",
       "    </tr>\n",
       "    <tr>\n",
       "      <td>40688656</td>\n",
       "      <td>0</td>\n",
       "      <td>0.615354</td>\n",
       "      <td>1</td>\n",
       "    </tr>\n",
       "    <tr>\n",
       "      <td>40540024</td>\n",
       "      <td>0</td>\n",
       "      <td>0.511417</td>\n",
       "      <td>1</td>\n",
       "    </tr>\n",
       "    <tr>\n",
       "      <td>40836586</td>\n",
       "      <td>1</td>\n",
       "      <td>0.331375</td>\n",
       "      <td>0</td>\n",
       "    </tr>\n",
       "    <tr>\n",
       "      <td>40552529</td>\n",
       "      <td>0</td>\n",
       "      <td>0.664271</td>\n",
       "      <td>1</td>\n",
       "    </tr>\n",
       "    <tr>\n",
       "      <td>40521658</td>\n",
       "      <td>0</td>\n",
       "      <td>0.648771</td>\n",
       "      <td>1</td>\n",
       "    </tr>\n",
       "    <tr>\n",
       "      <td>40732073</td>\n",
       "      <td>0</td>\n",
       "      <td>0.504479</td>\n",
       "      <td>1</td>\n",
       "    </tr>\n",
       "    <tr>\n",
       "      <td>40556201</td>\n",
       "      <td>1</td>\n",
       "      <td>0.113542</td>\n",
       "      <td>0</td>\n",
       "    </tr>\n",
       "    <tr>\n",
       "      <td>40711211</td>\n",
       "      <td>1</td>\n",
       "      <td>0.416958</td>\n",
       "      <td>0</td>\n",
       "    </tr>\n",
       "    <tr>\n",
       "      <td>40723088</td>\n",
       "      <td>1</td>\n",
       "      <td>0.073958</td>\n",
       "      <td>0</td>\n",
       "    </tr>\n",
       "    <tr>\n",
       "      <td>40859809</td>\n",
       "      <td>0</td>\n",
       "      <td>0.813229</td>\n",
       "      <td>1</td>\n",
       "    </tr>\n",
       "    <tr>\n",
       "      <td>40590947</td>\n",
       "      <td>0</td>\n",
       "      <td>0.582583</td>\n",
       "      <td>1</td>\n",
       "    </tr>\n",
       "    <tr>\n",
       "      <td>40573536</td>\n",
       "      <td>0</td>\n",
       "      <td>0.633375</td>\n",
       "      <td>1</td>\n",
       "    </tr>\n",
       "  </tbody>\n",
       "</table>\n",
       "</div>"
      ],
      "text/plain": [
       "                  actual    prob_1  predictions\n",
       "p14_event_record                               \n",
       "40599479               0  0.791292            1\n",
       "40812001               1  0.396542            0\n",
       "40546981               1  0.103896            0\n",
       "40621658               0  0.890610            1\n",
       "40601120               0  0.536771            1\n",
       "40530944               0  0.567229            1\n",
       "40787013               0  0.556875            1\n",
       "40541586               0  0.557125            1\n",
       "40688656               0  0.615354            1\n",
       "40540024               0  0.511417            1\n",
       "40836586               1  0.331375            0\n",
       "40552529               0  0.664271            1\n",
       "40521658               0  0.648771            1\n",
       "40732073               0  0.504479            1\n",
       "40556201               1  0.113542            0\n",
       "40711211               1  0.416958            0\n",
       "40723088               1  0.073958            0\n",
       "40859809               0  0.813229            1\n",
       "40590947               0  0.582583            1\n",
       "40573536               0  0.633375            1"
      ]
     },
     "execution_count": 38,
     "metadata": {},
     "output_type": "execute_result"
    }
   ],
   "source": [
    "#incorrect predictions\n",
    "errors = evaluate[evaluate['actual']!=evaluate['predictions']]\n",
    "errors"
   ]
  },
  {
   "cell_type": "code",
   "execution_count": 39,
   "metadata": {},
   "outputs": [],
   "source": [
    "#errors.to_csv('evaluation.csv', index = True, header=True)"
   ]
  },
  {
   "cell_type": "markdown",
   "metadata": {},
   "source": [
    "### probability/ distribution plot"
   ]
  },
  {
   "cell_type": "code",
   "execution_count": 40,
   "metadata": {},
   "outputs": [
    {
     "data": {
      "text/plain": [
       "[]"
      ]
     },
     "execution_count": 40,
     "metadata": {},
     "output_type": "execute_result"
    },
    {
     "data": {
      "image/png": "[encoded data removed]",
      "text/plain": [
       "<Figure size 432x288 with 1 Axes>"
      ]
     },
     "metadata": {
      "needs_background": "light"
     },
     "output_type": "display_data"
    }
   ],
   "source": [
    "#import seaborn as sns\n",
    "#import matplotlib.pyplot as plt\n",
    "\n",
    "x = evaluate[evaluate['actual']==1].prob_1\n",
    "y = evaluate[evaluate['actual']==0].prob_1\n",
    "\n",
    "bins = np.linspace(0,1,40)\n",
    "\n",
    "sns.distplot(x, bins=bins, label='1')\n",
    "sns.distplot(y, bins=bins, label='0')\n",
    "plt.xlim(0,1)\n",
    "plt.xlabel('probability')\n",
    "plt.ylabel('distribution')\n",
    "plt.legend()\n",
    "plt.plot()"
   ]
  },
  {
   "cell_type": "markdown",
   "metadata": {},
   "source": [
    "### Classification report"
   ]
  },
  {
   "cell_type": "code",
   "execution_count": 41,
   "metadata": {},
   "outputs": [
    {
     "name": "stdout",
     "output_type": "stream",
     "text": [
      "              precision    recall  f1-score   support\n",
      "\n",
      "           0       0.99      0.98      0.98       641\n",
      "           1       0.84      0.92      0.88        78\n",
      "\n",
      "    accuracy                           0.97       719\n",
      "   macro avg       0.91      0.95      0.93       719\n",
      "weighted avg       0.97      0.97      0.97       719\n",
      "\n"
     ]
    }
   ],
   "source": [
    "from sklearn.metrics import classification_report\n",
    "\n",
    "# Predict the labels of the test set\n",
    "y_pred = clf.predict(X_test)\n",
    "\n",
    "# Compute metrics\n",
    "print(classification_report(y_test, y_pred))\n",
    "#print(\"Accuracy: {}\".format(cv.score(X_test, y_test)))"
   ]
  },
  {
   "cell_type": "markdown",
   "metadata": {},
   "source": [
    "**interpretaion**\n",
    "- Recall – What percent of the positive cases did you catch? \n",
    "- Precision – What percent of your predictions were correct?\n",
    "- F1 score – What percent of positive predictions were correct? \n",
    "    - the harmonic mean between precision & recall\n",
    "- The support is the number of occurence of the given class in your dataset"
   ]
  },
  {
   "cell_type": "markdown",
   "metadata": {},
   "source": [
    "### confusion matrix"
   ]
  },
  {
   "cell_type": "markdown",
   "metadata": {},
   "source": [
    "cm = pd.crosstab(\n",
    "    evaluate[\"actual\"]\n",
    "    , evaluate[\"predictions\"]\n",
    "    , rownames = [\"Actual\"]\n",
    "    , colnames = [\"Prediction\"]\n",
    "    , margins = True\n",
    ")\n",
    "cm"
   ]
  },
  {
   "cell_type": "code",
   "execution_count": 42,
   "metadata": {
    "scrolled": true
   },
   "outputs": [
    {
     "data": {
      "image/png": "[encoded data removed]",
      "text/plain": [
       "<Figure size 432x288 with 2 Axes>"
      ]
     },
     "metadata": {
      "needs_background": "light"
     },
     "output_type": "display_data"
    }
   ],
   "source": [
    "from sklearn.metrics import plot_confusion_matrix\n",
    "\n",
    "disp = plot_confusion_matrix(clf, X_test,y_test, cmap=plt.cm.Blues,display_labels=dict(Not_a_False_Positive=0,false_positive=1))\n",
    "disp.ax_.set_title(\"false flag - confusion matrix\")\n",
    "plt.show()"
   ]
  },
  {
   "cell_type": "markdown",
   "metadata": {},
   "source": [
    "### ROC curve"
   ]
  },
  {
   "cell_type": "code",
   "execution_count": 43,
   "metadata": {},
   "outputs": [
    {
     "name": "stdout",
     "output_type": "stream",
     "text": [
      "0.950618024720989\n"
     ]
    }
   ],
   "source": [
    "# Import necessary modules\n",
    "from sklearn.metrics import auc, roc_curve\n",
    "\n",
    "false_positive_rate, true_positive_rate, thresholds = roc_curve(evaluate[\"actual\"] , evaluate[\"predictions\"])\n",
    "roc_auc = auc(false_positive_rate, true_positive_rate)\n",
    "print (roc_auc)"
   ]
  },
  {
   "cell_type": "code",
   "execution_count": 44,
   "metadata": {},
   "outputs": [
    {
     "data": {
      "image/png": "[encoded data removed]",
      "text/plain": [
       "<Figure size 432x288 with 1 Axes>"
      ]
     },
     "metadata": {
      "needs_background": "light"
     },
     "output_type": "display_data"
    }
   ],
   "source": [
    "# Compute predicted probabilities: y_pred_prob\n",
    "y_pred_prob = clf.predict_proba(X_test)[:,1]\n",
    "\n",
    "# Generate ROC curve values: fpr, tpr, thresholds\n",
    "fpr, tpr, thresholds = roc_curve(y_test, y_pred_prob)\n",
    "\n",
    "# Plot ROC curve\n",
    "plt.plot([0, 1], [0, 1], 'k--')\n",
    "plt.plot(fpr, tpr, label='AUC = %0.2f'% roc_auc)\n",
    "plt.legend(loc='lower right')\n",
    "plt.xlabel('False Positive Rate')\n",
    "plt.ylabel('True Positive Rate')\n",
    "plt.title('ROC Curve')\n",
    "plt.show()"
   ]
  },
  {
   "cell_type": "markdown",
   "metadata": {},
   "source": [
    "## feature importance"
   ]
  },
  {
   "cell_type": "code",
   "execution_count": 45,
   "metadata": {},
   "outputs": [
    {
     "data": {
      "text/plain": [
       "(56,)"
      ]
     },
     "execution_count": 45,
     "metadata": {},
     "output_type": "execute_result"
    }
   ],
   "source": [
    "clf.feature_importances_.shape"
   ]
  },
  {
   "cell_type": "code",
   "execution_count": 46,
   "metadata": {},
   "outputs": [
    {
     "data": {
      "image/png": "[encoded data removed]",
      "text/plain": [
       "<Figure size 720x720 with 1 Axes>"
      ]
     },
     "metadata": {
      "needs_background": "light"
     },
     "output_type": "display_data"
    },
    {
     "data": {
      "text/html": [
       "<div>\n",
       "<style scoped>\n",
       "    .dataframe tbody tr th:only-of-type {\n",
       "        vertical-align: middle;\n",
       "    }\n",
       "\n",
       "    .dataframe tbody tr th {\n",
       "        vertical-align: top;\n",
       "    }\n",
       "\n",
       "    .dataframe thead th {\n",
       "        text-align: right;\n",
       "    }\n",
       "</style>\n",
       "<table border=\"1\" class=\"dataframe\">\n",
       "  <thead>\n",
       "    <tr style=\"text-align: right;\">\n",
       "      <th></th>\n",
       "      <th>feature</th>\n",
       "      <th>importance</th>\n",
       "      <th>cum_sum</th>\n",
       "    </tr>\n",
       "  </thead>\n",
       "  <tbody>\n",
       "    <tr>\n",
       "      <td>0</td>\n",
       "      <td>p14_flap_position_at_start_of_event_deg_ted</td>\n",
       "      <td>0.136869</td>\n",
       "      <td>0.136869</td>\n",
       "    </tr>\n",
       "    <tr>\n",
       "      <td>1</td>\n",
       "      <td>p14_end_of_event_10_seconds_seconds_from_start...</td>\n",
       "      <td>0.120662</td>\n",
       "      <td>0.257532</td>\n",
       "    </tr>\n",
       "    <tr>\n",
       "      <td>2</td>\n",
       "      <td>event_type_GPWS: Windshear Warning</td>\n",
       "      <td>0.103269</td>\n",
       "      <td>0.360801</td>\n",
       "    </tr>\n",
       "    <tr>\n",
       "      <td>3</td>\n",
       "      <td>p14_start_of_event_10_seconds_seconds_from_sta...</td>\n",
       "      <td>0.079739</td>\n",
       "      <td>0.440540</td>\n",
       "    </tr>\n",
       "    <tr>\n",
       "      <td>4</td>\n",
       "      <td>p14_flap_handle_position_at_start_of_event</td>\n",
       "      <td>0.076007</td>\n",
       "      <td>0.516547</td>\n",
       "    </tr>\n",
       "    <tr>\n",
       "      <td>5</td>\n",
       "      <td>event_type_Airborne Speed High</td>\n",
       "      <td>0.071535</td>\n",
       "      <td>0.588081</td>\n",
       "    </tr>\n",
       "    <tr>\n",
       "      <td>6</td>\n",
       "      <td>p14_estimated_nav_error_at_start_of_event_nm</td>\n",
       "      <td>0.062631</td>\n",
       "      <td>0.650712</td>\n",
       "    </tr>\n",
       "    <tr>\n",
       "      <td>7</td>\n",
       "      <td>p14_speed_brake_handle_position_at_start_of_ev...</td>\n",
       "      <td>0.053581</td>\n",
       "      <td>0.704293</td>\n",
       "    </tr>\n",
       "    <tr>\n",
       "      <td>8</td>\n",
       "      <td>event_type_GPWS: Don't Sink</td>\n",
       "      <td>0.052554</td>\n",
       "      <td>0.756847</td>\n",
       "    </tr>\n",
       "    <tr>\n",
       "      <td>9</td>\n",
       "      <td>p14_error_b_w_gmt_and_recorded_time_around_eve...</td>\n",
       "      <td>0.049762</td>\n",
       "      <td>0.806609</td>\n",
       "    </tr>\n",
       "    <tr>\n",
       "      <td>10</td>\n",
       "      <td>event_type_Late Land Flap Selection</td>\n",
       "      <td>0.037594</td>\n",
       "      <td>0.844204</td>\n",
       "    </tr>\n",
       "    <tr>\n",
       "      <td>11</td>\n",
       "      <td>p14_data_dropouts_seconds</td>\n",
       "      <td>0.025115</td>\n",
       "      <td>0.869319</td>\n",
       "    </tr>\n",
       "    <tr>\n",
       "      <td>12</td>\n",
       "      <td>event_type_High Speed Below 5000 ft AAL</td>\n",
       "      <td>0.017387</td>\n",
       "      <td>0.886706</td>\n",
       "    </tr>\n",
       "    <tr>\n",
       "      <td>13</td>\n",
       "      <td>event_type_Speed Brakes Used During Final Appr...</td>\n",
       "      <td>0.017070</td>\n",
       "      <td>0.903775</td>\n",
       "    </tr>\n",
       "    <tr>\n",
       "      <td>14</td>\n",
       "      <td>p14_severity</td>\n",
       "      <td>0.015311</td>\n",
       "      <td>0.919086</td>\n",
       "    </tr>\n",
       "    <tr>\n",
       "      <td>15</td>\n",
       "      <td>event_type_Rotation Speed High</td>\n",
       "      <td>0.010824</td>\n",
       "      <td>0.929910</td>\n",
       "    </tr>\n",
       "    <tr>\n",
       "      <td>16</td>\n",
       "      <td>event_type_Deep Touchdown</td>\n",
       "      <td>0.009753</td>\n",
       "      <td>0.939663</td>\n",
       "    </tr>\n",
       "    <tr>\n",
       "      <td>17</td>\n",
       "      <td>event_type_Pitch Attitude High During Rotation...</td>\n",
       "      <td>0.007824</td>\n",
       "      <td>0.947487</td>\n",
       "    </tr>\n",
       "    <tr>\n",
       "      <td>18</td>\n",
       "      <td>event_type_Approach Speed High Below 50 ft AGL...</td>\n",
       "      <td>0.006671</td>\n",
       "      <td>0.954158</td>\n",
       "    </tr>\n",
       "    <tr>\n",
       "      <td>19</td>\n",
       "      <td>event_type_TCAS Resolution Advisory</td>\n",
       "      <td>0.005909</td>\n",
       "      <td>0.960067</td>\n",
       "    </tr>\n",
       "  </tbody>\n",
       "</table>\n",
       "</div>"
      ],
      "text/plain": [
       "                                              feature  importance   cum_sum\n",
       "0         p14_flap_position_at_start_of_event_deg_ted    0.136869  0.136869\n",
       "1   p14_end_of_event_10_seconds_seconds_from_start...    0.120662  0.257532\n",
       "2                  event_type_GPWS: Windshear Warning    0.103269  0.360801\n",
       "3   p14_start_of_event_10_seconds_seconds_from_sta...    0.079739  0.440540\n",
       "4          p14_flap_handle_position_at_start_of_event    0.076007  0.516547\n",
       "5                      event_type_Airborne Speed High    0.071535  0.588081\n",
       "6        p14_estimated_nav_error_at_start_of_event_nm    0.062631  0.650712\n",
       "7   p14_speed_brake_handle_position_at_start_of_ev...    0.053581  0.704293\n",
       "8                         event_type_GPWS: Don't Sink    0.052554  0.756847\n",
       "9   p14_error_b_w_gmt_and_recorded_time_around_eve...    0.049762  0.806609\n",
       "10                event_type_Late Land Flap Selection    0.037594  0.844204\n",
       "11                          p14_data_dropouts_seconds    0.025115  0.869319\n",
       "12            event_type_High Speed Below 5000 ft AAL    0.017387  0.886706\n",
       "13  event_type_Speed Brakes Used During Final Appr...    0.017070  0.903775\n",
       "14                                       p14_severity    0.015311  0.919086\n",
       "15                     event_type_Rotation Speed High    0.010824  0.929910\n",
       "16                          event_type_Deep Touchdown    0.009753  0.939663\n",
       "17  event_type_Pitch Attitude High During Rotation...    0.007824  0.947487\n",
       "18  event_type_Approach Speed High Below 50 ft AGL...    0.006671  0.954158\n",
       "19                event_type_TCAS Resolution Advisory    0.005909  0.960067"
      ]
     },
     "metadata": {},
     "output_type": "display_data"
    },
    {
     "name": "stdout",
     "output_type": "stream",
     "text": [
      "Original number of columns: 11\n"
     ]
    }
   ],
   "source": [
    "n_records = 20\n",
    "\n",
    "importances = pd.DataFrame({\n",
    "    \"feature\": X_train.columns.tolist(),\n",
    "    \"importance\": clf.feature_importances_\n",
    "})\n",
    "importances = importances.sort_values(\"importance\", ascending=False).reset_index(drop=True)\n",
    "importances[\"cum_sum\"] = np.cumsum(importances.importance)\n",
    "\n",
    "fig, ax = plt.subplots(figsize=(10, 10))\n",
    "\n",
    "sns.barplot(importances[:n_records].importance, importances[:n_records].feature, color='#E74C3C')\n",
    "\n",
    "plt.show()\n",
    "\n",
    "display(importances[:n_records])\n",
    "print(f\"Original number of columns: {len(features)}\")"
   ]
  },
  {
   "cell_type": "markdown",
   "metadata": {},
   "source": [
    "## Create the explainer"
   ]
  },
  {
   "cell_type": "code",
   "execution_count": 47,
   "metadata": {},
   "outputs": [],
   "source": [
    "import lime\n",
    "import lime.lime_tabular"
   ]
  },
  {
   "cell_type": "code",
   "execution_count": 48,
   "metadata": {},
   "outputs": [],
   "source": [
    "def ref_number(event_num):\n",
    "    for i, x in enumerate(y_test.index):\n",
    "        if event_num == x:\n",
    "            #print (i)\n",
    "            return i"
   ]
  },
  {
   "cell_type": "code",
   "execution_count": 49,
   "metadata": {},
   "outputs": [],
   "source": [
    "explainer = lime.lime_tabular.LimeTabularExplainer(X_train\n",
    "                                                   , feature_names= X_train.columns.tolist()\n",
    "                                                   , class_names= target\n",
    "                                                   , mode='regression'\n",
    "                                                   , discretize_continuous=False\n",
    "                                                   )"
   ]
  },
  {
   "cell_type": "code",
   "execution_count": 50,
   "metadata": {},
   "outputs": [
    {
     "data": {
      "text/html": [
       "<div>\n",
       "<style scoped>\n",
       "    .dataframe tbody tr th:only-of-type {\n",
       "        vertical-align: middle;\n",
       "    }\n",
       "\n",
       "    .dataframe tbody tr th {\n",
       "        vertical-align: top;\n",
       "    }\n",
       "\n",
       "    .dataframe thead th {\n",
       "        text-align: right;\n",
       "    }\n",
       "</style>\n",
       "<table border=\"1\" class=\"dataframe\">\n",
       "  <thead>\n",
       "    <tr style=\"text-align: right;\">\n",
       "      <th></th>\n",
       "      <th>actual</th>\n",
       "      <th>prob_1</th>\n",
       "      <th>predictions</th>\n",
       "    </tr>\n",
       "    <tr>\n",
       "      <th>p14_event_record</th>\n",
       "      <th></th>\n",
       "      <th></th>\n",
       "      <th></th>\n",
       "    </tr>\n",
       "  </thead>\n",
       "  <tbody>\n",
       "    <tr>\n",
       "      <td>40599479</td>\n",
       "      <td>0</td>\n",
       "      <td>0.791292</td>\n",
       "      <td>1</td>\n",
       "    </tr>\n",
       "    <tr>\n",
       "      <td>40812001</td>\n",
       "      <td>1</td>\n",
       "      <td>0.396542</td>\n",
       "      <td>0</td>\n",
       "    </tr>\n",
       "    <tr>\n",
       "      <td>40546981</td>\n",
       "      <td>1</td>\n",
       "      <td>0.103896</td>\n",
       "      <td>0</td>\n",
       "    </tr>\n",
       "    <tr>\n",
       "      <td>40621658</td>\n",
       "      <td>0</td>\n",
       "      <td>0.890610</td>\n",
       "      <td>1</td>\n",
       "    </tr>\n",
       "    <tr>\n",
       "      <td>40601120</td>\n",
       "      <td>0</td>\n",
       "      <td>0.536771</td>\n",
       "      <td>1</td>\n",
       "    </tr>\n",
       "    <tr>\n",
       "      <td>40530944</td>\n",
       "      <td>0</td>\n",
       "      <td>0.567229</td>\n",
       "      <td>1</td>\n",
       "    </tr>\n",
       "    <tr>\n",
       "      <td>40787013</td>\n",
       "      <td>0</td>\n",
       "      <td>0.556875</td>\n",
       "      <td>1</td>\n",
       "    </tr>\n",
       "    <tr>\n",
       "      <td>40541586</td>\n",
       "      <td>0</td>\n",
       "      <td>0.557125</td>\n",
       "      <td>1</td>\n",
       "    </tr>\n",
       "    <tr>\n",
       "      <td>40688656</td>\n",
       "      <td>0</td>\n",
       "      <td>0.615354</td>\n",
       "      <td>1</td>\n",
       "    </tr>\n",
       "    <tr>\n",
       "      <td>40540024</td>\n",
       "      <td>0</td>\n",
       "      <td>0.511417</td>\n",
       "      <td>1</td>\n",
       "    </tr>\n",
       "    <tr>\n",
       "      <td>40836586</td>\n",
       "      <td>1</td>\n",
       "      <td>0.331375</td>\n",
       "      <td>0</td>\n",
       "    </tr>\n",
       "    <tr>\n",
       "      <td>40552529</td>\n",
       "      <td>0</td>\n",
       "      <td>0.664271</td>\n",
       "      <td>1</td>\n",
       "    </tr>\n",
       "    <tr>\n",
       "      <td>40521658</td>\n",
       "      <td>0</td>\n",
       "      <td>0.648771</td>\n",
       "      <td>1</td>\n",
       "    </tr>\n",
       "    <tr>\n",
       "      <td>40732073</td>\n",
       "      <td>0</td>\n",
       "      <td>0.504479</td>\n",
       "      <td>1</td>\n",
       "    </tr>\n",
       "    <tr>\n",
       "      <td>40556201</td>\n",
       "      <td>1</td>\n",
       "      <td>0.113542</td>\n",
       "      <td>0</td>\n",
       "    </tr>\n",
       "    <tr>\n",
       "      <td>40711211</td>\n",
       "      <td>1</td>\n",
       "      <td>0.416958</td>\n",
       "      <td>0</td>\n",
       "    </tr>\n",
       "    <tr>\n",
       "      <td>40723088</td>\n",
       "      <td>1</td>\n",
       "      <td>0.073958</td>\n",
       "      <td>0</td>\n",
       "    </tr>\n",
       "    <tr>\n",
       "      <td>40859809</td>\n",
       "      <td>0</td>\n",
       "      <td>0.813229</td>\n",
       "      <td>1</td>\n",
       "    </tr>\n",
       "    <tr>\n",
       "      <td>40590947</td>\n",
       "      <td>0</td>\n",
       "      <td>0.582583</td>\n",
       "      <td>1</td>\n",
       "    </tr>\n",
       "    <tr>\n",
       "      <td>40573536</td>\n",
       "      <td>0</td>\n",
       "      <td>0.633375</td>\n",
       "      <td>1</td>\n",
       "    </tr>\n",
       "  </tbody>\n",
       "</table>\n",
       "</div>"
      ],
      "text/plain": [
       "                  actual    prob_1  predictions\n",
       "p14_event_record                               \n",
       "40599479               0  0.791292            1\n",
       "40812001               1  0.396542            0\n",
       "40546981               1  0.103896            0\n",
       "40621658               0  0.890610            1\n",
       "40601120               0  0.536771            1\n",
       "40530944               0  0.567229            1\n",
       "40787013               0  0.556875            1\n",
       "40541586               0  0.557125            1\n",
       "40688656               0  0.615354            1\n",
       "40540024               0  0.511417            1\n",
       "40836586               1  0.331375            0\n",
       "40552529               0  0.664271            1\n",
       "40521658               0  0.648771            1\n",
       "40732073               0  0.504479            1\n",
       "40556201               1  0.113542            0\n",
       "40711211               1  0.416958            0\n",
       "40723088               1  0.073958            0\n",
       "40859809               0  0.813229            1\n",
       "40590947               0  0.582583            1\n",
       "40573536               0  0.633375            1"
      ]
     },
     "execution_count": 50,
     "metadata": {},
     "output_type": "execute_result"
    }
   ],
   "source": [
    "errors"
   ]
  },
  {
   "cell_type": "code",
   "execution_count": 51,
   "metadata": {
    "scrolled": false
   },
   "outputs": [
    {
     "data": {
      "image/png": "[encoded data removed]",
      "text/plain": [
       "<Figure size 432x288 with 1 Axes>"
      ]
     },
     "metadata": {
      "needs_background": "light"
     },
     "output_type": "display_data"
    },
    {
     "data": {
      "text/html": [
       "<div>\n",
       "<style scoped>\n",
       "    .dataframe tbody tr th:only-of-type {\n",
       "        vertical-align: middle;\n",
       "    }\n",
       "\n",
       "    .dataframe tbody tr th {\n",
       "        vertical-align: top;\n",
       "    }\n",
       "\n",
       "    .dataframe thead th {\n",
       "        text-align: right;\n",
       "    }\n",
       "</style>\n",
       "<table border=\"1\" class=\"dataframe\">\n",
       "  <thead>\n",
       "    <tr style=\"text-align: right;\">\n",
       "      <th></th>\n",
       "      <th>Feature</th>\n",
       "      <th>Value</th>\n",
       "    </tr>\n",
       "  </thead>\n",
       "  <tbody>\n",
       "    <tr>\n",
       "      <td>0</td>\n",
       "      <td>event_type_Airborne Speed High</td>\n",
       "      <td>0.080759</td>\n",
       "    </tr>\n",
       "    <tr>\n",
       "      <td>1</td>\n",
       "      <td>event_type_GPWS: Windshear Warning</td>\n",
       "      <td>-0.061227</td>\n",
       "    </tr>\n",
       "    <tr>\n",
       "      <td>2</td>\n",
       "      <td>p14_end_of_event_10_seconds_seconds_from_start...</td>\n",
       "      <td>-0.044234</td>\n",
       "    </tr>\n",
       "    <tr>\n",
       "      <td>3</td>\n",
       "      <td>p14_flap_position_at_start_of_event_deg_ted</td>\n",
       "      <td>0.023578</td>\n",
       "    </tr>\n",
       "    <tr>\n",
       "      <td>4</td>\n",
       "      <td>p14_estimated_nav_error_at_start_of_event_nm</td>\n",
       "      <td>-0.014619</td>\n",
       "    </tr>\n",
       "    <tr>\n",
       "      <td>5</td>\n",
       "      <td>p14_flap_handle_position_at_start_of_event</td>\n",
       "      <td>0.011976</td>\n",
       "    </tr>\n",
       "    <tr>\n",
       "      <td>6</td>\n",
       "      <td>event_type_Late Land Flap Selection</td>\n",
       "      <td>-0.010385</td>\n",
       "    </tr>\n",
       "  </tbody>\n",
       "</table>\n",
       "</div>"
      ],
      "text/plain": [
       "                                             Feature     Value\n",
       "0                     event_type_Airborne Speed High  0.080759\n",
       "1                 event_type_GPWS: Windshear Warning -0.061227\n",
       "2  p14_end_of_event_10_seconds_seconds_from_start... -0.044234\n",
       "3        p14_flap_position_at_start_of_event_deg_ted  0.023578\n",
       "4       p14_estimated_nav_error_at_start_of_event_nm -0.014619\n",
       "5         p14_flap_handle_position_at_start_of_event  0.011976\n",
       "6                event_type_Late Land Flap Selection -0.010385"
      ]
     },
     "execution_count": 51,
     "metadata": {},
     "output_type": "execute_result"
    }
   ],
   "source": [
    "i = ref_number(40599479)\n",
    "exp = explainer.explain_instance(np.array(X_test)[i], clf.predict_proba, num_features=7)\n",
    "\n",
    "#exp.show_in_notebook(show_table=True, show_all=False)\n",
    "exp.as_pyplot_figure()\n",
    "plt.show()\n",
    "\n",
    "table = pd.DataFrame(exp.as_list(label=1), columns=['Feature', 'Value'])\n",
    "table"
   ]
  },
  {
   "cell_type": "code",
   "execution_count": null,
   "metadata": {},
   "outputs": [],
   "source": []
  }
 ],
 "metadata": {
  "kernelspec": {
   "display_name": "Python 3",
   "language": "python",
   "name": "python3"
  },
  "language_info": {
   "codemirror_mode": {
    "name": "ipython",
    "version": 3
   },
   "file_extension": ".py",
   "mimetype": "text/x-python",
   "name": "python",
   "nbconvert_exporter": "python",
   "pygments_lexer": "ipython3",
   "version": "3.7.4"
  }
 },
 "nbformat": 4,
 "nbformat_minor": 2
}
