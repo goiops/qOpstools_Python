{
 "cells": [
  {
   "cell_type": "code",
   "execution_count": 1,
   "metadata": {},
   "outputs": [],
   "source": [
    "import sklearn\n",
    "import sklearn.datasets\n",
    "import sklearn.ensemble\n",
    "import numpy as np\n",
    "import lime\n",
    "import lime.lime_tabular\n",
    "import pandas as pd\n"
   ]
  },
  {
   "cell_type": "code",
   "execution_count": 2,
   "metadata": {},
   "outputs": [],
   "source": [
    "from __future__ import print_function"
   ]
  },
  {
   "cell_type": "markdown",
   "metadata": {},
   "source": [
    "## Loading data, training a model"
   ]
  },
  {
   "cell_type": "code",
   "execution_count": 3,
   "metadata": {},
   "outputs": [],
   "source": [
    "file1 = 'Flight-Level-False-Pos-Data_160920.csv'\n",
    "\n",
    "df1 = pd.read_csv(file1)\n",
    "df1 = df1.set_index('p14_event_record')\n",
    "\n",
    "#df1.head()"
   ]
  },
  {
   "cell_type": "code",
   "execution_count": 4,
   "metadata": {},
   "outputs": [
    {
     "name": "stdout",
     "output_type": "stream",
     "text": [
      "<class 'pandas.core.frame.DataFrame'>\n",
      "Int64Index: 2396 entries, 40509975 to 41000036\n",
      "Data columns (total 20 columns):\n",
      "flight_record                                                                2396 non-null int64\n",
      "flight_date_exact                                                            2396 non-null object\n",
      "tail_number                                                                  2396 non-null object\n",
      "airframe                                                                     2396 non-null object\n",
      "fleet                                                                        2396 non-null object\n",
      "takeoff_airport_code                                                         2396 non-null object\n",
      "landing_airport_code                                                         2396 non-null object\n",
      "p14_event_type                                                               2396 non-null object\n",
      "p14_severity                                                                 2396 non-null object\n",
      "p14_false_positive                                                           2396 non-null object\n",
      "p14_start_of_event_10_seconds_seconds_from_start_of_file                     2395 non-null float64\n",
      "p14_end_of_event_10_seconds_seconds_from_start_of_file                       2395 non-null float64\n",
      "p14_data_dropouts_seconds                                                    2392 non-null float64\n",
      "p14_error_b_w_gmt_and_recorded_time_around_event_percent                     2395 non-null float64\n",
      "p14_estimated_nav_error_at_start_of_event_nm                                 2395 non-null float64\n",
      "p14_standard_deviation_of_sample_rate_of_gmt_event_interval_30_seconds_hz    2396 non-null int64\n",
      "p14_flap_handle_position_at_start_of_event                                   2395 non-null float64\n",
      "p14_speed_brake_handle_position_at_start_of_event_deg                        2395 non-null float64\n",
      "p14_flap_position_at_start_of_event_deg_ted                                  2395 non-null float64\n",
      "target                                                                       2396 non-null int64\n",
      "dtypes: float64(8), int64(3), object(9)\n",
      "memory usage: 393.1+ KB\n"
     ]
    }
   ],
   "source": [
    "df1.info()"
   ]
  },
  {
   "cell_type": "markdown",
   "metadata": {},
   "source": [
    "## label encoding"
   ]
  },
  {
   "cell_type": "markdown",
   "metadata": {},
   "source": [
    "### encoding p_14 event type"
   ]
  },
  {
   "cell_type": "code",
   "execution_count": 5,
   "metadata": {},
   "outputs": [
    {
     "data": {
      "text/plain": [
       "array(['Airborne Speed High', 'High Vertical Acceleration at landing',\n",
       "       'Pitch Attitude High During Rotation (Gears Extended)',\n",
       "       'TCAS Resolution Advisory', 'Rotation Speed High',\n",
       "       'Climb Speed Low', 'GPWS: Windshear Warning', 'Deep Touchdown',\n",
       "       'High Speed Below 5000 ft AAL', 'Pitch Rate Low during Rotation',\n",
       "       'Approach Speed High Below 50 ft AGL (Vref)', 'GPWS: Sink Rate',\n",
       "       'Late Land Flap Selection', 'MMO Exceedance',\n",
       "       'Thrust reversers delayed during landing',\n",
       "       'Speed Brakes Used During Final Approach', 'Climb Speed High',\n",
       "       'VFE (Flap Airspeed Limit) Exceedance',\n",
       "       'Below Minimum Maneuver Speed', 'Rotation Speed Low',\n",
       "       'High Bank Angle Descent Below 200 feet', 'Idle Thrust Approach',\n",
       "       'Deviation Above GlideSlope 500 to 200 ft AGL',\n",
       "       'Early Flap Retraction', 'Airspeed Low Relative to Stall Speed',\n",
       "       'High Bank Angle Climb below 200 feet', 'Short touchdown',\n",
       "       'Stick shaker', 'GPWS: Pull Up', 'Short Runway Distance Remaining',\n",
       "       'Pitch Attitude High During Landing (Gears Compressed)',\n",
       "       'FLCH  mode below 1000 ft HAT', \"GPWS: Don't Sink\",\n",
       "       'High Speed Below 3000 ft AAL',\n",
       "       'High Rate of Descent 1000 ft HAT -> 500 HAT',\n",
       "       'GPWS: Too Low Terrain', 'GPWS: Too Low Flap',\n",
       "       'High Bank Angle on Flare', 'GPWS: Glideslope',\n",
       "       'Altitude Excursion', 'GPWS: Terrain', 'GPWS: Terrain Pull Up',\n",
       "       'GPWS: Too Low Gear',\n",
       "       'Deviation Below GlideSlope 500 to 200 ft AGL',\n",
       "       'High Speed Rejected Takeoff',\n",
       "       'High Bank Angle Climb 200ft to 1000 ft', 'VMO Exceedance',\n",
       "       'Landing with incorrect flap', 'GPWS: Look Ahead Caution'],\n",
       "      dtype=object)"
      ]
     },
     "execution_count": 5,
     "metadata": {},
     "output_type": "execute_result"
    }
   ],
   "source": [
    "df1['p14_event_type'].unique()"
   ]
  },
  {
   "cell_type": "code",
   "execution_count": 6,
   "metadata": {},
   "outputs": [],
   "source": [
    "from sklearn import preprocessing\n",
    "le = preprocessing.LabelEncoder()\n",
    "le.fit(['Airborne Speed High', 'High Vertical Acceleration at landing',\n",
    "       'Pitch Attitude High During Rotation (Gears Extended)',\n",
    "       'TCAS Resolution Advisory', 'Rotation Speed High',\n",
    "       'Climb Speed Low', 'GPWS: Windshear Warning', 'Deep Touchdown',\n",
    "       'High Speed Below 5000 ft AAL', 'Pitch Rate Low during Rotation',\n",
    "       'Approach Speed High Below 50 ft AGL (Vref)', 'GPWS: Sink Rate',\n",
    "       'Late Land Flap Selection', 'MMO Exceedance',\n",
    "       'Thrust reversers delayed during landing',\n",
    "       'Speed Brakes Used During Final Approach', 'Climb Speed High',\n",
    "       'VFE (Flap Airspeed Limit) Exceedance',\n",
    "       'Below Minimum Maneuver Speed', 'Rotation Speed Low',\n",
    "       'High Bank Angle Descent Below 200 feet', 'Idle Thrust Approach',\n",
    "       'Deviation Above GlideSlope 500 to 200 ft AGL',\n",
    "       'Early Flap Retraction', 'Airspeed Low Relative to Stall Speed',\n",
    "       'High Bank Angle Climb below 200 feet', 'Short touchdown',\n",
    "       'Stick shaker', 'GPWS: Pull Up', 'Short Runway Distance Remaining',\n",
    "       'Pitch Attitude High During Landing (Gears Compressed)',\n",
    "       'FLCH  mode below 1000 ft HAT', \"GPWS: Don't Sink\",\n",
    "       'High Speed Below 3000 ft AAL',\n",
    "       'High Rate of Descent 1000 ft HAT -> 500 HAT',\n",
    "       'GPWS: Too Low Terrain', 'GPWS: Too Low Flap',\n",
    "       'High Bank Angle on Flare', 'GPWS: Glideslope',\n",
    "       'Altitude Excursion', 'GPWS: Terrain', 'GPWS: Terrain Pull Up',\n",
    "       'GPWS: Too Low Gear',\n",
    "       'Deviation Below GlideSlope 500 to 200 ft AGL',\n",
    "       'High Speed Rejected Takeoff',\n",
    "       'High Bank Angle Climb 200ft to 1000 ft', 'VMO Exceedance',\n",
    "       'Landing with incorrect flap', 'GPWS: Look Ahead Caution'])\n",
    "df1['p14_event_type'] = le.transform(df1['p14_event_type'])"
   ]
  },
  {
   "cell_type": "code",
   "execution_count": 7,
   "metadata": {},
   "outputs": [
    {
     "data": {
      "text/plain": [
       "<matplotlib.axes._subplots.AxesSubplot at 0xb91cd48>"
      ]
     },
     "execution_count": 7,
     "metadata": {},
     "output_type": "execute_result"
    }
   ],
   "source": [
    "df1['p14_event_type'].value_counts().plot.bar()"
   ]
  },
  {
   "cell_type": "markdown",
   "metadata": {},
   "source": [
    "### mapping p_14 severity levels"
   ]
  },
  {
   "cell_type": "code",
   "execution_count": 8,
   "metadata": {},
   "outputs": [],
   "source": [
    "df1['p14_severity'] = df1['p14_severity'].map({'Level 2': 0,\n",
    "                              'Level 3': 1})"
   ]
  },
  {
   "cell_type": "markdown",
   "metadata": {},
   "source": [
    "## dropping columns"
   ]
  },
  {
   "cell_type": "code",
   "execution_count": 9,
   "metadata": {},
   "outputs": [],
   "source": [
    "df1 = df1.drop(columns = ['flight_record'\n",
    "                          , 'flight_date_exact'\n",
    "                          , 'tail_number'\n",
    "                          , 'airframe'\n",
    "                          , 'fleet'\n",
    "                          , 'takeoff_airport_code'\n",
    "                          , 'landing_airport_code'\n",
    "                          #, 'p14_event_type'\n",
    "                          , 'p14_false_positive'\n",
    "                         ])"
   ]
  },
  {
   "cell_type": "code",
   "execution_count": 10,
   "metadata": {},
   "outputs": [
    {
     "data": {
      "text/html": [
       "<div>\n",
       "<style scoped>\n",
       "    .dataframe tbody tr th:only-of-type {\n",
       "        vertical-align: middle;\n",
       "    }\n",
       "\n",
       "    .dataframe tbody tr th {\n",
       "        vertical-align: top;\n",
       "    }\n",
       "\n",
       "    .dataframe thead th {\n",
       "        text-align: right;\n",
       "    }\n",
       "</style>\n",
       "<table border=\"1\" class=\"dataframe\">\n",
       "  <thead>\n",
       "    <tr style=\"text-align: right;\">\n",
       "      <th></th>\n",
       "      <th>p14_event_type</th>\n",
       "      <th>p14_severity</th>\n",
       "      <th>p14_start_of_event_10_seconds_seconds_from_start_of_file</th>\n",
       "      <th>p14_end_of_event_10_seconds_seconds_from_start_of_file</th>\n",
       "      <th>p14_data_dropouts_seconds</th>\n",
       "      <th>p14_error_b_w_gmt_and_recorded_time_around_event_percent</th>\n",
       "      <th>p14_estimated_nav_error_at_start_of_event_nm</th>\n",
       "      <th>p14_standard_deviation_of_sample_rate_of_gmt_event_interval_30_seconds_hz</th>\n",
       "      <th>p14_flap_handle_position_at_start_of_event</th>\n",
       "      <th>p14_speed_brake_handle_position_at_start_of_event_deg</th>\n",
       "      <th>p14_flap_position_at_start_of_event_deg_ted</th>\n",
       "      <th>target</th>\n",
       "    </tr>\n",
       "    <tr>\n",
       "      <th>p14_event_record</th>\n",
       "      <th></th>\n",
       "      <th></th>\n",
       "      <th></th>\n",
       "      <th></th>\n",
       "      <th></th>\n",
       "      <th></th>\n",
       "      <th></th>\n",
       "      <th></th>\n",
       "      <th></th>\n",
       "      <th></th>\n",
       "      <th></th>\n",
       "      <th></th>\n",
       "    </tr>\n",
       "  </thead>\n",
       "  <tbody>\n",
       "    <tr>\n",
       "      <td>40509975</td>\n",
       "      <td>0</td>\n",
       "      <td>0</td>\n",
       "      <td>609.00</td>\n",
       "      <td>629.00</td>\n",
       "      <td>0.0</td>\n",
       "      <td>-0.000095</td>\n",
       "      <td>0.024290</td>\n",
       "      <td>0</td>\n",
       "      <td>5.0</td>\n",
       "      <td>0.641989</td>\n",
       "      <td>5.203770</td>\n",
       "      <td>0</td>\n",
       "    </tr>\n",
       "    <tr>\n",
       "      <td>40509984</td>\n",
       "      <td>31</td>\n",
       "      <td>0</td>\n",
       "      <td>5611.25</td>\n",
       "      <td>5637.25</td>\n",
       "      <td>2.0</td>\n",
       "      <td>-0.000436</td>\n",
       "      <td>0.038936</td>\n",
       "      <td>0</td>\n",
       "      <td>30.0</td>\n",
       "      <td>4.200743</td>\n",
       "      <td>30.009817</td>\n",
       "      <td>0</td>\n",
       "    </tr>\n",
       "    <tr>\n",
       "      <td>40510130</td>\n",
       "      <td>0</td>\n",
       "      <td>0</td>\n",
       "      <td>688.00</td>\n",
       "      <td>708.00</td>\n",
       "      <td>0.0</td>\n",
       "      <td>-0.000095</td>\n",
       "      <td>0.009928</td>\n",
       "      <td>0</td>\n",
       "      <td>10.0</td>\n",
       "      <td>-1.286268</td>\n",
       "      <td>10.302753</td>\n",
       "      <td>0</td>\n",
       "    </tr>\n",
       "    <tr>\n",
       "      <td>40510312</td>\n",
       "      <td>37</td>\n",
       "      <td>0</td>\n",
       "      <td>662.00</td>\n",
       "      <td>682.00</td>\n",
       "      <td>0.0</td>\n",
       "      <td>-0.001526</td>\n",
       "      <td>0.032998</td>\n",
       "      <td>0</td>\n",
       "      <td>1.0</td>\n",
       "      <td>-1.194254</td>\n",
       "      <td>1.030449</td>\n",
       "      <td>0</td>\n",
       "    </tr>\n",
       "    <tr>\n",
       "      <td>40511060</td>\n",
       "      <td>45</td>\n",
       "      <td>0</td>\n",
       "      <td>10624.00</td>\n",
       "      <td>10663.00</td>\n",
       "      <td>2.0</td>\n",
       "      <td>-0.001691</td>\n",
       "      <td>0.008319</td>\n",
       "      <td>0</td>\n",
       "      <td>5.0</td>\n",
       "      <td>-1.654518</td>\n",
       "      <td>5.180016</td>\n",
       "      <td>0</td>\n",
       "    </tr>\n",
       "  </tbody>\n",
       "</table>\n",
       "</div>"
      ],
      "text/plain": [
       "                  p14_event_type  p14_severity  \\\n",
       "p14_event_record                                 \n",
       "40509975                       0             0   \n",
       "40509984                      31             0   \n",
       "40510130                       0             0   \n",
       "40510312                      37             0   \n",
       "40511060                      45             0   \n",
       "\n",
       "                  p14_start_of_event_10_seconds_seconds_from_start_of_file  \\\n",
       "p14_event_record                                                             \n",
       "40509975                                                     609.00          \n",
       "40509984                                                    5611.25          \n",
       "40510130                                                     688.00          \n",
       "40510312                                                     662.00          \n",
       "40511060                                                   10624.00          \n",
       "\n",
       "                  p14_end_of_event_10_seconds_seconds_from_start_of_file  \\\n",
       "p14_event_record                                                           \n",
       "40509975                                                     629.00        \n",
       "40509984                                                    5637.25        \n",
       "40510130                                                     708.00        \n",
       "40510312                                                     682.00        \n",
       "40511060                                                   10663.00        \n",
       "\n",
       "                  p14_data_dropouts_seconds  \\\n",
       "p14_event_record                              \n",
       "40509975                                0.0   \n",
       "40509984                                2.0   \n",
       "40510130                                0.0   \n",
       "40510312                                0.0   \n",
       "40511060                                2.0   \n",
       "\n",
       "                  p14_error_b_w_gmt_and_recorded_time_around_event_percent  \\\n",
       "p14_event_record                                                             \n",
       "40509975                                                  -0.000095          \n",
       "40509984                                                  -0.000436          \n",
       "40510130                                                  -0.000095          \n",
       "40510312                                                  -0.001526          \n",
       "40511060                                                  -0.001691          \n",
       "\n",
       "                  p14_estimated_nav_error_at_start_of_event_nm  \\\n",
       "p14_event_record                                                 \n",
       "40509975                                              0.024290   \n",
       "40509984                                              0.038936   \n",
       "40510130                                              0.009928   \n",
       "40510312                                              0.032998   \n",
       "40511060                                              0.008319   \n",
       "\n",
       "                  p14_standard_deviation_of_sample_rate_of_gmt_event_interval_30_seconds_hz  \\\n",
       "p14_event_record                                                                              \n",
       "40509975                                                          0                           \n",
       "40509984                                                          0                           \n",
       "40510130                                                          0                           \n",
       "40510312                                                          0                           \n",
       "40511060                                                          0                           \n",
       "\n",
       "                  p14_flap_handle_position_at_start_of_event  \\\n",
       "p14_event_record                                               \n",
       "40509975                                                 5.0   \n",
       "40509984                                                30.0   \n",
       "40510130                                                10.0   \n",
       "40510312                                                 1.0   \n",
       "40511060                                                 5.0   \n",
       "\n",
       "                  p14_speed_brake_handle_position_at_start_of_event_deg  \\\n",
       "p14_event_record                                                          \n",
       "40509975                                                   0.641989       \n",
       "40509984                                                   4.200743       \n",
       "40510130                                                  -1.286268       \n",
       "40510312                                                  -1.194254       \n",
       "40511060                                                  -1.654518       \n",
       "\n",
       "                  p14_flap_position_at_start_of_event_deg_ted  target  \n",
       "p14_event_record                                                       \n",
       "40509975                                             5.203770       0  \n",
       "40509984                                            30.009817       0  \n",
       "40510130                                            10.302753       0  \n",
       "40510312                                             1.030449       0  \n",
       "40511060                                             5.180016       0  "
      ]
     },
     "execution_count": 10,
     "metadata": {},
     "output_type": "execute_result"
    }
   ],
   "source": [
    "df1.head()"
   ]
  },
  {
   "cell_type": "markdown",
   "metadata": {},
   "source": [
    "## setting features and targets"
   ]
  },
  {
   "cell_type": "code",
   "execution_count": 11,
   "metadata": {},
   "outputs": [
    {
     "data": {
      "text/plain": [
       "['p14_event_type',\n",
       " 'p14_severity',\n",
       " 'p14_start_of_event_10_seconds_seconds_from_start_of_file',\n",
       " 'p14_end_of_event_10_seconds_seconds_from_start_of_file',\n",
       " 'p14_data_dropouts_seconds',\n",
       " 'p14_error_b_w_gmt_and_recorded_time_around_event_percent',\n",
       " 'p14_estimated_nav_error_at_start_of_event_nm',\n",
       " 'p14_standard_deviation_of_sample_rate_of_gmt_event_interval_30_seconds_hz',\n",
       " 'p14_flap_handle_position_at_start_of_event',\n",
       " 'p14_speed_brake_handle_position_at_start_of_event_deg',\n",
       " 'p14_flap_position_at_start_of_event_deg_ted',\n",
       " 'target']"
      ]
     },
     "execution_count": 11,
     "metadata": {},
     "output_type": "execute_result"
    }
   ],
   "source": [
    "df1.columns.tolist()"
   ]
  },
  {
   "cell_type": "code",
   "execution_count": 12,
   "metadata": {},
   "outputs": [],
   "source": [
    "features = ['p14_event_type',\n",
    " 'p14_severity',\n",
    " 'p14_start_of_event_10_seconds_seconds_from_start_of_file',\n",
    " 'p14_end_of_event_10_seconds_seconds_from_start_of_file',\n",
    " 'p14_data_dropouts_seconds',\n",
    " 'p14_error_b_w_gmt_and_recorded_time_around_event_percent',\n",
    " 'p14_estimated_nav_error_at_start_of_event_nm',\n",
    " 'p14_standard_deviation_of_sample_rate_of_gmt_event_interval_30_seconds_hz',\n",
    " 'p14_flap_handle_position_at_start_of_event',\n",
    " 'p14_speed_brake_handle_position_at_start_of_event_deg',\n",
    " 'p14_flap_position_at_start_of_event_deg_ted']\n",
    "\n",
    "target = 'target'"
   ]
  },
  {
   "cell_type": "code",
   "execution_count": 13,
   "metadata": {},
   "outputs": [],
   "source": [
    "X = df1[features]\n",
    "y = df1[target]"
   ]
  },
  {
   "cell_type": "markdown",
   "metadata": {},
   "source": [
    "## imputing null values"
   ]
  },
  {
   "cell_type": "code",
   "execution_count": 14,
   "metadata": {},
   "outputs": [
    {
     "data": {
      "text/plain": [
       "p14_event_type                                                               0\n",
       "p14_severity                                                                 0\n",
       "p14_start_of_event_10_seconds_seconds_from_start_of_file                     1\n",
       "p14_end_of_event_10_seconds_seconds_from_start_of_file                       1\n",
       "p14_data_dropouts_seconds                                                    4\n",
       "p14_error_b_w_gmt_and_recorded_time_around_event_percent                     1\n",
       "p14_estimated_nav_error_at_start_of_event_nm                                 1\n",
       "p14_standard_deviation_of_sample_rate_of_gmt_event_interval_30_seconds_hz    0\n",
       "p14_flap_handle_position_at_start_of_event                                   1\n",
       "p14_speed_brake_handle_position_at_start_of_event_deg                        1\n",
       "p14_flap_position_at_start_of_event_deg_ted                                  1\n",
       "target                                                                       0\n",
       "dtype: int64"
      ]
     },
     "execution_count": 14,
     "metadata": {},
     "output_type": "execute_result"
    }
   ],
   "source": [
    "df1.isnull().sum()"
   ]
  },
  {
   "cell_type": "code",
   "execution_count": 15,
   "metadata": {},
   "outputs": [],
   "source": [
    "from sklearn.preprocessing import StandardScaler\n",
    "from sklearn.impute import SimpleImputer\n",
    "\n",
    "X = StandardScaler().fit(X).transform(X)\n",
    "X = SimpleImputer(missing_values=np.nan, strategy='most_frequent').fit(X).transform(X)"
   ]
  },
  {
   "cell_type": "code",
   "execution_count": 16,
   "metadata": {},
   "outputs": [
    {
     "data": {
      "text/plain": [
       "p14_event_type                                                               0\n",
       "p14_severity                                                                 0\n",
       "p14_start_of_event_10_seconds_seconds_from_start_of_file                     1\n",
       "p14_end_of_event_10_seconds_seconds_from_start_of_file                       1\n",
       "p14_data_dropouts_seconds                                                    4\n",
       "p14_error_b_w_gmt_and_recorded_time_around_event_percent                     1\n",
       "p14_estimated_nav_error_at_start_of_event_nm                                 1\n",
       "p14_standard_deviation_of_sample_rate_of_gmt_event_interval_30_seconds_hz    0\n",
       "p14_flap_handle_position_at_start_of_event                                   1\n",
       "p14_speed_brake_handle_position_at_start_of_event_deg                        1\n",
       "p14_flap_position_at_start_of_event_deg_ted                                  1\n",
       "target                                                                       0\n",
       "dtype: int64"
      ]
     },
     "execution_count": 16,
     "metadata": {},
     "output_type": "execute_result"
    }
   ],
   "source": [
    "df1.isnull().sum()"
   ]
  },
  {
   "cell_type": "markdown",
   "metadata": {},
   "source": [
    "## train test split"
   ]
  },
  {
   "cell_type": "code",
   "execution_count": 17,
   "metadata": {},
   "outputs": [],
   "source": [
    "from sklearn.model_selection import train_test_split\n",
    "\n",
    "X_train, X_test, y_train, y_test = train_test_split(X, y, test_size=0.3, random_state=42)"
   ]
  },
  {
   "cell_type": "markdown",
   "metadata": {},
   "source": [
    "## Resampling"
   ]
  },
  {
   "cell_type": "code",
   "execution_count": 18,
   "metadata": {},
   "outputs": [],
   "source": [
    "from imblearn.over_sampling import SMOTE\n",
    "\n",
    "smote = SMOTE()\n",
    "X_sm, y_sm = smote.fit_sample(X_train, y_train)"
   ]
  },
  {
   "cell_type": "code",
   "execution_count": 19,
   "metadata": {},
   "outputs": [
    {
     "data": {
      "text/plain": [
       "<matplotlib.axes._subplots.AxesSubplot at 0xc0bf708>"
      ]
     },
     "execution_count": 19,
     "metadata": {},
     "output_type": "execute_result"
    },
    {
     "data": {
      "image/png": "[encoded data removed]",
      "text/plain": [
       "<Figure size 432x288 with 1 Axes>"
      ]
     },
     "metadata": {
      "needs_background": "light"
     },
     "output_type": "display_data"
    }
   ],
   "source": [
    "y_sm.value_counts().plot.bar()"
   ]
  },
  {
   "cell_type": "markdown",
   "metadata": {},
   "source": [
    "## modelling"
   ]
  },
  {
   "cell_type": "code",
   "execution_count": 20,
   "metadata": {},
   "outputs": [],
   "source": [
    "from sklearn.ensemble import RandomForestClassifier\n",
    "clf = RandomForestClassifier()"
   ]
  },
  {
   "cell_type": "code",
   "execution_count": 21,
   "metadata": {},
   "outputs": [
    {
     "data": {
      "text/plain": [
       "RandomForestClassifier()"
      ]
     },
     "execution_count": 21,
     "metadata": {},
     "output_type": "execute_result"
    }
   ],
   "source": [
    "clf.fit(X_sm, y_sm)"
   ]
  },
  {
   "cell_type": "code",
   "execution_count": 22,
   "metadata": {},
   "outputs": [
    {
     "name": "stdout",
     "output_type": "stream",
     "text": [
      "Parameters currently in use:\n",
      "\n",
      "{'bootstrap': True,\n",
      " 'ccp_alpha': 0.0,\n",
      " 'class_weight': None,\n",
      " 'criterion': 'gini',\n",
      " 'max_depth': None,\n",
      " 'max_features': 'auto',\n",
      " 'max_leaf_nodes': None,\n",
      " 'max_samples': None,\n",
      " 'min_impurity_decrease': 0.0,\n",
      " 'min_impurity_split': None,\n",
      " 'min_samples_leaf': 1,\n",
      " 'min_samples_split': 2,\n",
      " 'min_weight_fraction_leaf': 0.0,\n",
      " 'n_estimators': 100,\n",
      " 'n_jobs': None,\n",
      " 'oob_score': False,\n",
      " 'random_state': None,\n",
      " 'verbose': 0,\n",
      " 'warm_start': False}\n"
     ]
    }
   ],
   "source": [
    "from pprint import pprint\n",
    "# Look at parameters used by our current forest\n",
    "print('Parameters currently in use:\\n')\n",
    "pprint(clf.get_params())"
   ]
  },
  {
   "cell_type": "markdown",
   "metadata": {},
   "source": [
    "## Evaluation"
   ]
  },
  {
   "cell_type": "code",
   "execution_count": 23,
   "metadata": {},
   "outputs": [],
   "source": [
    "#from sklearn.metrics import accuracy_score\n",
    "#accuracy_score(y_test, clf.predict(X_test))"
   ]
  },
  {
   "cell_type": "code",
   "execution_count": 24,
   "metadata": {},
   "outputs": [
    {
     "name": "stdout",
     "output_type": "stream",
     "text": [
      "0.9735744089012517\n"
     ]
    },
    {
     "data": {
      "text/html": [
       "<div>\n",
       "<style scoped>\n",
       "    .dataframe tbody tr th:only-of-type {\n",
       "        vertical-align: middle;\n",
       "    }\n",
       "\n",
       "    .dataframe tbody tr th {\n",
       "        vertical-align: top;\n",
       "    }\n",
       "\n",
       "    .dataframe thead th {\n",
       "        text-align: right;\n",
       "    }\n",
       "</style>\n",
       "<table border=\"1\" class=\"dataframe\">\n",
       "  <thead>\n",
       "    <tr style=\"text-align: right;\">\n",
       "      <th></th>\n",
       "      <th>actual</th>\n",
       "      <th>prob_1</th>\n",
       "      <th>predictions</th>\n",
       "    </tr>\n",
       "    <tr>\n",
       "      <th>p14_event_record</th>\n",
       "      <th></th>\n",
       "      <th></th>\n",
       "      <th></th>\n",
       "    </tr>\n",
       "  </thead>\n",
       "  <tbody>\n",
       "    <tr>\n",
       "      <td>40574590</td>\n",
       "      <td>0</td>\n",
       "      <td>0.00</td>\n",
       "      <td>0</td>\n",
       "    </tr>\n",
       "    <tr>\n",
       "      <td>40538350</td>\n",
       "      <td>0</td>\n",
       "      <td>0.00</td>\n",
       "      <td>0</td>\n",
       "    </tr>\n",
       "    <tr>\n",
       "      <td>40752318</td>\n",
       "      <td>0</td>\n",
       "      <td>0.00</td>\n",
       "      <td>0</td>\n",
       "    </tr>\n",
       "    <tr>\n",
       "      <td>40810629</td>\n",
       "      <td>0</td>\n",
       "      <td>0.07</td>\n",
       "      <td>0</td>\n",
       "    </tr>\n",
       "    <tr>\n",
       "      <td>40777536</td>\n",
       "      <td>0</td>\n",
       "      <td>0.02</td>\n",
       "      <td>0</td>\n",
       "    </tr>\n",
       "    <tr>\n",
       "      <td>...</td>\n",
       "      <td>...</td>\n",
       "      <td>...</td>\n",
       "      <td>...</td>\n",
       "    </tr>\n",
       "    <tr>\n",
       "      <td>40522896</td>\n",
       "      <td>0</td>\n",
       "      <td>0.00</td>\n",
       "      <td>0</td>\n",
       "    </tr>\n",
       "    <tr>\n",
       "      <td>40926733</td>\n",
       "      <td>0</td>\n",
       "      <td>0.01</td>\n",
       "      <td>0</td>\n",
       "    </tr>\n",
       "    <tr>\n",
       "      <td>40516703</td>\n",
       "      <td>0</td>\n",
       "      <td>0.00</td>\n",
       "      <td>0</td>\n",
       "    </tr>\n",
       "    <tr>\n",
       "      <td>40705680</td>\n",
       "      <td>0</td>\n",
       "      <td>0.00</td>\n",
       "      <td>0</td>\n",
       "    </tr>\n",
       "    <tr>\n",
       "      <td>40818904</td>\n",
       "      <td>0</td>\n",
       "      <td>0.01</td>\n",
       "      <td>0</td>\n",
       "    </tr>\n",
       "  </tbody>\n",
       "</table>\n",
       "<p>719 rows × 3 columns</p>\n",
       "</div>"
      ],
      "text/plain": [
       "                  actual  prob_1  predictions\n",
       "p14_event_record                             \n",
       "40574590               0    0.00            0\n",
       "40538350               0    0.00            0\n",
       "40752318               0    0.00            0\n",
       "40810629               0    0.07            0\n",
       "40777536               0    0.02            0\n",
       "...                  ...     ...          ...\n",
       "40522896               0    0.00            0\n",
       "40926733               0    0.01            0\n",
       "40516703               0    0.00            0\n",
       "40705680               0    0.00            0\n",
       "40818904               0    0.01            0\n",
       "\n",
       "[719 rows x 3 columns]"
      ]
     },
     "execution_count": 24,
     "metadata": {},
     "output_type": "execute_result"
    }
   ],
   "source": [
    "actual = y_test\n",
    "\n",
    "prob_1 = clf.predict_proba(X_test)[:,1]\n",
    "\n",
    "evaluate = pd.DataFrame({\"actual\": actual\n",
    "                        , \"prob_1\": prob_1\n",
    "                        })\n",
    "threshold = 0.5\n",
    "\n",
    "evaluate[\"predictions\"] = (evaluate[\"prob_1\"] > threshold) *1\n",
    "\n",
    "print((evaluate[\"actual\"]==evaluate[\"predictions\"]).mean())\n",
    "evaluate"
   ]
  },
  {
   "cell_type": "code",
   "execution_count": 25,
   "metadata": {},
   "outputs": [],
   "source": [
    "#evaluate.head()"
   ]
  },
  {
   "cell_type": "code",
   "execution_count": 26,
   "metadata": {},
   "outputs": [],
   "source": [
    "#evaluate.to_csv('evaluation.csv', index = True, header=True)"
   ]
  },
  {
   "cell_type": "markdown",
   "metadata": {},
   "source": [
    "### probability/ distribution plot"
   ]
  },
  {
   "cell_type": "code",
   "execution_count": 27,
   "metadata": {},
   "outputs": [
    {
     "data": {
      "text/plain": [
       "[]"
      ]
     },
     "execution_count": 27,
     "metadata": {},
     "output_type": "execute_result"
    },
    {
     "data": {
      "image/png": "[encoded data removed]",
      "text/plain": [
       "<Figure size 432x288 with 1 Axes>"
      ]
     },
     "metadata": {
      "needs_background": "light"
     },
     "output_type": "display_data"
    }
   ],
   "source": [
    "import seaborn as sns\n",
    "import matplotlib.pyplot as plt\n",
    "\n",
    "x = evaluate[evaluate['actual']==1].prob_1\n",
    "y = evaluate[evaluate['actual']==0].prob_1\n",
    "\n",
    "bins = np.linspace(0,1,40)\n",
    "\n",
    "sns.distplot(x, bins=bins, label='1')\n",
    "sns.distplot(y, bins=bins, label='0')\n",
    "plt.xlim(0,1)\n",
    "plt.xlabel('probability')\n",
    "plt.ylabel('distribution')\n",
    "plt.legend()\n",
    "plt.plot()"
   ]
  },
  {
   "cell_type": "markdown",
   "metadata": {},
   "source": [
    "### Classification report"
   ]
  },
  {
   "cell_type": "code",
   "execution_count": 28,
   "metadata": {},
   "outputs": [
    {
     "name": "stdout",
     "output_type": "stream",
     "text": [
      "              precision    recall  f1-score   support\n",
      "\n",
      "           0       0.99      0.98      0.99       641\n",
      "           1       0.86      0.90      0.88        78\n",
      "\n",
      "    accuracy                           0.97       719\n",
      "   macro avg       0.93      0.94      0.93       719\n",
      "weighted avg       0.97      0.97      0.97       719\n",
      "\n"
     ]
    }
   ],
   "source": [
    "from sklearn.metrics import classification_report\n",
    "\n",
    "# Predict the labels of the test set\n",
    "y_pred = clf.predict(X_test)\n",
    "\n",
    "# Compute metrics\n",
    "print(classification_report(y_test, y_pred))\n",
    "#print(\"Accuracy: {}\".format(cv.score(X_test, y_test)))"
   ]
  },
  {
   "cell_type": "markdown",
   "metadata": {},
   "source": [
    "**interpretaion**\n",
    "- Recall – What percent of the positive cases did you catch? \n",
    "- Precision – What percent of your predictions were correct?\n",
    "- F1 score – What percent of positive predictions were correct? \n",
    "    - the harmonic mean between precision & recall\n",
    "- The support is the number of occurence of the given class in your dataset"
   ]
  },
  {
   "cell_type": "markdown",
   "metadata": {},
   "source": [
    "### confusion matrix"
   ]
  },
  {
   "cell_type": "markdown",
   "metadata": {},
   "source": [
    "cm = pd.crosstab(\n",
    "    evaluate[\"actual\"]\n",
    "    , evaluate[\"predictions\"]\n",
    "    , rownames = [\"Actual\"]\n",
    "    , colnames = [\"Prediction\"]\n",
    "    , margins = True\n",
    ")\n",
    "cm"
   ]
  },
  {
   "cell_type": "code",
   "execution_count": 29,
   "metadata": {},
   "outputs": [
    {
     "data": {
      "image/png": "[encoded data removed]",
      "text/plain": [
       "<Figure size 432x288 with 2 Axes>"
      ]
     },
     "metadata": {
      "needs_background": "light"
     },
     "output_type": "display_data"
    }
   ],
   "source": [
    "from sklearn.metrics import plot_confusion_matrix\n",
    "\n",
    "disp = plot_confusion_matrix(clf, X_test,y_test, cmap=plt.cm.Blues,display_labels=dict(Not_a_False_Positive=0,false_positive=1))\n",
    "disp.ax_.set_title(\"false flag - confusion matrix\")\n",
    "plt.show()"
   ]
  },
  {
   "cell_type": "markdown",
   "metadata": {},
   "source": [
    "### ROC curve"
   ]
  },
  {
   "cell_type": "code",
   "execution_count": 31,
   "metadata": {},
   "outputs": [
    {
     "name": "stdout",
     "output_type": "stream",
     "text": [
      "0.9401376055042201\n"
     ]
    }
   ],
   "source": [
    "# Import necessary modules\n",
    "from sklearn.metrics import auc, roc_curve\n",
    "\n",
    "false_positive_rate, true_positive_rate, thresholds = roc_curve(evaluate[\"actual\"] , evaluate[\"predictions\"])\n",
    "roc_auc = auc(false_positive_rate, true_positive_rate)\n",
    "print (roc_auc)"
   ]
  },
  {
   "cell_type": "code",
   "execution_count": 32,
   "metadata": {},
   "outputs": [
    {
     "data": {
      "image/png": "[encoded data removed]",
      "text/plain": [
       "<Figure size 432x288 with 1 Axes>"
      ]
     },
     "metadata": {
      "needs_background": "light"
     },
     "output_type": "display_data"
    }
   ],
   "source": [
    "# Compute predicted probabilities: y_pred_prob\n",
    "y_pred_prob = clf.predict_proba(X_test)[:,1]\n",
    "\n",
    "# Generate ROC curve values: fpr, tpr, thresholds\n",
    "fpr, tpr, thresholds = roc_curve(y_test, y_pred_prob)\n",
    "\n",
    "# Plot ROC curve\n",
    "plt.plot([0, 1], [0, 1], 'k--')\n",
    "plt.plot(fpr, tpr, label='AUC = %0.2f'% roc_auc)\n",
    "plt.legend(loc='lower right')\n",
    "plt.xlabel('False Positive Rate')\n",
    "plt.ylabel('True Positive Rate')\n",
    "plt.title('ROC Curve')\n",
    "plt.show()"
   ]
  },
  {
   "cell_type": "markdown",
   "metadata": {},
   "source": [
    "## feature importance"
   ]
  },
  {
   "cell_type": "code",
   "execution_count": 33,
   "metadata": {},
   "outputs": [
    {
     "data": {
      "image/png": "[encoded data removed]",
      "text/plain": [
       "<Figure size 720x720 with 1 Axes>"
      ]
     },
     "metadata": {
      "needs_background": "light"
     },
     "output_type": "display_data"
    },
    {
     "data": {
      "text/html": [
       "<div>\n",
       "<style scoped>\n",
       "    .dataframe tbody tr th:only-of-type {\n",
       "        vertical-align: middle;\n",
       "    }\n",
       "\n",
       "    .dataframe tbody tr th {\n",
       "        vertical-align: top;\n",
       "    }\n",
       "\n",
       "    .dataframe thead th {\n",
       "        text-align: right;\n",
       "    }\n",
       "</style>\n",
       "<table border=\"1\" class=\"dataframe\">\n",
       "  <thead>\n",
       "    <tr style=\"text-align: right;\">\n",
       "      <th></th>\n",
       "      <th>feature</th>\n",
       "      <th>importance</th>\n",
       "      <th>cum_sum</th>\n",
       "    </tr>\n",
       "  </thead>\n",
       "  <tbody>\n",
       "    <tr>\n",
       "      <td>0</td>\n",
       "      <td>p14_event_type</td>\n",
       "      <td>0.269505</td>\n",
       "      <td>0.269505</td>\n",
       "    </tr>\n",
       "    <tr>\n",
       "      <td>1</td>\n",
       "      <td>p14_end_of_event_10_seconds_seconds_from_start...</td>\n",
       "      <td>0.190552</td>\n",
       "      <td>0.460057</td>\n",
       "    </tr>\n",
       "    <tr>\n",
       "      <td>2</td>\n",
       "      <td>p14_flap_position_at_start_of_event_deg_ted</td>\n",
       "      <td>0.179592</td>\n",
       "      <td>0.639649</td>\n",
       "    </tr>\n",
       "    <tr>\n",
       "      <td>3</td>\n",
       "      <td>p14_start_of_event_10_seconds_seconds_from_sta...</td>\n",
       "      <td>0.083005</td>\n",
       "      <td>0.722654</td>\n",
       "    </tr>\n",
       "    <tr>\n",
       "      <td>4</td>\n",
       "      <td>p14_error_b_w_gmt_and_recorded_time_around_eve...</td>\n",
       "      <td>0.061821</td>\n",
       "      <td>0.784475</td>\n",
       "    </tr>\n",
       "    <tr>\n",
       "      <td>5</td>\n",
       "      <td>p14_estimated_nav_error_at_start_of_event_nm</td>\n",
       "      <td>0.061816</td>\n",
       "      <td>0.846292</td>\n",
       "    </tr>\n",
       "    <tr>\n",
       "      <td>6</td>\n",
       "      <td>p14_speed_brake_handle_position_at_start_of_ev...</td>\n",
       "      <td>0.060215</td>\n",
       "      <td>0.906506</td>\n",
       "    </tr>\n",
       "    <tr>\n",
       "      <td>7</td>\n",
       "      <td>p14_flap_handle_position_at_start_of_event</td>\n",
       "      <td>0.054267</td>\n",
       "      <td>0.960773</td>\n",
       "    </tr>\n",
       "    <tr>\n",
       "      <td>8</td>\n",
       "      <td>p14_data_dropouts_seconds</td>\n",
       "      <td>0.020726</td>\n",
       "      <td>0.981499</td>\n",
       "    </tr>\n",
       "    <tr>\n",
       "      <td>9</td>\n",
       "      <td>p14_severity</td>\n",
       "      <td>0.018501</td>\n",
       "      <td>1.000000</td>\n",
       "    </tr>\n",
       "    <tr>\n",
       "      <td>10</td>\n",
       "      <td>p14_standard_deviation_of_sample_rate_of_gmt_e...</td>\n",
       "      <td>0.000000</td>\n",
       "      <td>1.000000</td>\n",
       "    </tr>\n",
       "  </tbody>\n",
       "</table>\n",
       "</div>"
      ],
      "text/plain": [
       "                                              feature  importance   cum_sum\n",
       "0                                      p14_event_type    0.269505  0.269505\n",
       "1   p14_end_of_event_10_seconds_seconds_from_start...    0.190552  0.460057\n",
       "2         p14_flap_position_at_start_of_event_deg_ted    0.179592  0.639649\n",
       "3   p14_start_of_event_10_seconds_seconds_from_sta...    0.083005  0.722654\n",
       "4   p14_error_b_w_gmt_and_recorded_time_around_eve...    0.061821  0.784475\n",
       "5        p14_estimated_nav_error_at_start_of_event_nm    0.061816  0.846292\n",
       "6   p14_speed_brake_handle_position_at_start_of_ev...    0.060215  0.906506\n",
       "7          p14_flap_handle_position_at_start_of_event    0.054267  0.960773\n",
       "8                           p14_data_dropouts_seconds    0.020726  0.981499\n",
       "9                                        p14_severity    0.018501  1.000000\n",
       "10  p14_standard_deviation_of_sample_rate_of_gmt_e...    0.000000  1.000000"
      ]
     },
     "metadata": {},
     "output_type": "display_data"
    },
    {
     "name": "stdout",
     "output_type": "stream",
     "text": [
      "Original number of columns: 11\n"
     ]
    }
   ],
   "source": [
    "n_records = 15\n",
    "\n",
    "importances = pd.DataFrame({\n",
    "    \"feature\": features,\n",
    "    \"importance\": clf.feature_importances_\n",
    "})\n",
    "importances = importances.sort_values(\"importance\", ascending=False).reset_index(drop=True)\n",
    "importances[\"cum_sum\"] = np.cumsum(importances.importance)\n",
    "\n",
    "fig, ax = plt.subplots(figsize=(10, 10))\n",
    "\n",
    "sns.barplot(importances[:n_records].importance, importances[:n_records].feature, color='#E74C3C')\n",
    "\n",
    "plt.show()\n",
    "\n",
    "display(importances[:n_records])\n",
    "print(f\"Original number of columns: {len(features)}\")"
   ]
  },
  {
   "cell_type": "markdown",
   "metadata": {},
   "source": [
    "## Create the explainer"
   ]
  },
  {
   "cell_type": "code",
   "execution_count": 34,
   "metadata": {},
   "outputs": [],
   "source": [
    "explainer = lime.lime_tabular.LimeTabularExplainer(X_train\n",
    "                                                   , feature_names= features\n",
    "                                                   , class_names= target\n",
    "                                                   , mode='regression'\n",
    "                                                   , discretize_continuous=True\n",
    "                                                   )"
   ]
  },
  {
   "cell_type": "code",
   "execution_count": 68,
   "metadata": {
    "scrolled": false
   },
   "outputs": [],
   "source": [
    "#np.random.seed(1)\n",
    "#i = np.random.randint(0, X_test.shape[1])\n",
    "exp = explainer.explain_instance(X_test[0], clf.predict_proba, num_features=7)\n",
    "#exp.show_in_notebook(show_table=True, show_all=False)"
   ]
  },
  {
   "cell_type": "code",
   "execution_count": 69,
   "metadata": {},
   "outputs": [
    {
     "data": {
      "image/png": "[encoded data removed]",
      "text/plain": [
       "<Figure size 432x288 with 1 Axes>"
      ]
     },
     "metadata": {
      "needs_background": "light"
     },
     "output_type": "display_data"
    }
   ],
   "source": [
    "exp.as_pyplot_figure()\n",
    "plt.show()"
   ]
  },
  {
   "cell_type": "code",
   "execution_count": 70,
   "metadata": {},
   "outputs": [
    {
     "data": {
      "text/html": [
       "<div>\n",
       "<style scoped>\n",
       "    .dataframe tbody tr th:only-of-type {\n",
       "        vertical-align: middle;\n",
       "    }\n",
       "\n",
       "    .dataframe tbody tr th {\n",
       "        vertical-align: top;\n",
       "    }\n",
       "\n",
       "    .dataframe thead th {\n",
       "        text-align: right;\n",
       "    }\n",
       "</style>\n",
       "<table border=\"1\" class=\"dataframe\">\n",
       "  <thead>\n",
       "    <tr style=\"text-align: right;\">\n",
       "      <th></th>\n",
       "      <th>Feature</th>\n",
       "      <th>Value</th>\n",
       "    </tr>\n",
       "  </thead>\n",
       "  <tbody>\n",
       "    <tr>\n",
       "      <td>0</td>\n",
       "      <td>p14_event_type &lt;= -0.95</td>\n",
       "      <td>-0.190666</td>\n",
       "    </tr>\n",
       "    <tr>\n",
       "      <td>1</td>\n",
       "      <td>p14_error_b_w_gmt_and_recorded_time_around_eve...</td>\n",
       "      <td>-0.120441</td>\n",
       "    </tr>\n",
       "    <tr>\n",
       "      <td>2</td>\n",
       "      <td>p14_severity &lt;= -0.25</td>\n",
       "      <td>-0.100680</td>\n",
       "    </tr>\n",
       "    <tr>\n",
       "      <td>3</td>\n",
       "      <td>-0.56 &lt; p14_end_of_event_10_seconds_seconds_fr...</td>\n",
       "      <td>-0.038673</td>\n",
       "    </tr>\n",
       "    <tr>\n",
       "      <td>4</td>\n",
       "      <td>-0.41 &lt; p14_flap_position_at_start_of_event_de...</td>\n",
       "      <td>0.038161</td>\n",
       "    </tr>\n",
       "    <tr>\n",
       "      <td>5</td>\n",
       "      <td>-0.76 &lt; p14_flap_handle_position_at_start_of_e...</td>\n",
       "      <td>0.035805</td>\n",
       "    </tr>\n",
       "    <tr>\n",
       "      <td>6</td>\n",
       "      <td>p14_speed_brake_handle_position_at_start_of_ev...</td>\n",
       "      <td>0.029678</td>\n",
       "    </tr>\n",
       "  </tbody>\n",
       "</table>\n",
       "</div>"
      ],
      "text/plain": [
       "                                             Feature     Value\n",
       "0                            p14_event_type <= -0.95 -0.190666\n",
       "1  p14_error_b_w_gmt_and_recorded_time_around_eve... -0.120441\n",
       "2                              p14_severity <= -0.25 -0.100680\n",
       "3  -0.56 < p14_end_of_event_10_seconds_seconds_fr... -0.038673\n",
       "4  -0.41 < p14_flap_position_at_start_of_event_de...  0.038161\n",
       "5  -0.76 < p14_flap_handle_position_at_start_of_e...  0.035805\n",
       "6  p14_speed_brake_handle_position_at_start_of_ev...  0.029678"
      ]
     },
     "execution_count": 70,
     "metadata": {},
     "output_type": "execute_result"
    }
   ],
   "source": [
    "pd.DataFrame(exp.as_list(label=1), columns=['Feature', 'Value'])\n"
   ]
  },
  {
   "cell_type": "code",
   "execution_count": null,
   "metadata": {},
   "outputs": [],
   "source": []
  }
 ],
 "metadata": {
  "kernelspec": {
   "display_name": "Python 3",
   "language": "python",
   "name": "python3"
  },
  "language_info": {
   "codemirror_mode": {
    "name": "ipython",
    "version": 3
   },
   "file_extension": ".py",
   "mimetype": "text/x-python",
   "name": "python",
   "nbconvert_exporter": "python",
   "pygments_lexer": "ipython3",
   "version": "3.7.4"
  }
 },
 "nbformat": 4,
 "nbformat_minor": 2
}
