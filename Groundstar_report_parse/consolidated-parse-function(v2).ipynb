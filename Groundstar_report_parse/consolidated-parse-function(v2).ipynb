{
 "cells": [
  {
   "cell_type": "code",
   "execution_count": 2,
   "metadata": {},
   "outputs": [],
   "source": [
    "import pandas as pd\n",
    "import os"
   ]
  },
  {
   "cell_type": "code",
   "execution_count": 3,
   "metadata": {},
   "outputs": [
    {
     "data": {
      "text/plain": [
       "['ADL SCHED_FLIGHTS_DDO_Report_Summary.xls',\n",
       " 'BNE SCHED_FLIGHTS_DDO_Report_Summary.xls',\n",
       " 'MEL SCHED_FLIGHTS_DDO_Report_Summary.xls',\n",
       " 'SYD SCHED_FLIGHTS_DDO_Report_Summary.xls']"
      ]
     },
     "execution_count": 3,
     "metadata": {},
     "output_type": "execute_result"
    }
   ],
   "source": [
    "path = r'D:\\Users\\207634\\Toms workbook\\work\\Groundstar-file-parse'\n",
    "filename_list = []\n",
    "for i in os.listdir(path):\n",
    "    if os.path.isfile(os.path.join(path,i)) and 'SCHED_FLIGHTS_DDO_Report_Summary' in i:\n",
    "        filename_list.append(i)\n",
    "filename_list"
   ]
  },
  {
   "cell_type": "code",
   "execution_count": 4,
   "metadata": {},
   "outputs": [
    {
     "name": "stderr",
     "output_type": "stream",
     "text": [
      "D:\\Users\\207634\\AppData\\Local\\Continuum\\anaconda3\\lib\\site-packages\\ipykernel_launcher.py:1: FutureWarning: Sorting because non-concatenation axis is not aligned. A future version\n",
      "of pandas will change to not sort by default.\n",
      "\n",
      "To accept the future behavior, pass 'sort=False'.\n",
      "\n",
      "To retain the current behavior and silence the warning, pass 'sort=True'.\n",
      "\n",
      "  \"\"\"Entry point for launching an IPython kernel.\n"
     ]
    }
   ],
   "source": [
    "df = pd.concat([pd.read_excel(file, skiprows=2).assign(port=os.path.basename(file).split(' ')[0]) for file in filename_list])\n"
   ]
  },
  {
   "cell_type": "code",
   "execution_count": 37,
   "metadata": {},
   "outputs": [],
   "source": [
    "df_totals_syd = df[(df['Unnamed: 6']=='Total')&(df['port']=='SYD')]\n",
    "df_totals_mel = df[(df['Unnamed: 6']=='Total')&(df['port']=='MEL')]\n",
    "df_totals_adl = df[(df['Unnamed: 6']=='Total')&(df['port']=='ADL')]\n",
    "df_totals_bne = df[(df['Unnamed: 6']=='Total')&(df['port']=='BNE')]"
   ]
  },
  {
   "cell_type": "code",
   "execution_count": 76,
   "metadata": {},
   "outputs": [],
   "source": [
    "#df.columns.tolist()\n",
    "\n",
    "columns_selected_ADL_BNE = [\n",
    " 'port',\n",
    " 'Date',\n",
    " #'Unnamed: 6',\n",
    " 'Unnamed: 8',\n",
    " 'Unnamed: 13',\n",
    " #'Unnamed: 18',\n",
    " 'Unnamed: 19',\n",
    " 'Total Number of DDO Performed',\n",
    " #'Unnamed: 30',\n",
    " #'Unnamed: 35',\n",
    " #'Unnamed: 39',\n",
    " 'Unnamed: 40',\n",
    " #'Unnamed: 43',\n",
    " 'Unnamed: 44',\n",
    " 'Unnamed: 48'\n",
    "]\n",
    "\n",
    "columns_selected_SYD_MEL = [\n",
    " 'port',\n",
    " 'Date',\n",
    " #'Unnamed: 6',\n",
    " 'Unnamed: 8',\n",
    " 'Unnamed: 13',\n",
    " #'Total Number of DDO Performed',\n",
    " 'Unnamed: 18',\n",
    " #'Unnamed: 19',\n",
    " 'Unnamed: 30',\n",
    " #'Unnamed: 35',\n",
    " 'Unnamed: 39',\n",
    " #'Unnamed: 40',\n",
    " 'Unnamed: 43',\n",
    " #'Unnamed: 44',\n",
    " 'Unnamed: 48'\n",
    "]\n",
    "\n",
    "renamed_cols = [\n",
    "    'Port'\n",
    "    ,'Date'\n",
    "    #,'Type'\n",
    "    ,'Total Arrivals'\n",
    "    ,'Total Departures'\n",
    "    ,'Total number of DDO Opportunities'\n",
    "    ,'DDO Opportunities on DDO-enabled gates'\n",
    "    #,'Total Number of DDO Performed'\n",
    "    ,'# Departed <STD'\n",
    "    ,'# Departed with 15 min STD'\n",
    "    ,'# Departed >15 min  STD'\n",
    "\n",
    "]\n",
    "\n",
    "SYD = df_totals_syd[columns_selected_SYD_MEL]\n",
    "MEL = df_totals_mel[columns_selected_SYD_MEL]\n",
    "ADL = df_totals_adl[columns_selected_ADL_BNE]\n",
    "BNE = df_totals_bne[columns_selected_ADL_BNE]"
   ]
  },
  {
   "cell_type": "code",
   "execution_count": 77,
   "metadata": {},
   "outputs": [
    {
     "data": {
      "text/html": [
       "<div>\n",
       "<style scoped>\n",
       "    .dataframe tbody tr th:only-of-type {\n",
       "        vertical-align: middle;\n",
       "    }\n",
       "\n",
       "    .dataframe tbody tr th {\n",
       "        vertical-align: top;\n",
       "    }\n",
       "\n",
       "    .dataframe thead th {\n",
       "        text-align: right;\n",
       "    }\n",
       "</style>\n",
       "<table border=\"1\" class=\"dataframe\">\n",
       "  <thead>\n",
       "    <tr style=\"text-align: right;\">\n",
       "      <th></th>\n",
       "      <th>Port</th>\n",
       "      <th>Date</th>\n",
       "      <th>Total Arrivals</th>\n",
       "      <th>Total Departures</th>\n",
       "      <th>Total number of DDO Opportunities</th>\n",
       "      <th>DDO Opportunities on DDO-enabled gates</th>\n",
       "      <th># Departed &lt;STD</th>\n",
       "      <th># Departed with 15 min STD</th>\n",
       "      <th># Departed &gt;15 min  STD</th>\n",
       "    </tr>\n",
       "  </thead>\n",
       "  <tbody>\n",
       "    <tr>\n",
       "      <td>3</td>\n",
       "      <td>SYD</td>\n",
       "      <td>2020-08-31 00:00:00</td>\n",
       "      <td>2</td>\n",
       "      <td>2</td>\n",
       "      <td>2</td>\n",
       "      <td>1.5</td>\n",
       "      <td>1.0</td>\n",
       "      <td>1.0</td>\n",
       "      <td>0.0</td>\n",
       "    </tr>\n",
       "  </tbody>\n",
       "</table>\n",
       "</div>"
      ],
      "text/plain": [
       "  Port                 Date Total Arrivals Total Departures  \\\n",
       "3  SYD  2020-08-31 00:00:00              2                2   \n",
       "\n",
       "  Total number of DDO Opportunities DDO Opportunities on DDO-enabled gates  \\\n",
       "3                                 2                                    1.5   \n",
       "\n",
       "   # Departed <STD  # Departed with 15 min STD  # Departed >15 min  STD  \n",
       "3              1.0                         1.0                      0.0  "
      ]
     },
     "execution_count": 77,
     "metadata": {},
     "output_type": "execute_result"
    }
   ],
   "source": [
    "SYD.columns = renamed_cols\n",
    "SYD"
   ]
  },
  {
   "cell_type": "code",
   "execution_count": 78,
   "metadata": {},
   "outputs": [
    {
     "data": {
      "text/html": [
       "<div>\n",
       "<style scoped>\n",
       "    .dataframe tbody tr th:only-of-type {\n",
       "        vertical-align: middle;\n",
       "    }\n",
       "\n",
       "    .dataframe tbody tr th {\n",
       "        vertical-align: top;\n",
       "    }\n",
       "\n",
       "    .dataframe thead th {\n",
       "        text-align: right;\n",
       "    }\n",
       "</style>\n",
       "<table border=\"1\" class=\"dataframe\">\n",
       "  <thead>\n",
       "    <tr style=\"text-align: right;\">\n",
       "      <th></th>\n",
       "      <th>Port</th>\n",
       "      <th>Date</th>\n",
       "      <th>Total Arrivals</th>\n",
       "      <th>Total Departures</th>\n",
       "      <th>Total number of DDO Opportunities</th>\n",
       "      <th>DDO Opportunities on DDO-enabled gates</th>\n",
       "      <th># Departed &lt;STD</th>\n",
       "      <th># Departed with 15 min STD</th>\n",
       "      <th># Departed &gt;15 min  STD</th>\n",
       "    </tr>\n",
       "  </thead>\n",
       "  <tbody>\n",
       "  </tbody>\n",
       "</table>\n",
       "</div>"
      ],
      "text/plain": [
       "Empty DataFrame\n",
       "Columns: [Port, Date, Total Arrivals, Total Departures, Total number of DDO Opportunities, DDO Opportunities on DDO-enabled gates, # Departed <STD, # Departed with 15 min STD, # Departed >15 min  STD]\n",
       "Index: []"
      ]
     },
     "execution_count": 78,
     "metadata": {},
     "output_type": "execute_result"
    }
   ],
   "source": [
    "MEL.columns = renamed_cols\n",
    "MEL"
   ]
  },
  {
   "cell_type": "code",
   "execution_count": 79,
   "metadata": {
    "scrolled": true
   },
   "outputs": [
    {
     "data": {
      "text/html": [
       "<div>\n",
       "<style scoped>\n",
       "    .dataframe tbody tr th:only-of-type {\n",
       "        vertical-align: middle;\n",
       "    }\n",
       "\n",
       "    .dataframe tbody tr th {\n",
       "        vertical-align: top;\n",
       "    }\n",
       "\n",
       "    .dataframe thead th {\n",
       "        text-align: right;\n",
       "    }\n",
       "</style>\n",
       "<table border=\"1\" class=\"dataframe\">\n",
       "  <thead>\n",
       "    <tr style=\"text-align: right;\">\n",
       "      <th></th>\n",
       "      <th>Port</th>\n",
       "      <th>Date</th>\n",
       "      <th>Total Arrivals</th>\n",
       "      <th>Total Departures</th>\n",
       "      <th>Total number of DDO Opportunities</th>\n",
       "      <th>DDO Opportunities on DDO-enabled gates</th>\n",
       "      <th># Departed &lt;STD</th>\n",
       "      <th># Departed with 15 min STD</th>\n",
       "      <th># Departed &gt;15 min  STD</th>\n",
       "    </tr>\n",
       "  </thead>\n",
       "  <tbody>\n",
       "    <tr>\n",
       "      <td>4</td>\n",
       "      <td>ADL</td>\n",
       "      <td>2020-08-31 00:00:00</td>\n",
       "      <td>5</td>\n",
       "      <td>5</td>\n",
       "      <td>5.0</td>\n",
       "      <td>3.5</td>\n",
       "      <td>1.0</td>\n",
       "      <td>2.0</td>\n",
       "      <td>0.0</td>\n",
       "    </tr>\n",
       "  </tbody>\n",
       "</table>\n",
       "</div>"
      ],
      "text/plain": [
       "  Port                 Date Total Arrivals Total Departures  \\\n",
       "4  ADL  2020-08-31 00:00:00              5                5   \n",
       "\n",
       "   Total number of DDO Opportunities  DDO Opportunities on DDO-enabled gates  \\\n",
       "4                                5.0                                     3.5   \n",
       "\n",
       "   # Departed <STD  # Departed with 15 min STD  # Departed >15 min  STD  \n",
       "4              1.0                         2.0                      0.0  "
      ]
     },
     "execution_count": 79,
     "metadata": {},
     "output_type": "execute_result"
    }
   ],
   "source": [
    "ADL.columns = renamed_cols\n",
    "ADL"
   ]
  },
  {
   "cell_type": "code",
   "execution_count": 80,
   "metadata": {},
   "outputs": [
    {
     "data": {
      "text/html": [
       "<div>\n",
       "<style scoped>\n",
       "    .dataframe tbody tr th:only-of-type {\n",
       "        vertical-align: middle;\n",
       "    }\n",
       "\n",
       "    .dataframe tbody tr th {\n",
       "        vertical-align: top;\n",
       "    }\n",
       "\n",
       "    .dataframe thead th {\n",
       "        text-align: right;\n",
       "    }\n",
       "</style>\n",
       "<table border=\"1\" class=\"dataframe\">\n",
       "  <thead>\n",
       "    <tr style=\"text-align: right;\">\n",
       "      <th></th>\n",
       "      <th>Port</th>\n",
       "      <th>Date</th>\n",
       "      <th>Total Arrivals</th>\n",
       "      <th>Total Departures</th>\n",
       "      <th>Total number of DDO Opportunities</th>\n",
       "      <th>DDO Opportunities on DDO-enabled gates</th>\n",
       "      <th># Departed &lt;STD</th>\n",
       "      <th># Departed with 15 min STD</th>\n",
       "      <th># Departed &gt;15 min  STD</th>\n",
       "    </tr>\n",
       "  </thead>\n",
       "  <tbody>\n",
       "    <tr>\n",
       "      <td>4</td>\n",
       "      <td>BNE</td>\n",
       "      <td>2020-08-31 00:00:00</td>\n",
       "      <td>10</td>\n",
       "      <td>10</td>\n",
       "      <td>10.0</td>\n",
       "      <td>5.5</td>\n",
       "      <td>6.0</td>\n",
       "      <td>2.0</td>\n",
       "      <td>1.0</td>\n",
       "    </tr>\n",
       "  </tbody>\n",
       "</table>\n",
       "</div>"
      ],
      "text/plain": [
       "  Port                 Date Total Arrivals Total Departures  \\\n",
       "4  BNE  2020-08-31 00:00:00             10               10   \n",
       "\n",
       "   Total number of DDO Opportunities  DDO Opportunities on DDO-enabled gates  \\\n",
       "4                               10.0                                     5.5   \n",
       "\n",
       "   # Departed <STD  # Departed with 15 min STD  # Departed >15 min  STD  \n",
       "4              6.0                         2.0                      1.0  "
      ]
     },
     "execution_count": 80,
     "metadata": {},
     "output_type": "execute_result"
    }
   ],
   "source": [
    "BNE.columns = renamed_cols\n",
    "BNE"
   ]
  },
  {
   "cell_type": "code",
   "execution_count": 81,
   "metadata": {},
   "outputs": [
    {
     "data": {
      "text/html": [
       "<div>\n",
       "<style scoped>\n",
       "    .dataframe tbody tr th:only-of-type {\n",
       "        vertical-align: middle;\n",
       "    }\n",
       "\n",
       "    .dataframe tbody tr th {\n",
       "        vertical-align: top;\n",
       "    }\n",
       "\n",
       "    .dataframe thead th {\n",
       "        text-align: right;\n",
       "    }\n",
       "</style>\n",
       "<table border=\"1\" class=\"dataframe\">\n",
       "  <thead>\n",
       "    <tr style=\"text-align: right;\">\n",
       "      <th></th>\n",
       "      <th>Port</th>\n",
       "      <th>Date</th>\n",
       "      <th>Total Arrivals</th>\n",
       "      <th>Total Departures</th>\n",
       "      <th>Total number of DDO Opportunities</th>\n",
       "      <th>DDO Opportunities on DDO-enabled gates</th>\n",
       "      <th># Departed &lt;STD</th>\n",
       "      <th># Departed with 15 min STD</th>\n",
       "      <th># Departed &gt;15 min  STD</th>\n",
       "    </tr>\n",
       "  </thead>\n",
       "  <tbody>\n",
       "    <tr>\n",
       "      <td>3</td>\n",
       "      <td>SYD</td>\n",
       "      <td>2020-08-31 00:00:00</td>\n",
       "      <td>2</td>\n",
       "      <td>2</td>\n",
       "      <td>2</td>\n",
       "      <td>1.5</td>\n",
       "      <td>1.0</td>\n",
       "      <td>1.0</td>\n",
       "      <td>0.0</td>\n",
       "    </tr>\n",
       "    <tr>\n",
       "      <td>4</td>\n",
       "      <td>ADL</td>\n",
       "      <td>2020-08-31 00:00:00</td>\n",
       "      <td>5</td>\n",
       "      <td>5</td>\n",
       "      <td>5</td>\n",
       "      <td>3.5</td>\n",
       "      <td>1.0</td>\n",
       "      <td>2.0</td>\n",
       "      <td>0.0</td>\n",
       "    </tr>\n",
       "    <tr>\n",
       "      <td>4</td>\n",
       "      <td>BNE</td>\n",
       "      <td>2020-08-31 00:00:00</td>\n",
       "      <td>10</td>\n",
       "      <td>10</td>\n",
       "      <td>10</td>\n",
       "      <td>5.5</td>\n",
       "      <td>6.0</td>\n",
       "      <td>2.0</td>\n",
       "      <td>1.0</td>\n",
       "    </tr>\n",
       "  </tbody>\n",
       "</table>\n",
       "</div>"
      ],
      "text/plain": [
       "  Port                 Date Total Arrivals Total Departures  \\\n",
       "3  SYD  2020-08-31 00:00:00              2                2   \n",
       "4  ADL  2020-08-31 00:00:00              5                5   \n",
       "4  BNE  2020-08-31 00:00:00             10               10   \n",
       "\n",
       "  Total number of DDO Opportunities DDO Opportunities on DDO-enabled gates  \\\n",
       "3                                 2                                    1.5   \n",
       "4                                 5                                    3.5   \n",
       "4                                10                                    5.5   \n",
       "\n",
       "   # Departed <STD  # Departed with 15 min STD  # Departed >15 min  STD  \n",
       "3              1.0                         1.0                      0.0  \n",
       "4              1.0                         2.0                      0.0  \n",
       "4              6.0                         2.0                      1.0  "
      ]
     },
     "execution_count": 81,
     "metadata": {},
     "output_type": "execute_result"
    }
   ],
   "source": [
    "output_df = SYD.append(ADL).append(MEL).append(BNE)\n",
    "\n",
    "output_df"
   ]
  },
  {
   "cell_type": "code",
   "execution_count": null,
   "metadata": {},
   "outputs": [],
   "source": []
  }
 ],
 "metadata": {
  "kernelspec": {
   "display_name": "Python 3",
   "language": "python",
   "name": "python3"
  },
  "language_info": {
   "codemirror_mode": {
    "name": "ipython",
    "version": 3
   },
   "file_extension": ".py",
   "mimetype": "text/x-python",
   "name": "python",
   "nbconvert_exporter": "python",
   "pygments_lexer": "ipython3",
   "version": "3.7.4"
  }
 },
 "nbformat": 4,
 "nbformat_minor": 2
}
